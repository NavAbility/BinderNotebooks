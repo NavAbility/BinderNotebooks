{
  "cells": [
    {
      "cell_type": "markdown",
      "metadata": {},
      "source": [
        "# Dummy\n",
        "Just a placeholder."
      ]
    },
    {
      "cell_type": "code",
      "execution_count": 1,
      "metadata": {},
      "outputs": [{
          "data": {
            "text/plain": "Dummy"
          },
          "output_type":"display_data"
      }],
      "source": [
        "# Create text output\n"
      ]
    },
    {
      "cell_type": "code",
      "execution_count": 1,
      "metadata": {},
      "outputs": [{
          "data": {
            "text/plain": "DummyError"
          },
          "ename":"DummyError",
          "evalue":"Placeholder for an error",
          "name":"",
          "traceback": [],
          "text": [
            "Dummy",
            "Text"
          ],
          "output_type":"display_data"
      }],
      "source": [
        "# Create error output\n"
      ]
    },
    {
      "cell_type": "code",
      "execution_count": 1,
      "metadata": {},
      "outputs": [{
          "data": {
            "text/markdown": "Dummy"
          },
          "name":"",
          "text": [
            "Dummy",
            "Markdown"
          ],
          "output_type":"display_data"
      }],
      "source": [
        "# Create markdown output\n"
      ]
    },
    {
      "cell_type": "code",
      "execution_count": 1,
      "metadata": {},
      "outputs": [],
      "source": [
        "# TODO: Create svg output\n"
      ]
    },
    {
      "cell_type": "code",
      "execution_count": 1,
      "metadata": {},
      "outputs": [
        {
          "data": {
            "image/png": "[encoded data removed]"
          }
        }
      ],
      "source": [
        "# Create png output\n"
      ]
    }
  ],
  "metadata": {
    "kernelspec": {
      "display_name": "Julia 1.7.2",
      "language": "julia",
      "name": "julia-1.7"
    },
    "language_info": {
      "file_extension": ".jl",
      "mimetype": "application/julia",
      "name": "julia",
      "version": "1.7.2"
    },
    "orig_nbformat": 4
  },
  "nbformat": 4,
  "nbformat_minor": 2
}