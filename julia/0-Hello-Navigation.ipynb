{
 "cells": [
  {
   "cell_type": "markdown",
   "id": "3a7adecd-ec6a-4a2b-a7aa-1be5ffeacffc",
   "metadata": {},
   "source": [
    "# NavAbility Julia SDK Tutorial\n",
    "\n",
    "Welcome the NavAbility Julia tutorial."
   ]
  },
  {
   "cell_type": "markdown",
   "id": "d17f8d79-dada-4a50-8116-da7ebd2ad6a7",
   "metadata": {},
   "source": [
    "## Installing the SDK\n",
    "\n",
    "You won't need to do this if you're running the JupyterHub example, but in the future you can add the NavAbilitySDK with the following command inside a Julia REPL:\n",
    "\n",
    "```julia\n",
    "using Pkg;\n",
    "Pkg.add(\"NavAbilitySDK\")\n",
    "```"
   ]
  },
  {
   "cell_type": "markdown",
   "id": "8e3b77a1-bc49-42d3-b2ac-57c962366637",
   "metadata": {},
   "source": [
    "## Example"
   ]
  },
  {
   "cell_type": "code",
   "execution_count": 5,
   "id": "2cca8d7c-a440-49a5-974b-9ccd6067e053",
   "metadata": {},
   "outputs": [],
   "source": [
    "using NavAbilitySDK"
   ]
  },
  {
   "cell_type": "code",
   "execution_count": 10,
   "id": "2203cb1c-f22f-4fd6-a561-98bccb21d65e",
   "metadata": {},
   "outputs": [],
   "source": [
    "@info \"Let's create a connection to NavAbility API\"\n",
    "nvaClient = NavAbilityHttpsClient(\"https://api.d1.navability.io\")\n",
    "\n",
    "@info \"Let's define who is using NavAbility\"\n",
    "context = Client(\"Guest\", \"ICRA2022\", \"HelloNavigation\")"
   ]
  },
  {
   "cell_type": "code",
   "execution_count": 11,
   "id": "3f766ae3-7b55-4fbc-9277-f0bcd8d835f1",
   "metadata": {},
   "outputs": [],
   "source": [
    "x0 = Variable(\"x0\", \"RoME.Pose2\") # TODO: Use VariableType Enum\n",
    "addVariable(nvaClient,context,x0)\n",
    "\n",
    "@info \"Add robot's end point: x1\"\n",
    "x1 = Variable(\"x1\", \"RoME.Pose2\") # TODO: Use VariableType Enum\n",
    "addVariable(nvaClient,context,x1)"
   ]
  },
  {
   "cell_type": "code",
   "execution_count": 12,
   "id": "bac1a970-e585-402e-b945-7f1f383a24e1",
   "metadata": {},
   "outputs": [
    {
     "data": {
      "text/plain": [
       "2-element Vector{String}:\n",
       " \"x1\"\n",
       " \"x0\""
      ]
     },
     "execution_count": 12,
     "metadata": {},
     "output_type": "execute_result"
    }
   ],
   "source": [
    "ls(nvaClient,context)"
   ]
  },
  {
   "cell_type": "markdown",
   "id": "03b131e5",
   "metadata": {},
   "source": [
    "## Visualization\n",
    "\n",
    "Now go to the [NavAbility Factorgraph Visualizer](https://app.navability.io/cloud/graph?userId=Guest1&robotId=ICRA2022&sessionId=HelloNavigation) with this session to see your data. FYI this is https://app.navability.io/cloud/graph?userId=Guest1&robotId=ICRA2022&sessionId=HelloNavigation"
   ]
  },
  {
   "cell_type": "markdown",
   "id": "c32ff7e6",
   "metadata": {},
   "source": [
    "We've embedded this for convenience:\n",
    "\n",
    "%%html\n",
    "<iframe src=\"https://app.navability.io/cloud/graph?userId=Guest1&robotId=ICRA2022&sessionId=HelloNavigation\" width=\"1200\" height=\"1000\"></iframe>"
   ]
  }
 ],
 "metadata": {
  "kernelspec": {
   "display_name": "Julia 1.7.1",
   "language": "julia",
   "name": "julia-1.7"
  },
  "language_info": {
   "file_extension": ".jl",
   "mimetype": "application/julia",
   "name": "julia",
   "version": "1.7.1"
  }
 },
 "nbformat": 4,
 "nbformat_minor": 5
}
