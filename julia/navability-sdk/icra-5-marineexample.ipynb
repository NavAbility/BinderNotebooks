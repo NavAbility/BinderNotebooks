{
 "cells": [
  {
   "cell_type": "markdown",
   "metadata": {},
   "source": [
    "# UNDER CONSTRUCTION\n",
    "\n",
    "Please note this notebook is being developed for ICRA2022, please see earlier for tutorial notebooks that have been completed."
   ]
  },
  {
   "cell_type": "markdown",
   "metadata": {},
   "source": [
    "# Tutorial 5: Less Time Wrangling Data, More Time Understanding/Actioning it\n",
    "\n",
    "**API Version: JuliaLang NavAbilitySDK.jl**\n",
    "\n",
    "### Problem Statement\n",
    "\n",
    "Marine operations in harbor and populated river environments will see increased autonomy with major benefits for safety and efficacy, but the navigational environment poses a number of vital challenges.  In developing and testing proof-of-concept systems, four very specific challenges arose:\n",
    "- GPS data can occasionaly drop out, specifically when maneuvering under bridges or between tall structures;\n",
    "- Various perception sensors each perform really well with reasonable availability for seeing obstacles or aiding navigation, but no one sensor alone provides a home run solution;\n",
    "- Practical development testing an operations produces large amounts of recorded robot data, but the data quickly becomes overwhelming and difficult to action;\n",
    "- How to share / integrate measurement data and navigation between agents (human or autonomous), as well as with shore side operations;\n",
    "\n",
    "### The Solution\n",
    "\n",
    "Using the NavAbility Platform, we developed a case study for marine vehicle navigation which direclty addresses these problems.  The underlying SLAM solver is supported by NavAbility as open core software.  Links to the open source code and deeper discussions are available by following links from [the relevant Blog post](https://www.navability.io/2022/02/04/application-example-marine-vehicle-mapping-systems-for-collision-avoidance-and-planning/).\n",
    "\n",
    "This tutorial below shows how to interact with similar data quickly, efficiently, and with maximum ease.  This tutorial builds on previous tutorials that show how and why factor graphs are so important, as well other tutorials showing some of the robust (non-Gaussian) solver features that are available when building multi-sensor navigation and mapping systems that must combine challenging, ambiguous, and contradictory measurements and data cues.\n",
    "\n",
    "### The Value (Broader Application)\n",
    "\n",
    "- By being able to rapidly develop advanced multisensor perception, localization, and mapping ideas drastically reduces the cost and risk of introducing highly focussed autonomy/safety features into existing operations.\n",
    "- Access to both raw data and actionable SLAM results provides a major platform for machine learning tasks, such as training predictors that have either geometric of semantic relevance -- e.g. learning vehicle behaviors or better classifiers.\n",
    "- Access to a temporal/spatial database allows various sessions to be brought together with NavAbility's map merging technology -- this will be the discussed more in a future tutorial.\n",
    "\n",
    "By providing these features through platform and open community, NavAbility is working to give you access to the similar capabilities that marjor brands like Tesla or Amazon are developing privately."
   ]
  },
  {
   "cell_type": "markdown",
   "metadata": {},
   "source": [
    "## A Marine SLAM Solution\n",
    "\n",
    "The marine case study shows benefits value of persistent simultaneous localization and mapping SLAM solutions.\n",
    "```\n",
    "Raw Data --> NavAbility Platform SLAM Solving -----> Action / Visualize Results\n",
    "          ^                                    |\n",
    "          |                                    |\n",
    "        Enhance the  <--------------- Deeper processing of data\n",
    "        factor graph                    with previous resutls\n",
    "```"
   ]
  },
  {
   "cell_type": "markdown",
   "metadata": {},
   "source": [
    "## The Data is Alive and Available\n",
    "\n",
    "> Sketch how the data exists\n",
    "\n",
    "- Show that the factor graph exists\n",
    "- Show the size of the factor graph\n",
    "- Show which variables and factors are in the factor graph\n",
    "\n",
    "In the sections hereafter, you will learn more about which data is being stored in each of these graph nodes, how the SLAM solution is processed and why that is crucial for multisensor navigation, and how to immediately interact the data on the platform for youself. \n"
   ]
  },
  {
   "cell_type": "markdown",
   "metadata": {},
   "source": [
    "Load the necessary packages or accesing the data:"
   ]
  },
  {
   "cell_type": "code",
   "execution_count": 1,
   "metadata": {},
   "outputs": [],
   "source": [
    "using NavAbilitySDK"
   ]
  },
  {
   "cell_type": "markdown",
   "metadata": {},
   "source": [
    "## Read-only Data, `userId=examples@navability.io`\n",
    "\n",
    "### Robot:Session => MarineASV_ICRA2022:Tutorial5_1000\n",
    "\n",
    "Point the SDK context to the right location, but selecting the User:Robot:Session"
   ]
  },
  {
   "cell_type": "code",
   "execution_count": 2,
   "metadata": {},
   "outputs": [
    {
     "data": {
      "text/plain": [
       "Client: User=examples@navability.io, Robot=MarineASV_ICRA2022, Session=Tutorial5_1000"
      ]
     },
     "metadata": {},
     "output_type": "display_data"
    }
   ],
   "source": [
    "client = NavAbilityHttpsClient()\n",
    "\n",
    "# you need a unique userId:robotId, and can keep using that across all tutorials\n",
    "userId = \"examples@navability.io\"\n",
    "robotId = \"MarineASV_ICRA2022\"\n",
    "sessionId = \"Tutorial5_1000\"\n",
    "\n",
    "context = Client(userId, robotId, sessionId)"
   ]
  },
  {
   "cell_type": "markdown",
   "metadata": {},
   "source": [
    "### Variables in Session?\n",
    "\n",
    "To get a sense of scale of the dataset, we can look at the number of variables under this session:"
   ]
  },
  {
   "cell_type": "code",
   "execution_count": 3,
   "metadata": {},
   "outputs": [
    {
     "data": {
      "text/plain": [
       "58-element Vector{String}:\n",
       " \"x284\"\n",
       " \"x274\"\n",
       " \"x279\"\n",
       " \"x259\"\n",
       " \"x254\"\n",
       " \"x249\"\n",
       " \"x234\"\n",
       " \"x244\"\n",
       " \"x239\"\n",
       " \"x0\"\n",
       " ⋮\n",
       " \"x199\"\n",
       " \"x204\"\n",
       " \"x209\"\n",
       " \"x214\"\n",
       " \"x219\"\n",
       " \"x224\"\n",
       " \"x229\"\n",
       " \"x269\"\n",
       " \"x264\""
      ]
     },
     "metadata": {},
     "output_type": "display_data"
    }
   ],
   "source": [
    "lbls = listVariables(client, context) |> fetch"
   ]
  },
  {
   "cell_type": "code",
   "execution_count": 4,
   "metadata": {},
   "outputs": [
    {
     "data": {
      "text/plain": [
       "Dict{String, Any} with 9 entries:\n",
       "  \"label\"        => \"x284\"\n",
       "  \"solverData\"   => Any[Dict{String, Any}(\"dimval\"=>3, \"dontmargin\"=>false, \"Ba…\n",
       "  \"ppes\"         => Any[Dict{String, Any}(\"max\"=>Any[1580.4, 118.766, -0.061349…\n",
       "  \"smallData\"    => \"{}\"\n",
       "  \"variableType\" => \"RoME.Pose2\"\n",
       "  \"tags\"         => Any[\"VARIABLE\", \"POSE\"]\n",
       "  \"timestamp\"    => \"2022-05-22T05:21:51.440Z\"\n",
       "  \"_version\"     => \"0.18.3\"\n",
       "  \"solvable\"     => 1"
      ]
     },
     "metadata": {},
     "output_type": "display_data"
    }
   ],
   "source": [
    "v284 = getVariable(client, context, \"x284\") |> fetch"
   ]
  },
  {
   "cell_type": "markdown",
   "metadata": {},
   "source": [
    "### Are the Variables Initialized?"
   ]
  },
  {
   "cell_type": "code",
   "execution_count": 6,
   "metadata": {},
   "outputs": [
    {
     "data": {
      "text/plain": [
       "true"
      ]
     },
     "metadata": {},
     "output_type": "display_data"
    }
   ],
   "source": [
    "v284[\"solverData\"][1][\"initialized\"]"
   ]
  },
  {
   "cell_type": "markdown",
   "metadata": {},
   "source": [
    "### Is the Graph solved?"
   ]
  },
  {
   "cell_type": "code",
   "execution_count": 7,
   "metadata": {},
   "outputs": [
    {
     "data": {
      "text/plain": [
       "0"
      ]
     },
     "metadata": {},
     "output_type": "display_data"
    }
   ],
   "source": [
    "v284[\"solverData\"][1][\"solvedCount\"]"
   ]
  },
  {
   "cell_type": "markdown",
   "metadata": {},
   "source": [
    "## Large Data Blobs\n",
    "\n",
    "The solution supports storing large data blobs.\n",
    "\n",
    "### List Data Entries\n",
    "\n",
    "Data blobs can be associated with a variable: "
   ]
  },
  {
   "cell_type": "code",
   "execution_count": 11,
   "metadata": {},
   "outputs": [
    {
     "data": {
      "text/plain": [
       "78-element Vector{Any}:\n",
       " (label = \"IMG_CENTER_x11_21827\", id = \"731a3191-d912-4e59-bf3d-051984a699db\", mimeType = \"image/jpeg\")\n",
       " (label = \"IMG_CENTER_x11_21829\", id = \"9fb50f13-8273-4e2d-ad7f-758e437a4c04\", mimeType = \"image/jpeg\")\n",
       " (label = \"IMG_CENTER_x11_21837\", id = \"6937bf65-5d0f-483f-94d1-7d770cf7c386\", mimeType = \"image/jpeg\")\n",
       " (label = \"IMG_CENTER_x13_21867\", id = \"7dfc8d3e-2308-4433-b4fa-4ede3e1d2efe\", mimeType = \"image/jpeg\")\n",
       " (label = \"IMG_CENTER_x9_21806\", id = \"c818a98d-2f43-456e-ba84-801de998e298\", mimeType = \"image/jpeg\")\n",
       " (label = \"IMG_CENTER_x12_21851\", id = \"65b44fcf-8579-4694-9cd0-c3daa94defb5\", mimeType = \"image/jpeg\")\n",
       " (label = \"IMG_CENTER_x12_21848\", id = \"2130e1d2-487d-4da0-858b-b8b7853b9419\", mimeType = \"image/jpeg\")\n",
       " (label = \"IMG_CENTER_x13_21862\", id = \"e2d1dac0-e2a8-458f-9985-029908392072\", mimeType = \"image/jpeg\")\n",
       " (label = \"IMG_CENTER_x11_21840\", id = \"2e600ba9-a7b5-4d6f-ab70-4719a07e8292\", mimeType = \"image/jpeg\")\n",
       " (label = \"IMG_CENTER_x12_21852\", id = \"249100a9-544e-4b51-a2b5-6a0579d20d86\", mimeType = \"image/jpeg\")\n",
       " ⋮\n",
       " (label = \"IMG_CENTER_x13_21869\", id = \"6bf31ae5-0d56-43da-8e06-4ade57f5932b\", mimeType = \"image/jpeg\")\n",
       " (label = \"IMG_CENTER_x9_21808\", id = \"ca395f66-9b82-4650-b25a-ca5c1880de13\", mimeType = \"image/jpeg\")\n",
       " (label = \"IMG_CENTER_x12_21844\", id = \"25545d19-b1b0-449f-96b6-be99b50060a5\", mimeType = \"image/jpeg\")\n",
       " (label = \"IMG_CENTER_x11_21828\", id = \"1b69dc7d-180c-45cb-bf32-aa0af697a6ec\", mimeType = \"image/jpeg\")\n",
       " (label = \"IMG_CENTER_x13_21868\", id = \"b23497dd-afbd-402b-ba29-2f862f6e65b4\", mimeType = \"image/jpeg\")\n",
       " (label = \"IMG_CENTER_x10_21824\", id = \"b773ba29-2ecb-4e70-9b2c-81effb674f9e\", mimeType = \"image/jpeg\")\n",
       " (label = \"IMG_CENTER_x9_21807\", id = \"1ce9b147-ac8a-4894-bb71-c2fb239bbcfb\", mimeType = \"image/jpeg\")\n",
       " (label = \"IMG_CENTER_x10_21825\", id = \"a9503388-785c-4b98-9fe3-c9f4cf5b9c44\", mimeType = \"image/jpeg\")\n",
       " (label = \"IMG_CENTER_x13_21870\", id = \"070c4827-ba99-428c-962a-db0e979cc356\", mimeType = \"image/jpeg\")"
      ]
     },
     "metadata": {},
     "output_type": "display_data"
    }
   ],
   "source": [
    "NVA.listDataEntries(client, context, \"x9\") |> fetch"
   ]
  },
  {
   "cell_type": "markdown",
   "metadata": {},
   "source": [
    "## Bring your own Visualizer (BYOV)\n",
    "\n",
    "We expect most applications already have a dedicated visualizer techonology choice, and this is good.  The localization and mapping processing here is focussed on providing robust and distributed **results which can be incorporated into existing visualization frameworks**."
   ]
  },
  {
   "cell_type": "markdown",
   "metadata": {},
   "source": [
    "### Basic awareness, App Geometric Visualization\n",
    "\n",
    "To make this tutorial accessible, we show the Marine Case study data with the NavAbility App, which provides a basic 2D visualizer to get a basic understanding of the data:"
   ]
  },
  {
   "cell_type": "code",
   "execution_count": null,
   "metadata": {},
   "outputs": [
    {
     "name": "stdout",
     "output_type": "stream",
     "text": [
      "https://app.navability.io/cloud/map/?userId=examples@navability.io&robotStartsWith=MarineASV_ICRA2022&sessionStartsWith=Tutorial5_1000\n"
     ]
    },
    {
     "data": {
      "text/markdown": [
       "[![Navigate to Factor Graph](http://www.navability.io/wp-content/uploads/2022/03/geometric_map.png)](https://app.navability.io/cloud/map/?userId=examples@navability.io&robotStartsWith=MarineASV_ICRA2022&sessionStartsWith=Tutorial5_1000)"
      ]
     },
     "metadata": {},
     "output_type": "display_data"
    },
    {
     "data": {
      "text/markdown": [],
      "text/plain": []
     },
     "metadata": {},
     "output_type": "display_data"
    }
   ],
   "source": [
    "MapVizApp(context)"
   ]
  },
  {
   "cell_type": "markdown",
   "metadata": {},
   "source": [
    "## Building the Map with/without GPS\n",
    "\n",
    "A major emphasis of this tutorial is highlighting the importance of robust navigation from all sensors and data sources, while knowing that each sensor has it's own problems and is unlikely to work perfectly 100% of the time -- e.g. GPS fails under bridges when being jammed, cameras fail when the sun or reflections are in the field of view, and radar cross section detections and shadows can vary significatnly.  By embracing non-Gaussian / multimodal data processing challenges head on, we are able to add significant value to the ease and robustness with which the necessary localization / mapping / tracking solutions that need to be developed.\n",
    "\n",
    "[![Marine Appl Ex](http://www.navability.io/wp-content/uploads/2022/04/MarineRadarAlignFigure-1024x485-1.png)](https://www.navability.io/2022/02/04/application-example-marine-vehicle-mapping-systems-for-collision-avoidance-and-planning/)\n",
    "\n",
    "Pull two radar sweeps and show a slice of the correlation maps from ScatterAlignPose2 -- discuss."
   ]
  },
  {
   "cell_type": "markdown",
   "metadata": {},
   "source": [
    "### Factors in the Session"
   ]
  },
  {
   "cell_type": "code",
   "execution_count": 26,
   "metadata": {},
   "outputs": [
    {
     "data": {
      "text/plain": [
       "58-element Vector{String}:\n",
       " \"x0x4f_843d\"\n",
       " \"x0f_ca58\"\n",
       " \"x279x284f1\"\n",
       " \"x274x279f1\"\n",
       " \"x269x274f1\"\n",
       " \"x264x269f1\"\n",
       " \"x259x264f1\"\n",
       " \"x254x259f1\"\n",
       " \"x249x254f1\"\n",
       " \"x244x249f1\"\n",
       " ⋮\n",
       " \"x44x49f1\"\n",
       " \"x39x44f1\"\n",
       " \"x34x39f1\"\n",
       " \"x29x34f1\"\n",
       " \"x24x29f1\"\n",
       " \"x19x24f1\"\n",
       " \"x14x19f1\"\n",
       " \"x9x14f1\"\n",
       " \"x4x9f1\""
      ]
     },
     "metadata": {},
     "output_type": "display_data"
    }
   ],
   "source": [
    "listFactors(client, context) |> fetch"
   ]
  },
  {
   "cell_type": "markdown",
   "metadata": {},
   "source": [
    "We can look a bit closer at one of the radar odometry factors:"
   ]
  },
  {
   "cell_type": "code",
   "execution_count": 29,
   "metadata": {},
   "outputs": [
    {
     "data": {
      "text/plain": [
       "Dict{String, Any} with 8 entries:\n",
       "  \"label\"                 => \"x4x9f1\"\n",
       "  \"_variableOrderSymbols\" => Any[\"x4\", \"x9\"]\n",
       "  \"data\"                  => \"eyJlbGltaW5hdGVkIjpmYWxzZSwicG90ZW50aWFsdXNlZCI6Z…\n",
       "  \"tags\"                  => Any[\"FACTOR\"]\n",
       "  \"timestamp\"             => \"2022-05-24T05:34:17.016Z\"\n",
       "  \"_version\"              => \"0.18.3\"\n",
       "  \"fnctype\"               => \"ScatterAlignPose2\"\n",
       "  \"solvable\"              => 1"
      ]
     },
     "metadata": {},
     "output_type": "display_data"
    }
   ],
   "source": [
    "f_x4x9 = getFactor(client, context, \"x4x9f1\") |> fetch"
   ]
  },
  {
   "cell_type": "markdown",
   "metadata": {},
   "source": [
    "The results from the line above shows a \"data\" value which in this particular case is a `base64` encoded string.  That field contains the data for a `Caesar.ScatterAlignPose2` factor -- also shows by:"
   ]
  },
  {
   "cell_type": "code",
   "execution_count": 30,
   "metadata": {},
   "outputs": [
    {
     "data": {
      "text/plain": [
       "\"ScatterAlignPose2\""
      ]
     },
     "metadata": {},
     "output_type": "display_data"
    }
   ],
   "source": [
    "f_x4x9[\"fnctype\"]"
   ]
  },
  {
   "cell_type": "markdown",
   "metadata": {},
   "source": [
    "## Find / Track Obstacles with NavAbilitySDK\n",
    "\n",
    "### Large Data Blobs\n",
    "\n"
   ]
  },
  {
   "cell_type": "markdown",
   "metadata": {},
   "source": [
    "\n",
    "### Find Boats in Camera Data\n",
    "\n",
    "- Pull image data,\n",
    "- Process camera image with user side needs,\n",
    "\n",
    "### Track Boats in the Radar Data\n",
    "\n",
    "### Combining Camera / Radar info Back into Factor Graph\n",
    "\n",
    "- Dummy stub for uploading data back (not allowed under guest, please sign up for write access to a session)\n",
    "- Pull all this data into the factor graph and ask for a new solve\n",
    "\n",
    "### We Baked one Earlier\n",
    "\n",
    "- Show a piece of the factor graph where a target object boat is being tracked by both camera and radar factors in the graph,\n",
    "- Visualize the trajectory of the target boat, which was estimated from our vehicle regardless of whether GPS was working or not!\n",
    "\n",
    "### Query spatial relationships,\n",
    "\n",
    "- What is here there, or nearby\n",
    "- What might see this target"
   ]
  },
  {
   "cell_type": "markdown",
   "metadata": {},
   "source": [
    "\n",
    "## Next Steps\n",
    "\n",
    "If you have interest in NavAbility and what our technology can do, please reach out via [Slack](https://join.slack.com/t/caesarjl/shared_invite/zt-ucs06bwg-y2tEbddwX1vR18MASnOLsw) or [info@navability.io](info@navability.io)."
   ]
  }
 ],
 "metadata": {
  "kernelspec": {
   "display_name": "Julia 1.7.2",
   "language": "julia",
   "name": "julia-1.7"
  },
  "language_info": {
   "file_extension": ".jl",
   "mimetype": "application/julia",
   "name": "julia",
   "version": "1.7.2"
  },
  "orig_nbformat": 4
 },
 "nbformat": 4,
 "nbformat_minor": 2
}
