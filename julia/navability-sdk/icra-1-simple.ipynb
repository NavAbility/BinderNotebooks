{
 "cells": [
  {
   "cell_type": "markdown",
   "metadata": {},
   "source": [
    "# Tutorial 1: Creating and Solving Factor Graphs\n",
    "\n",
    "In this tutorial you will learn how to create, solve, and explore factor graphs, as well as what variables, factors, and priors are.\n",
    "\n",
    "**API Version: NavAbilitySDK.jl**\n",
    "\n",
    "## Overview\n",
    "\n",
    "### Background\n",
    "\n",
    "To help scope the conversation, we sketch a ubiquitous problem where robotic technologies can have a major impact.  \n",
    "These tutorials apply broadly to \"robotics\", and it is worth noting that we define 'robotics' to include \n",
    "- Digital Twin computations from various data, \n",
    "- Statically mounted robot arms or sensors,\n",
    "- Human operated measurement equipment, \n",
    "- Fully mobile and self propelled \"robots\", \n",
    "- and many more.\n",
    "\n",
    "### Application Focus\n",
    "\n",
    "Zooming in further, let's consider a factory environment where various interacting robotic equipment are producing and transporting objects -- i.e. manufacturing and logistics support.  The figure below conceptually shows how a product winds it's way from the factory floor, through various robotic handovers, and out via shipping on a truck.  Each robot individually needs a geometrical (and later semantic) understanding of the task object, their location, the surroundings, and of other agents.  Each robot therefore will have it's own navigation solution.\n",
    "\n",
    "Longer term, these navigation solutions will need to interact.  The figure below shows at the highest level how factor graphs provide a technique / method / roadmap on how to develop more intelligent robotic equipment that can calibrate, localize, map, track, interact, or cooperate:\n",
    "\n",
    "![Why Factor Graphs](https://github.com/NavAbility/BinderNotebooks/raw/main/static/icra-1/why-factorgraphs.png)\n",
    "\n",
    "This tutorial starts the conversation on how to overcome the **crux navigation AI software challenge**, and applies to both individual and interacting robotic systems.  This tutorial is the first step in showing how the idea of factor graphs can provide a good engineering balance in flexibility, ease of use, and mathematical foundation.  \n",
    "\n",
    "This tutorial will show some of the most basic operations that you can perform with factor graphs, and further tutorials will fill in more and more of the features and capabilities.  Keep in mind that this and several more tutorials must be brought together for the necessary feature set to deploy multi-agent environments of interacting humans and robots.\n",
    "\n",
    "### Let's build a factor graph\n",
    "\n",
    "First, we will need some packages: \n",
    "- `NavAbilitySDK` - Access NavAbility Cloud factor graph features from Julia.\n",
    "- `LinearAlgebra` and `UUIDs` - Standard Julia libraries that will be useful."
   ]
  },
  {
   "cell_type": "markdown",
   "metadata": {},
   "source": [
    "## What is a Factor Graph\n",
    "\n",
    "Calibration / localization / tracking / mapping / perception problems in robotics can be solved very effectively with factor graphs, which provide a common language to describe the underlying estimation problem from available data; and in a way both humans and computers can easily understand.   A factor graph is a graphical modelling language with two types of nodes, namely variables and factors, which are connected by edges according to how they interact.  This sketch illustrates a simple example with variables, the large circular nodes, and factors, the square nodes -- note, the interactive code segments below will explain how graphs this like are constructed and why:\n",
    "\n",
    "![Tut1 Graph Sketch](https://github.com/NavAbility/BinderNotebooks/raw/main/static/icra-1/example-fg.png)\n",
    "\n",
    "Variables represent unknown states that the user wants the computer to estimate, such as the position or orientation of some equipment, or position of landmarks in the environment, or maybe hidden calibration parameters that are difficult to measure directly, and potetially many, many more.\n",
    "\n",
    "Factors usually represent the interaction between sparse variables based on some measurement data, e.g. the distance from one point to another -- i.e. a range factor.\n",
    "This is where basic math and measurement functions are included and used during computation.\n",
    "For example, encoder measurements from wheels, ranges from a laser, or tag readings from a camera.\n",
    "The variables associated with each data cue / measurement is depicted by the edges eminating from each factor.\n",
    "Our solution aleady provides a library of standard variables and factors that require zero mathematical input from the user, yet the technology rapidly supports building of new variables and factors, potentially containing exotic computations -- more on that later.\n",
    "\n",
    "From a technical perspective, factor graphs allow for an **apples and apples** framework where different sensor measurements / data cues can be combined and jointly processed according to their indivual statistical properties.  Factor graphs allow the system developer to think about each measurement on their own, rather than having to deal with the challenging data fusion problem manually.  This **greatly simplifies the problem**, since the rigorous computational aspects are dealt with by factor graph solver and associated algorithms.\n",
    "\n",
    "Later tutorials will show how to handle low confidence, ambiguous, and 'strange' measurement scenarios.  **This is an interactive tutorial, so let's dive in and navigate a robot!**\n",
    "\n",
    "> For additional info, see the Caesar.jl docs on [Graph Concepts](https://juliarobotics.org/Caesar.jl/latest/concepts/concepts/#Graph-Concepts) and beyond, for more details on graph factorization, elimination, recycling, federated solutions, data handling, serialization and much more.\n",
    "\n",
    "\n",
    "### Let's build a factor graph\n",
    "\n",
    "First, we will need some packages: \n",
    "- `NavAbilitySDK` - Access NavAbility Cloud factor graph features from Julia.\n",
    "\n",
    "Your environment should already have these packages installed, so you can immediate try the `using` code cells below.\n",
    "\n",
    "> But just in case your environment does not have the packages installed, the `Pkg.add` code cell is provided just in case.  There is no harm in running the install more than once, it might just take a bit more time."
   ]
  },
  {
   "cell_type": "code",
   "execution_count": null,
   "metadata": {},
   "outputs": [],
   "source": [
    "# install packages in case they are not installed\n",
    "import Pkg; Pkg.add(\"NavAbilitySDK\");"
   ]
  },
  {
   "cell_type": "code",
   "execution_count": null,
   "metadata": {},
   "outputs": [],
   "source": [
    "using NavAbilitySDK"
   ]
  },
  {
   "cell_type": "markdown",
   "metadata": {},
   "source": [
    "## Build a factor graph\n",
    "\n",
    "The first thing to do is setup a client-context to talk with the NavAbility Platform:"
   ]
  },
  {
   "cell_type": "code",
   "execution_count": null,
   "metadata": {},
   "outputs": [],
   "source": [
    "# you need a unique userId:robotId, and can keep using that across all tutorials\n",
    "userId = \"guest@navability.io\"\n",
    "robotId = \"SDKjl_\"*(string(uuid4())[1:4])\n",
    "\n",
    "# also create a client connection\n",
    "client = NavAbilityHttpsClient()"
   ]
  },
  {
   "cell_type": "code",
   "execution_count": null,
   "metadata": {},
   "outputs": [],
   "source": [
    "# You'll need a unique session number each time you run a new graph\n",
    "sessionId = \"Tutorial1_\"*(string(uuid4())[1:4])\n",
    "# context is the object to use below\n",
    "context = Client(userId,robotId,sessionId)"
   ]
  },
  {
   "cell_type": "markdown",
   "metadata": {},
   "source": [
    "## Variables and Factors \n",
    "\n",
    "Variables represent state variables of interest such as vehicle or landmark positions, sensor calibration parameters, and more. Variables are likely hidden values that are not directly observed, but we want to estimate them from observed data and at least some minimal algebra structure from probabilistic measurement models.\n",
    "\n",
    "Factors represent the interaction between particular variables, as captured measurement or data cues.  \n",
    "For example, a distance travelled measurement between two pose variables.  Relative factors between variables are probabilistic models that capture the likelihood interactions between variables.  Priors factors (i.e. unary to one variable) represent absolute information to be introduced about that variable, for example a GPS measurement; more on how to introduce distrust of such priors later.\n",
    "\n",
    "`NavAbilitySDK.jl` provides variables and factors useful to robotics.\n",
    "We start with a `Pose2` variable, i.e. position and orientation in two dimensions.\n",
    "Call `addVariable` with a label `x0` and type `Pose2` to add variables to the factor graph"
   ]
  },
  {
   "cell_type": "code",
   "execution_count": null,
   "metadata": {},
   "outputs": [],
   "source": [
    "# let's collect all the async responses and wait at the end\n",
    "resultIds = Task[]\n",
    "# addVariable and keep the transaction ID\n",
    "push!(resultIds, \n",
    "  addVariable(client, context, Variable(\"x0\", :Pose2))\n",
    ");"
   ]
  },
  {
   "cell_type": "markdown",
   "metadata": {},
   "source": [
    "We now have a factor graph with one variable, but to solve it we need some additional information. \n",
    "In this example, we need the estimated starting point of our robot.\n",
    "We use unary factors called priors to represent absolute information to be introduced. \n",
    "In this case we use `PriorPose2`, as our variable type is also `Pose2`.\n",
    "Since factors represent a probabilistic interaction between variables, we need to specify the distribution our factor will represent. Here we use `FullNormal` which is a [multivariate normal distribution](https://en.wikipedia.org/wiki/Multivariate_normal_distribution). \n",
    "\n",
    "Let's create a `PriorPose2` unary factor with zero mean and a covariance matrix of (`diagm([0.05,0.05,0.01].^2)`):\n",
    "\n",
    "$\\Sigma = \\begin{bmatrix} 0.0025 & 0.0 &  0.0 \\\\ 0.0 & 0.0025 & 0.0 \\\\ 0.0 &  0.0 &  0.0001 \\end{bmatrix}$"
   ]
  },
  {
   "cell_type": "code",
   "execution_count": null,
   "metadata": {},
   "outputs": [],
   "source": [
    "f = Factor(\"x0f1\", \"PriorPose2\", [\"x0\"], \n",
    "PriorPose2Data(\n",
    "  Z=FullNormal(\n",
    "    [0.0, 0.0, 0.0], \n",
    "    diagm([0.05, 0.05, 0.01].^2))))\n",
    "\n",
    "push!(resultIds, addFactor(client, context, f));"
   ]
  },
  {
   "cell_type": "code",
   "execution_count": null,
   "metadata": {},
   "outputs": [],
   "source": [
    "# let's wait to make sure all nodes were added\n",
    "waitForCompletion(client, resultIds; expectedStatuses=[\"Complete\"])"
   ]
  },
  {
   "cell_type": "markdown",
   "metadata": {},
   "source": [
    "We can look at the factor graph we have so far using the generated link to the NavAbilityApp, and note the variable node `x0` and prior factor node `x0f1`.  Click on the generated graphic to open the NavAbility App visualization:"
   ]
  },
  {
   "cell_type": "code",
   "execution_count": null,
   "metadata": {},
   "outputs": [],
   "source": [
    "# Click on the generated factor graph graphic to open NavAbility App visualization\n",
    "GraphVizApp(context)"
   ]
  },
  {
   "cell_type": "markdown",
   "metadata": {},
   "source": [
    "The prior is now connected to the variable, `x0`, but it is not initialized yet. Automatic initialization of variables depends on how the factor graph model is constructed. So far, `x0` has not been initialized."
   ]
  },
  {
   "cell_type": "markdown",
   "metadata": {},
   "source": [
    "**Graph-based Initialization**\n",
    "\n",
    "At this stage `x0` is not initialized, since no numerical solution has yet been computed.  We do this as the future intentions of the user are unknown and the initialization of `x0` is deferred until the latest possible moment.  The NavAbility Platform assumes that the new variables and factors can be initialized when they are solved for the first time.\n",
    "\n",
    "By delaying initialization of a new variable (say `x0`) until a second newer uninitialized variable (say `x1`) that depends on `x0`, the `Caesar.jl` algorithms can initialize `x0` with more information from surrounding variables and factors.  Solving over the entire graph will set the numerical values. "
   ]
  },
  {
   "cell_type": "markdown",
   "metadata": {},
   "source": [
    "**Robot Odometry - Relative Factor**\n",
    "\n",
    "Next, we want to add an odometry factor that connects our two robot poses `x0` and `x1` together to form a chain.\n",
    "Here we use a relative factor of type `Pose2Pose2` with a measurement from pose `x0` to `x1` of (x=1.0,y=0.0,θ=pi/2); the robot drove 1 unit forward (in the x direction).\n",
    "Similarly to the prior we added above, we use a `FullNormal` distribution to represent the odometry with mean and covariance:\n",
    "\n",
    "$\\mu =(x=1, y=0, \\theta=\\frac{\\pi}{2})$\n",
    "\n",
    "$\\Sigma = \\begin{bmatrix} 0.01 & 0.0 &  0.0 \\\\ 0.0 & 0.01 & 0.0 \\\\ 0.0 &  0.0 &  0.0001 \\end{bmatrix}$\n"
   ]
  },
  {
   "cell_type": "code",
   "execution_count": null,
   "metadata": {},
   "outputs": [],
   "source": [
    "# add x1\n",
    "push!(resultIds, \n",
    "  addVariable(client, context, Variable(\"x1\", :Pose2))\n",
    ")\n",
    "\n",
    "# add odometry measurement between x0 and x1\n",
    "f = Factor(\"x0x1f1\", \"Pose2Pose2\", [\"x0\",\"x1\"], \n",
    "  Pose2Pose2Data(\n",
    "    Z=FullNormal(\n",
    "      [1.0, 0.0, pi/2], \n",
    "      diagm([0.1, 0.1, 0.01].^2))\n",
    "  )\n",
    ")\n",
    "push!(resultIds, addFactor(client, context, f));"
   ]
  },
  {
   "cell_type": "markdown",
   "metadata": {},
   "source": [
    "Let's look at the factor graph again"
   ]
  },
  {
   "cell_type": "code",
   "execution_count": null,
   "metadata": {},
   "outputs": [],
   "source": [
    "# Click on the generated factor graph graphic to open NavAbility App visualization\n",
    "GraphVizApp(context)"
   ]
  },
  {
   "cell_type": "markdown",
   "metadata": {},
   "source": [
    "The structure of the graph has now been updated to two variable nodes and two factors."
   ]
  },
  {
   "cell_type": "markdown",
   "metadata": {},
   "source": [
    "## Solving\n",
    "\n",
    "We now have a graph we can solve using the Multi-Modal iSAM (MM-iSAM) algorithm. \n",
    "The default solver will perform non-parametric inference/state-estimation over our newly created graph.\n",
    "\n",
    "Fundamentally, inference is performed via the Bayes (junction) tree where Chapman-Kolmogorov transit integral solutions are based on marginal-joint belief estimation (a sum-product / belief-propagation approximation algorithm). Many benefits such as clique recycling are also available. See the [Solving Graphs](https://juliarobotics.org/Caesar.jl/latest/concepts/solving_graphs/) section in the documentation for more detail."
   ]
  },
  {
   "cell_type": "code",
   "execution_count": null,
   "metadata": {},
   "outputs": [],
   "source": [
    "push!(resultIds,\n",
    "  solveSession(client, context)\n",
    ");\n",
    "\n",
    "# Give it a few seconds JIT compiling during first run.\n",
    "println(\"running solve...\")"
   ]
  },
  {
   "cell_type": "markdown",
   "metadata": {},
   "source": [
    "A _slightly_ more the mathy explination.  A factor graph represents the factorization of the overall joint probability belief function that describes your system.\n",
    "It represents a breakdown of the complex problem describing your robot navigation, and does so in a way that a computer can work through in a very efficient manner. \n",
    "This factorization allows us to solve the optimization (a.k.a. inference) problem for all variables given every measurement described by the factors.\n",
    "\n",
    "### Multi-Sensor Data Fusion\n",
    "\n",
    "In our example so far, the graph models the position and orientation (pose) of your robot at any given time, and soon we will add relative measurements to landmarks using a different sensor but captured in the same factor graph. "
   ]
  },
  {
   "cell_type": "markdown",
   "metadata": {},
   "source": [
    "## Results\n",
    "\n",
    "The NavAbility WebApp allows visualization of the belief state over any of the variables.  Also try with Belief and Distribution buttons to see more of the underlying posterior marginal belief estimates.  The results will show as the solve completes."
   ]
  },
  {
   "cell_type": "code",
   "execution_count": null,
   "metadata": {},
   "outputs": [],
   "source": [
    "# Click on the generated factor graph graphic to open NavAbility App visualization\n",
    "MapVizApp(context)"
   ]
  },
  {
   "cell_type": "markdown",
   "metadata": {},
   "source": [
    "**What is happening**\n",
    "\n",
    "The figure shows the position and orientation (red forward) for poses `x0` and `x1`. As well as the covariance ellipse. \n",
    "Since the solver used was non-parametric, the covariance ellipse is based on a best Gaussian distribution fit of the full belief.\n",
    "A few other functions are also handy for interacting with the factor graph, for instance `getVariable` returns the full variable.\n",
    "\n",
    "\n",
    "Or if you are interested in the suggested Parametric Point Estimate (PPE)."
   ]
  },
  {
   "cell_type": "code",
   "execution_count": null,
   "metadata": {},
   "outputs": [],
   "source": [
    "vars = getVariables(client, context; detail=SUMMARY) |> fetch\n",
    "lbls = vars .|> x->x[\"label\"]\n",
    "ppes = vars .|> x->float.(x[\"ppes\"][1][\"suggested\"])\n",
    "\n",
    "println.(lbls .=> ppes);"
   ]
  },
  {
   "cell_type": "markdown",
   "metadata": {},
   "source": [
    "**Parametric point estimates and beliefs**\n",
    "\n",
    "A PPE can be the maximum or mean of the belief. \n",
    "If the belief is a normal distribution, both correspond with its mean. \n",
    "However, care should be taken with using PPEs when beliefs might be non-parametric, for example, in a multimodal belief with two peaks, max corresponds with the maximum of the two peaks while the mean will fall somewhere in between them. \n",
    "In non-parametric cases, it is better to work with the full belief obtained by the Kernel Density Estimate (KDE).  \n",
    "Kernel Density Estimation is a non-parametric way to estimate the probability density function of a random variable.\n",
    "With the default solver, a full probability density function is always available and can be visualized as shown by the distribution plot feature in the NavAbility WebApp.\n",
    "Non-parametric solutions will be discussed in more detail in tutorial 2."
   ]
  },
  {
   "cell_type": "code",
   "execution_count": null,
   "metadata": {},
   "outputs": [],
   "source": [
    "# Click on the generated factor graph graphic to open NavAbility App visualization\n",
    "MapVizApp(context)"
   ]
  },
  {
   "cell_type": "markdown",
   "metadata": {},
   "source": [
    "More plotting options exist, depending on how you are accessing the data.  See the [section on Plotting in the Caesar docs](https://juliarobotics.org/Caesar.jl/latest/concepts/2d_plotting/) for additional detail."
   ]
  },
  {
   "cell_type": "markdown",
   "metadata": {},
   "source": [
    "## Adding a Landmark from a Different Sensor\n",
    "\n",
    "So far we worked with the `Pose2` factor type. \n",
    "Among others, `NavAbilitySDK` also provides the `Point2` variable and `Pose2Point2BearingRange` factor types, which we will use to represent a landmark sighting in our factor graph.\n",
    "We will add a landmark `l1` with bearing range measurement of bearing=$(\\mu=0,\\sigma=0.03)$ range=$(\\mu=0.5,\\sigma=0.1)$ and continue our robot trajectory by driving around in a square."
   ]
  },
  {
   "cell_type": "code",
   "execution_count": null,
   "metadata": {},
   "outputs": [],
   "source": [
    "# add one landmark\n",
    "push!(resultIds,\n",
    "  addVariable(client, context, Variable(\"l1\", :Point2)))\n",
    "\n",
    "# add three more poses\n",
    "for x in [\"x2\"; \"x3\"; \"x4\"]\n",
    "  push!(resultIds,\n",
    "    addVariable(client, context, Variable(x, :Pose2)))\n",
    "end\n",
    "\n",
    "## add Factors\n",
    "F = [\n",
    "  # add landmark observation measurement and\n",
    "  Factor(\"x0l1f1\", \"Pose2Point2BearingRange\", [\"x0\",\"l1\"], \n",
    "  Pose2Point2BearingRangeData(\n",
    "    bearing = Normal(0, 0.03), \n",
    "    range = Normal(0.5, 0.1))),\n",
    "    \n",
    "  # odometry measurements between poses\n",
    "  Factor(\"x1x2f1\", \"Pose2Pose2\", [\"x1\",\"x2\"], \n",
    "  Pose2Pose2Data(\n",
    "    Z=FullNormal(\n",
    "      [1.0, 0.0, pi/2], \n",
    "      diagm([0.1, 0.1, 0.01].^2))\n",
    "  )),\n",
    "  Factor(\"x2x3f1\", \"Pose2Pose2\", [\"x2\",\"x3\"], \n",
    "  Pose2Pose2Data(\n",
    "    Z=FullNormal(\n",
    "      [1.0, 0.0, pi/2], \n",
    "      diagm([0.1, 0.1, 0.01].^2))\n",
    "  )),\n",
    "  Factor(\"x3x4f1\", \"Pose2Pose2\", [\"x3\",\"x4\"], \n",
    "  Pose2Pose2Data(\n",
    "    Z=FullNormal(\n",
    "      [1.0, 0.0, pi/2], \n",
    "      diagm([0.1, 0.1, 0.01].^2))\n",
    "  ))\n",
    "]\n",
    "\n",
    "[push!(resultIds, addFactor(client, context, f)) for f in F];"
   ]
  },
  {
   "cell_type": "markdown",
   "metadata": {},
   "source": [
    "Let's go look at the factor graph now, again using the NavAbilityApp"
   ]
  },
  {
   "cell_type": "code",
   "execution_count": null,
   "metadata": {},
   "outputs": [],
   "source": [
    "# Click on the generated factor graph graphic to open NavAbility App visualization\n",
    "GraphVizApp(context)"
   ]
  },
  {
   "cell_type": "markdown",
   "metadata": {},
   "source": [
    "We now have a longer odometry chain with one landmark sighting, let's solve the factor graph again so we can have a look at the results."
   ]
  },
  {
   "cell_type": "code",
   "execution_count": null,
   "metadata": {},
   "outputs": [],
   "source": [
    "# let's wait to make sure all the new additions are ready\n",
    "waitForCompletion(client, resultIds; expectedStatuses=[\"Complete\"], maxSeconds=180)\n",
    "# then start a single solve\n",
    "push!(resultIds,\n",
    "  solveSession(client, context)\n",
    ");\n",
    "println(\"running solve...\")"
   ]
  },
  {
   "cell_type": "markdown",
   "metadata": {},
   "source": [
    "The solve will take a bit of time.  Just keep watching the geometric visualization, which will automatically update as more of the solution is published"
   ]
  },
  {
   "cell_type": "code",
   "execution_count": null,
   "metadata": {},
   "outputs": [],
   "source": [
    "# Click on the generated factor graph graphic to open NavAbility App visualization\n",
    "MapVizApp(context)"
   ]
  },
  {
   "cell_type": "markdown",
   "metadata": {},
   "source": [
    "Once solving has completed, the variable results can be looked at in various ways.  Here we are just looking at the PPE values, but the full posterior marginal beliefs are available by simply asking for more results."
   ]
  },
  {
   "cell_type": "code",
   "execution_count": null,
   "metadata": {},
   "outputs": [],
   "source": [
    "vars = getVariables(client, context; detail=SUMMARY) |> fetch\n",
    "lbls = vars .|> x->x[\"label\"]\n",
    "ppes = vars .|> x->float.(x[\"ppes\"][1][\"suggested\"])\n",
    "\n",
    "println.(lbls .=> ppes);"
   ]
  },
  {
   "cell_type": "markdown",
   "metadata": {},
   "source": [
    "### Adding a Loop Closure\n",
    "\n",
    "As expected, the robot continued its square trajectory to end off where it started. \n",
    "To illustrate a loop closure, we add another bearing range sighting to from pose `x4` to landmark `l1`, solve the graph and plot the new results: "
   ]
  },
  {
   "cell_type": "code",
   "execution_count": null,
   "metadata": {},
   "outputs": [],
   "source": [
    "# add a loop closure landmark observation\n",
    "f = Factor(\"x4l1f1\", \"Pose2Point2BearingRange\", [\"x4\",\"l1\"], \n",
    "  Pose2Point2BearingRangeData(\n",
    "    bearing = Normal(0, 0.03), \n",
    "    range = Normal(0.5, 0.1))\n",
    ")\n",
    "push!(resultIds, addFactor(client, context, f));\n",
    "#\n",
    "\n",
    "# let's wait to make sure all the new additions are ready\n",
    "waitForCompletion(client, resultIds; expectedStatuses=[\"Complete\"])\n",
    "\n",
    "# then start a single solve\n",
    "push!(resultIds,\n",
    "  solveSession(client, context)\n",
    ");\n",
    "println(\"running solve...\")"
   ]
  },
  {
   "cell_type": "markdown",
   "metadata": {},
   "source": [
    "Let's go look at the final results again, which now includes the loop closure.  Use the 'Show Belief', 'Show Distribution' buttons along the bottom for more visual information.  You can also trigger new solves (as long as the Global Filter fields are properly set in the far right filter menu).\n",
    "\n",
    "Use the NavAbilityApp hamburger menu on the left to navigate between the graph and geometric map visualization.  You can also use the Global Filter menu on the right to set which information to visualize."
   ]
  },
  {
   "cell_type": "code",
   "execution_count": null,
   "metadata": {},
   "outputs": [],
   "source": [
    "# Click on the generated factor graph graphic to open NavAbility App visualization\n",
    "GraphVizApp(context)"
   ]
  },
  {
   "cell_type": "code",
   "execution_count": null,
   "metadata": {},
   "outputs": [],
   "source": [
    "# Click on the generated factor graph graphic to open NavAbility App visualization\n",
    "MapVizApp(context)"
   ]
  },
  {
   "cell_type": "markdown",
   "metadata": {},
   "source": [
    "## Next Steps\n",
    "\n",
    "Tutorial 2 will give an introduction to non-parametric solutions.\n",
    "\n",
    "## Additional Resources\n",
    "\n",
    "### Factors are On-Manifold\n",
    "\n",
    "The variables used in this tutorial, `Point2` and `Pose2`, are represented as points on manifolds and all algebraic operations, inference/optimization are also performed on manifold.\n",
    "For more information on how manifolds are used in Caesar.jl, refer to the [manifold section in the documentation](https://juliarobotics.org/Caesar.jl/latest/concepts/using_manifolds/).\n",
    "\n",
    "### Custom Variables and Factors\n",
    "\n",
    "In most scenarios, the existing variables and factors should be sufficient for most robotics applications. \n",
    "Caesar however, is extensible and allows you to easily incorporate your own variable and factor types for specialized applications.\n",
    "\n",
    "Have a look at the Caesar documentation if you are interested in creating custom variables, factors (or priors)\n",
    "\n",
    "- [Custom variables](https://juliarobotics.org/Caesar.jl/latest/examples/custom_variables/)\n",
    "- [Custom prior factors](https://juliarobotics.org/Caesar.jl/latest/examples/basic_definingfactors/)\n",
    "- [Custom relative factors](https://juliarobotics.org/Caesar.jl/latest/examples/custom_relative_factors/)\n",
    "\n",
    "\n",
    "### Bayes (Junction) Tree\n",
    "\n",
    "Inference is performed on the Bayes tree see: [Bayes tree principles](https://juliarobotics.org/Caesar.jl/latest/principles/bayestreePrinciples/)"
   ]
  }
 ],
 "metadata": {
  "kernelspec": {
   "display_name": "Julia 1.7.2",
   "language": "julia",
   "name": "julia-1.7"
  },
  "language_info": {
   "file_extension": ".jl",
   "mimetype": "application/julia",
   "name": "julia",
   "version": "1.7.2"
  },
  "orig_nbformat": 4
 },
 "nbformat": 4,
 "nbformat_minor": 2
}
