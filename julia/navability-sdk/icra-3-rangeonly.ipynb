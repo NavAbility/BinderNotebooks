{
 "cells": [
  {
   "cell_type": "markdown",
   "metadata": {},
   "source": [
    "# Tutorial 3: Insufficient Data (2D Range-only)\n",
    "\n",
    "**API Version: Julia NavAbilitySDK.jl**\n",
    "\n",
    "**Keywords:** Range-only, factor graph, under-determined, localization, mapping, SLAM, missing data, insufficient data, robotics, inference, Bayes tree, junction tree\n",
    "\n",
    "## Overview\n",
    "\n",
    "This example shows how non-Gaussian solutions occur from weak observability of desired variables from available data.  For this tutorial, we imagine a robot traveling around on a flat surface, in a rectangular trajectory making range measurements to beacons.  Let's assume WiFi power levels are used as a proxy for range measurements in this case.\n",
    "\n",
    "![Example Overview](../../static/icra-3/example-wifi.png)\n",
    "\n",
    "To illustrate the the underdetermined solution aspect, we simplify the problem in that WiFi ranging is assumed to produce a pure unimodal (Gaussian) measurement.  This tutorial will show how non-Gaussian behavior can arise because tha variables are weakly or underconstrained by the available measurement dimensions.  This tutorial is designed such that this occurs throughout the entire problem.\n",
    "\n",
    "We build a factor graph in stages as the robot moves around the environment through pose/keyframe epochs.  The factor graph will be solved with the [open core Caesar.jl solver](https://github.com/JuliaRobotics/Caesar.jl) at each pose epoch, which produces the posterior marginal beliefs on each of the variables in the system.  After each pose epoch solution, we will look at the marginal belief estimates of all the variables in the system.\n",
    "\n",
    "We assume the robot is traveling on a XY plane, starting at the origin along X and turning left along Y, then negative X, negative Y back to the origin.  Only four WiFi beacons are in the environment where the robot is moving.  Measurements to the WiFi beacons can only be included with there if the signal is within range.  Two of the beacon locations are known as prior information, while the other two beacons are at an unknown location and their location will be eastimated simultaneously to the robot pose location in the same factor graph system -- making this a simultaneous localization and mapping (SLAM) problem.\n",
    "\n",
    "To further simplify the tutorial, the \"odometry\" measurement between consecutive poses  are also taken as range-only (i.e. distance-only) measurements.  These \"odometry\" factors provide less information than conventional wheel or visual odometry constraints might provide.\n",
    "\n",
    "This tutorial shows [one of four mechanisms](https://juliarobotics.org/Caesar.jl/latest/concepts/why_nongaussian/) that can intoduce non-Gaussian behavior into a factor graph system, see other examples for other mechanisms.  Note that the techniques used in this tutorial can readily be combined with with methods from other tutorials.  For example, the pure Gaussian measurement ranging models used here can be replaced with ambiguous measurements shown in ICRA Tutorial 2.  Or, can be combined with uncertain data association (i,e. multi-hypothesis) measurement models for unknown beacon associations similat to the technique used in ICRA Tutorial 4.  Learn more from our peer-reviewed publications listed here: `CJLDocs/Literature`"
   ]
  },
  {
   "cell_type": "markdown",
   "metadata": {},
   "source": [
    "### Signatures Used\n",
    "\n",
    "`Point2`, `PriorPoint2`, `Point2Point2Range`, `MvNormal`, `Normal`."
   ]
  },
  {
   "cell_type": "markdown",
   "metadata": {},
   "source": [
    "## Loading The Data\n",
    "\n",
    "The ground truth positions for vehicle positions GTp and landmark positions GTl can be loaded into memory directly with these values.  **Note,** we are using variable names\n",
    "- `l1, l2` as ranging beacons with known locations,\n",
    "- `l3, l4` as ranging beacons with initially unknown locations,  \n",
    "\n",
    "These beacon landmarks must be in range before measurements can be made to them.  For the tutorial, we imagine a robot moving from one position to the next in the XY space between the landmarks.  We use ground truth positions to build the simulation, while the SLAM solution has to resolve estimates of the variables as the main exercise of the tutorial.  The robot positions are denoted as\n",
    "- `x0, x1, ...`.\n",
    "\n",
    "Ground truth data is as follows:"
   ]
  },
  {
   "cell_type": "code",
   "execution_count": 1,
   "metadata": {},
   "outputs": [],
   "source": [
    "# Our dictionary of vehicle positions\n",
    "GTp = Dict{Symbol, Vector{Float64}}()\n",
    "GTp[:x0] = [0.0;0]\n",
    "GTp[:x1] = [50.0;0]\n",
    "GTp[:x2] = [100.0;0]\n",
    "GTp[:x3] = [100.0;50.0]\n",
    "GTp[:x4] = [100.0;100.0]\n",
    "GTp[:x5] = [50.0;100.0]\n",
    "GTp[:x6] = [0.0;100.0]\n",
    "GTp[:x7] = [0.0;50.0]\n",
    "GTp[:x8] = [0.0;-50.0]\n",
    "\n",
    "# Our dictionary of landmark positions\n",
    "GTl = Dict{Symbol, Vector{Float64}}()\n",
    "GTl[:l1] = [10.0;30]\n",
    "GTl[:l2] = [30.0;-30]\n",
    "GTl[:l3] = [80.0;40]\n",
    "GTl[:l4] = [120.0;-50];"
   ]
  },
  {
   "cell_type": "markdown",
   "metadata": {},
   "source": [
    "## Loading Necessary Packages\n",
    "\n",
    "An optional install line is kept here in case the packages are not yet installed in your environment for whatever reason."
   ]
  },
  {
   "cell_type": "code",
   "execution_count": null,
   "metadata": {},
   "outputs": [],
   "source": [
    "# optional install of packages, in case they are not available in your environment for whatever reason\n",
    "import Pkg; Pkg.add(\"NavAbilitySDK\");"
   ]
  },
  {
   "cell_type": "markdown",
   "metadata": {},
   "source": [
    "Load the necessary packages,"
   ]
  },
  {
   "cell_type": "code",
   "execution_count": 8,
   "metadata": {},
   "outputs": [],
   "source": [
    "using NavAbilitySDK\n",
    "using LinearAlgebra"
   ]
  },
  {
   "cell_type": "markdown",
   "metadata": {},
   "source": [
    "## Creating the Factor Graph\n",
    "\n",
    "After loading the requried packages, lets start creating the factor graph using variables of type `Point2` (a.k.a. `Postion2`)."
   ]
  },
  {
   "cell_type": "code",
   "execution_count": 3,
   "metadata": {},
   "outputs": [
    {
     "data": {
      "text/plain": [
       "NavAbilityClient(NavAbilitySDK.var\"#query#3\"{Diana.Client}(Diana.Client(Diana.var\"#Query#7\"{Diana.var\"#Query#3#8\"}(Diana.var\"#Query#3#8\"(Core.Box(Dict{Any, Any}()), Core.Box(\"Bearer 0000\"), Core.Box(\"https://api.d1.navability.io\"))), Diana.var\"#serverUrl#4\"(Core.Box(\"https://api.d1.navability.io\")), Diana.var\"#setheaders#5\"(Core.Box(Dict{Any, Any}())), Diana.var\"#serverAuth#6\"(Core.Box(\"Bearer 0000\")))), NavAbilitySDK.var\"#mutate#5\"{Diana.Client}(Diana.Client(Diana.var\"#Query#7\"{Diana.var\"#Query#3#8\"}(Diana.var\"#Query#3#8\"(Core.Box(Dict{Any, Any}()), Core.Box(\"Bearer 0000\"), Core.Box(\"https://api.d1.navability.io\"))), Diana.var\"#serverUrl#4\"(Core.Box(\"https://api.d1.navability.io\")), Diana.var\"#setheaders#5\"(Core.Box(Dict{Any, Any}())), Diana.var\"#serverAuth#6\"(Core.Box(\"Bearer 0000\")))))"
      ]
     },
     "metadata": {},
     "output_type": "display_data"
    }
   ],
   "source": [
    "# you need a unique userId:robotId, and can keep using that across all tutorials\n",
    "userId = \"Guest\"\n",
    "robotId = \"SDKjl_\"*(string(uuid4())[1:4])\n",
    "\n",
    "# also create a client connection\n",
    "client = NavAbilityHttpsClient()"
   ]
  },
  {
   "cell_type": "code",
   "execution_count": 4,
   "metadata": {},
   "outputs": [
    {
     "data": {
      "text/plain": [
       "Client: User=Guest, Robot=SDKjl_5dcd, Session=Tutorial3_575b"
      ]
     },
     "metadata": {},
     "output_type": "display_data"
    }
   ],
   "source": [
    "# You'll need a unique session number each time you run a new graph\n",
    "sessionId = \"Tutorial3_\"*(string(uuid4())[1:4])\n",
    "# context is the object to use below\n",
    "context = Client(userId,robotId,sessionId)"
   ]
  },
  {
   "cell_type": "code",
   "execution_count": 5,
   "metadata": {},
   "outputs": [],
   "source": [
    "# Collect all the async responses and wait at the end\n",
    "resultIds = Task[]\n",
    "\n",
    "# first pose with no prior info about the initial numerical estimate\n",
    "push!(resultIds, \n",
    "  addVariable(client, context, Variable(\"x0\", :Point2))\n",
    ");\n",
    "\n",
    "# add three landmarks\n",
    "for lbl in [\"l1\";\"l2\";\"l3\"]\n",
    "  push!(resultIds, \n",
    "    addVariable(client, context, Variable(lbl, :Point2))\n",
    "  );\n",
    "end"
   ]
  },
  {
   "cell_type": "markdown",
   "metadata": {},
   "source": [
    "The initial graph also has prior location information about each of the known beacons/landmarks `l1` and `l2`.  Let's go ahead and add those as factors:"
   ]
  },
  {
   "cell_type": "code",
   "execution_count": 6,
   "metadata": {},
   "outputs": [],
   "source": [
    "# put prior on l1\n",
    "f = Factor(\"l1f1\", \"PriorPoint2\", [\"l1\"], \n",
    "  PriorPoint2Data(\n",
    "    Z=FullNormal( GTl[:l1], diagm(ones(2)) )\n",
    "  )\n",
    ")\n",
    "push!(resultIds, addFactor(client, context, f));\n",
    "\n",
    "# put prior on l2\n",
    "f = Factor(\"l2f1\", \"PriorPoint2\", [\"l2\"], \n",
    "  PriorPoint2Data(\n",
    "    Z=FullNormal( GTl[:l2], diagm(ones(2)) )\n",
    "  )\n",
    ")\n",
    "push!(resultIds, addFactor(client, context, f));\n",
    "\n",
    "# let's wait to make sure all the new additions are ready\n",
    "waitForCompletion(client, resultIds; expectedStatuses=[\"Complete\"])"
   ]
  },
  {
   "cell_type": "markdown",
   "metadata": {},
   "source": [
    "The `PriorPoint2` is assumed to be a multivariate normal distribution of covariance `diagm(ones(2))`. Note the API `PriorPoint2(::SamplableBelief)` accepts any of the distribution objects that the Caesar.jl libraries support -- this is discussed further in subsection [Various `SamplableBelief` Distribution types](https://juliarobotics.org/Caesar.jl/latest/concepts/dataassociation/#Various-SamplableBelief-Distribution-Types)."
   ]
  },
  {
   "cell_type": "markdown",
   "metadata": {},
   "source": [
    "## Adding Range Measurements Between Variables\n",
    "\n",
    "Next we connect the three range measurements from the vehicle location `x0` to the three beacon landmarks `l1`, `l2`, and `l3`, respectively – and consider that the range measurements are completely relative between the vehicle and beacon position estimates:"
   ]
  },
  {
   "cell_type": "code",
   "execution_count": 11,
   "metadata": {},
   "outputs": [],
   "source": [
    "# first range measurement from x0 to l1\n",
    "rhoZ1 = norm(GTl[:l1]-GTp[:x0])\n",
    "f = Factor(\"x0l1f1\", \"Point2Point2Range\", [\"x0\";\"l1\"], \n",
    "  PriorPoint2Data(\n",
    "    Z=Normal(rhoZ1, 2)\n",
    "  )\n",
    ")\n",
    "push!(resultIds, addFactor(client, context, f));\n",
    "\n",
    "# second range measurement from x0 to l2\n",
    "rhoZ2 = norm(GTl[:l2]-GTp[:x0])\n",
    "f = Factor(\"x0l2f1\", \"Point2Point2Range\", [\"x0\";\"l2\"], \n",
    "  PriorPoint2Data(\n",
    "    Z=Normal(rhoZ2, 2)\n",
    "  )\n",
    ")\n",
    "push!(resultIds, addFactor(client, context, f));\n",
    "\n",
    "# third range measurement from x0 to l3\n",
    "rhoZ3 = norm(GTl[:l3]-GTp[:x0])\n",
    "f = Factor(\"x0l3f1\", \"Point2Point2Range\", [\"x0\";\"l3\"], \n",
    "  PriorPoint2Data(\n",
    "    Z=Normal(rhoZ3, 2)\n",
    "  )\n",
    ")\n",
    "push!(resultIds, addFactor(client, context, f));"
   ]
  },
  {
   "cell_type": "markdown",
   "metadata": {},
   "source": [
    "The ranging measurement standard deviation of 2.0 or 3.0 is taken, assuming a Gaussian measurement assumption. Again, any distribution could have been used. The factor graph should look as follows:"
   ]
  },
  {
   "cell_type": "code",
   "execution_count": 12,
   "metadata": {},
   "outputs": [
    {
     "name": "stdout",
     "output_type": "stream",
     "text": [
      "https://app.navability.io/cloud/graph/?userId=Guest&robotStartsWith=SDKjl_5dcd&sessionStartsWith=Tutorial3_575b\n"
     ]
    }
   ],
   "source": [
    "println(\"https://app.navability.io/cloud/graph/?userId=$userId&robotStartsWith=$robotId&sessionStartsWith=$sessionId\")"
   ]
  }
 ],
 "metadata": {
  "kernelspec": {
   "display_name": "Julia 1.7.2",
   "language": "julia",
   "name": "julia-1.7"
  },
  "language_info": {
   "file_extension": ".jl",
   "mimetype": "application/julia",
   "name": "julia",
   "version": "1.7.2"
  },
  "orig_nbformat": 4
 },
 "nbformat": 4,
 "nbformat_minor": 2
}
