{
 "cells": [
  {
   "cell_type": "code",
   "execution_count": null,
   "metadata": {},
   "outputs": [],
   "source": [
    "using NavAbilitySDK\n"
   ]
  },
  {
   "cell_type": "code",
   "execution_count": null,
   "metadata": {},
   "outputs": [],
   "source": [
    "# you need a unique userId:robotId, and can keep using that across all tutorials\n",
    "userId = \"guest@navability.io\"\n",
    "robotId = \"SDKjl_\"*(string(uuid4())[1:4])\n",
    "\n",
    "# also create a client connection\n",
    "client = NavAbilityHttpsClient()\n",
    "\n",
    "# You'll need a unique session number each time you run a new graph\n",
    "sessionId = \"Tutorial4_\"*(string(uuid4())[1:4])\n",
    "\n",
    "# context is the object to use below\n",
    "context = Client(userId,robotId,sessionId)\n"
   ]
  },
  {
   "cell_type": "code",
   "execution_count": null,
   "metadata": {},
   "outputs": [],
   "source": [
    "# Click on the generated factor graph graphic to open NavAbility App visualization\n",
    "MapVizApp(context)"
   ]
  },
  {
   "cell_type": "code",
   "execution_count": null,
   "metadata": {},
   "outputs": [],
   "source": [
    "# Click on the generated factor graph graphic to open NavAbility App visualization\n",
    "GraphVizApp(context)"
   ]
  },
  {
   "cell_type": "code",
   "execution_count": null,
   "metadata": {},
   "outputs": [],
   "source": [
    "\n",
    "addVariable(client, context, Variable(\"l0\", :Pose2))\n",
    "addVariable(client, context, Variable(\"l1\", :Pose2))\n",
    "addVariable(client, context, Variable(\"l2\", :Pose2))\n",
    "addVariable(client, context, Variable(\"l3\", :Pose2))\n",
    "addVariable(client, context, Variable(\"l4_h1\", :Pose2))\n",
    "addVariable(client, context, Variable(\"l4_h2\", :Pose2))\n",
    "\n",
    "prior_distr= diagm([0.1, 0.1, 0.01].^2)\n",
    "\n",
    "f = Factor(\"l0f1\", \"PriorPose2\", [\"l0\"], PriorPose2Data(Z=NavAbilitySDK.FullNormal([0.,0, 0], prior_distr)))\n",
    "addFactor(client, context, f)\n",
    "f = Factor(\"l1f1\", \"PriorPose2\", [\"l1\"], PriorPose2Data(Z=NavAbilitySDK.FullNormal([20.,0, pi/2], prior_distr)))\n",
    "addFactor(client, context, f)\n",
    "f = Factor(\"l2f1\", \"PriorPose2\", [\"l2\"], PriorPose2Data(Z=NavAbilitySDK.FullNormal([20.,10, pi], prior_distr)))\n",
    "addFactor(client, context, f)\n",
    "f = Factor(\"l3f1\", \"PriorPose2\", [\"l3\"], PriorPose2Data(Z=NavAbilitySDK.FullNormal([0.,10, -pi/2], prior_distr)))\n",
    "addFactor(client, context, f)\n",
    "f = Factor(\"l4_h1f1\", \"PriorPose2\", [\"l4_h1\"], PriorPose2Data(Z=NavAbilitySDK.FullNormal([20., 4, 0], prior_distr)))\n",
    "addFactor(client, context, f)\n",
    "f = Factor(\"l4_h2f1\", \"PriorPose2\", [\"l4_h2\"], PriorPose2Data(Z=NavAbilitySDK.FullNormal([20., 4, pi], prior_distr)))\n",
    "addFactor(client, context, f)"
   ]
  },
  {
   "cell_type": "code",
   "execution_count": null,
   "metadata": {},
   "outputs": [],
   "source": [
    "\n",
    "addVariable(client, context, Variable(\"x0\", :Pose2))\n",
    "\n",
    "f = Factor(\"x0l0l1l2l3f1\", \n",
    "           \"Pose2Pose2\", \n",
    "           [\"x0\", \"l0\", \"l1\", \"l2\", \"l3\"], \n",
    "           Pose2Pose2Data(Z=NavAbilitySDK.FullNormal([-2.,-2, 0], diagm([0.5, 0.5, 0.05].^2))),\n",
    "           multihypo=[1.0, 0.25, 0.25, 0.25, 0.25])\n",
    "addFactor(client, context, f)\n"
   ]
  },
  {
   "cell_type": "code",
   "execution_count": null,
   "metadata": {},
   "outputs": [],
   "source": [
    "solveSession(client, context)"
   ]
  },
  {
   "cell_type": "code",
   "execution_count": null,
   "metadata": {},
   "outputs": [],
   "source": [
    "\n",
    "\n",
    "addVariable(client, context, Variable(\"x1\", :Pose2))\n",
    "\n",
    "f = Factor(\"x0x1f1\", \n",
    "           \"Pose2Pose2\", \n",
    "           [\"x0\", \"x1\"], \n",
    "           Pose2Pose2Data(Z=NavAbilitySDK.FullNormal([4.,0, pi/2], diagm([0.5, 0.5, 0.05].^2))))\n",
    "addFactor(client, context, f)\n",
    "\n",
    "\n",
    "f = Factor(\"x1l0l1l2l3f1\", \n",
    "           \"Pose2Pose2\", \n",
    "           [\"x1\", \"l0\", \"l1\", \"l2\", \"l3\"], \n",
    "           Pose2Pose2Data(Z=NavAbilitySDK.FullNormal([-2.,-4, 0], diagm([0.5, 0.5, 0.05].^2))),\n",
    "           multihypo=[1.0, 0.25, 0.25, 0.25, 0.25])\n",
    "addFactor(client, context, f)\n",
    "\n"
   ]
  },
  {
   "cell_type": "code",
   "execution_count": null,
   "metadata": {},
   "outputs": [],
   "source": [
    "solveSession(client, context)\n"
   ]
  },
  {
   "cell_type": "code",
   "execution_count": null,
   "metadata": {},
   "outputs": [],
   "source": [
    "\n",
    "addVariable(client, context, Variable(\"x2\", :Pose2))\n",
    "\n",
    "f = Factor(\"x1x2f1\", \n",
    "           \"Pose2Pose2\", \n",
    "           [\"x1\", \"x2\"], \n",
    "           Pose2Pose2Data(Z=NavAbilitySDK.FullNormal([16.,0, 0], diagm([0.5, 0.5, 0.05].^2))))\n",
    "addFactor(client, context, f)\n",
    "\n",
    "\n",
    "f = Factor(\"x2l0l1l2l3f1\", \n",
    "           \"Pose2Pose2\", \n",
    "           [\"x2\", \"l0\", \"l1\", \"l2\", \"l3\"], \n",
    "           Pose2Pose2Data(Z=NavAbilitySDK.FullNormal([2.,-4, pi/2], diagm([0.5, 0.5, 0.05].^2))),\n",
    "           multihypo=[1.0, 0.25, 0.25, 0.25, 0.25])\n",
    "addFactor(client, context, f)\n",
    "\n",
    "\n",
    "\n"
   ]
  },
  {
   "cell_type": "code",
   "execution_count": null,
   "metadata": {},
   "outputs": [],
   "source": [
    "solveSession(client, context)\n"
   ]
  },
  {
   "cell_type": "code",
   "execution_count": null,
   "metadata": {},
   "outputs": [],
   "source": [
    "\n",
    "\n",
    "f = Factor(\"x2l4f1\", \n",
    "           \"Pose2Pose2\", \n",
    "           [\"x2\", \"l4_h1\", \"l4_h2\"], \n",
    "           Pose2Pose2Data(Z=NavAbilitySDK.FullNormal([2.,0, pi], diagm([0.5, 0.5, 0.05].^2))),\n",
    "           multihypo=[1.0, 0.5, 0.5])\n",
    "addFactor(client, context, f)\n"
   ]
  },
  {
   "cell_type": "code",
   "execution_count": null,
   "metadata": {},
   "outputs": [],
   "source": [
    "solveSession(client, context)\n"
   ]
  }
 ],
 "metadata": {
  "kernelspec": {
   "display_name": "Julia 1.7.1",
   "language": "julia",
   "name": "julia-1.7"
  },
  "language_info": {
   "file_extension": ".jl",
   "mimetype": "application/julia",
   "name": "julia",
   "version": "1.7.1"
  },
  "orig_nbformat": 4
 },
 "nbformat": 4,
 "nbformat_minor": 2
}
