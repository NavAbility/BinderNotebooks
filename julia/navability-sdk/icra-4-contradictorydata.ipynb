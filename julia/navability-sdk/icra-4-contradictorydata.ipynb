{
 "cells": [
  {
   "cell_type": "markdown",
   "metadata": {},
   "source": [
    "# ICRA Tutorial 4, Contradictory Prior Data\n",
    "\n",
    "**API Version: JuliaLang NavAbilitySDK.jl**\n",
    "\n",
    "## Introduction\n",
    "\n",
    "Many industrial robotic systems today are constrained to very rigid automation regimes.  Production/manufacturing lines are often difficult to reconfigure to different or new operations.  It can also be challenging for the robotic systems to react in real-time based on sensor data.  One of the critical requirements for expanding robotic operations beyond the rigid brute force automation is the ability to incorporate/restrain robotic operations with prior knowledge or data.  This tutorial shows how prior data can be used to support as well as constrain robotic state-estimation tasks, while also gaining robustness to contradictory data.  This tutorial will show how to combine prior and new measurement data through multi-hypothesis robustness.\n",
    "\n",
    "## Application: Beyond \"Brute-Force\" Automation while Retaining Prior Knowledge\n",
    "\n",
    "Conventional manufacturing and warehouse automation technologies operate via \"brute force\" or \"playback\" control strategies where robot operations follow a very narrow preprogrammed path.  One of the major challenges in AI development for manufacturing and warehouse applications is to make the high value robotic equipment more flexible / reconfigurable so that the systems can more rapidly be reconfigured between different tasks.  \n",
    "\n",
    "One of the key challenges to expanding the automation software capabilities requires a balance between \n",
    "- programming the robot with human readible prior information about the task; as well as \n",
    "- letting the robotic automation handle more of the fine grain numerical operations relating to the task at hand.\n",
    "\n",
    "The figure below shows a motivational example where prior knowledge---i.e. the corners of a rectangle and door opening---is to be used for robotic mapping operations.\n",
    "\n",
    "![Tutorial 4 Room Prior](../../static/icra-4/room-prior.png)\n",
    "\n",
    "The figure above illustrates some robotic equipment (a.k.a. the robot) which must be localized relative to a known rectangular shape.  For simplicity, we introduce the door orientation as the only ambiguity which must be mapped by the robot -- i.e. we know there is a door, but have not yet verified the hinging orientation.\n",
    "\n",
    "The challenge of this tutorial is localizing and mapping the robot relative to the object as efficiently as possible, and have the solution be robust to possibly contradictory prior data.  For the sake of illustration, we simplify the possible contradiction to the door orientation only, and invite the interested reader to see the [NavAbility Construction Application example](https://www.navability.io/applications/construction/) and associated publications for a more elaborate discussion on navigation-affordances.\n",
    "\n",
    "### Prior (Contradictory) Data\n",
    "\n",
    "This tutorial will demonstrate through a simplified example how prior (contradictory) data can be leveraged in a localization and mapping solution using factor graphs.  We want to pre-load our robotic system with some basic information about the environment in which it will be operating so that it can more easily resolve it's position and navigate around.\n",
    "\n",
    "#### Room with a Door\n",
    "\n",
    "Prior info:\n",
    "- A rectangular room with the 4 corners as defining known navigation affordances,\n",
    "- An orientation sensitive door affordance which should* be hinged on the left side (which is buried in the data as an easter egg for the solver to discover as valid or contradictory)."
   ]
  },
  {
   "cell_type": "markdown",
   "metadata": {},
   "source": [
    "## Import Packages\n",
    "\n",
    "The first step load all the necessary packages, as listed in code blocks hereafter.  The following commented code block is only necessary if your environment does not have the necessary packages installed for whatever reason (uncomment and run once if package are not installed)."
   ]
  },
  {
   "cell_type": "code",
   "execution_count": null,
   "metadata": {},
   "outputs": [],
   "source": [
    "# # install if necessary\n",
    "# import Pkg; Pkg.add(\"NavAbilitySDK\")"
   ]
  },
  {
   "cell_type": "code",
   "execution_count": 1,
   "metadata": {},
   "outputs": [],
   "source": [
    "using NavAbilitySDK"
   ]
  },
  {
   "cell_type": "markdown",
   "metadata": {},
   "source": [
    "## Build a Multi-hypothesis Factor Graph\n",
    "\n",
    "We start with an empty factor graph object, which is created with default solver parameters."
   ]
  },
  {
   "cell_type": "code",
   "execution_count": 5,
   "metadata": {},
   "outputs": [
    {
     "data": {
      "text/plain": [
       "Client: User=guest@navability.io, Robot=SDKjl_13e4, Session=Tutorial4_87e5"
      ]
     },
     "metadata": {},
     "output_type": "display_data"
    }
   ],
   "source": [
    "# you need a unique userId:robotId, and can keep using that across all tutorials\n",
    "userId = \"guest@navability.io\"\n",
    "robotId = \"SDKjl_\"*(string(uuid4())[1:4])\n",
    "\n",
    "# also create a client connection\n",
    "client = NavAbilityHttpsClient()\n",
    "\n",
    "# You'll need a unique session number each time you run a new graph\n",
    "sessionId = \"Tutorial4_\"*(string(uuid4())[1:4])\n",
    "\n",
    "# context is the object to use below\n",
    "context = Client(userId,robotId,sessionId)"
   ]
  },
  {
   "cell_type": "markdown",
   "metadata": {},
   "source": [
    "Also a few basic noise parameters"
   ]
  },
  {
   "cell_type": "code",
   "execution_count": 6,
   "metadata": {},
   "outputs": [
    {
     "data": {
      "text/plain": [
       "3×3 Matrix{Float64}:\n",
       " 1.0  0.0  0.0\n",
       " 0.0  1.0  0.0\n",
       " 0.0  0.0  3.14159"
      ]
     },
     "metadata": {},
     "output_type": "display_data"
    }
   ],
   "source": [
    "prior_distr= diagm([0.1, 0.1, 0.01].^2)\n",
    "dual_distr= diagm([1, 1, sqrt(pi)].^2)"
   ]
  },
  {
   "cell_type": "markdown",
   "metadata": {},
   "source": [
    "### Loading Known Prior Data\n",
    "\n",
    "Next, add to the factor graph the four corner prior knowledge about the room, namely `c0`, `c1`, `c2`, `c3`, each with their expected location in the world via `PriorPose2` unary factor:"
   ]
  },
  {
   "cell_type": "code",
   "execution_count": 7,
   "metadata": {},
   "outputs": [
    {
     "data": {
      "text/plain": [
       "4-element Vector{Task}:\n",
       " Task (runnable) @0x00007f94e2c87de0\n",
       " Task (runnable) @0x00007f9472feeca0\n",
       " Task (runnable) @0x00007f947304aca0\n",
       " Task (runnable) @0x00007f94730b2ca0"
      ]
     },
     "metadata": {},
     "output_type": "display_data"
    }
   ],
   "source": [
    "resultIds = Task[]\n",
    "\n",
    "addVariable(client, context, Variable(\"c0\", :Pose2))\n",
    "f = Factor(\"c0f1\", \"PriorPose2\", [\"c0\"], PriorPose2Data(Z=NavAbilitySDK.FullNormal([0.,0, 0], prior_distr)))\n",
    "push!(resultIds, addFactor(client, context, f))\n",
    "\n",
    "addVariable(client, context, Variable(\"c1\", :Pose2))\n",
    "f = Factor(\"c1f1\", \"PriorPose2\", [\"c1\"], PriorPose2Data(Z=NavAbilitySDK.FullNormal([20.,0, pi/2], prior_distr)))\n",
    "push!(resultIds, addFactor(client, context, f))\n",
    "\n",
    "addVariable(client, context, Variable(\"c2\", :Pose2))\n",
    "f = Factor(\"c2f1\", \"PriorPose2\", [\"c2\"], PriorPose2Data(Z=NavAbilitySDK.FullNormal([20.,10, pi], prior_distr)))\n",
    "push!(resultIds, addFactor(client, context, f))\n",
    "\n",
    "addVariable(client, context, Variable(\"c3\", :Pose2))\n",
    "f = Factor(\"c3f1\", \"PriorPose2\", [\"c3\"], PriorPose2Data(Z=NavAbilitySDK.FullNormal([0.,10, -pi/2], prior_distr)))\n",
    "push!(resultIds, addFactor(client, context, f))"
   ]
  },
  {
   "cell_type": "markdown",
   "metadata": {},
   "source": [
    "Also add the prior information regarding the door, and note for this simplified tutorial is using two affordance variables.  Two variables is part of the _affordance-duality_ construct where contradictions between prior known and ultimately discovered data can manifest in either the prior or dual variables, respectfully:"
   ]
  },
  {
   "cell_type": "code",
   "execution_count": 8,
   "metadata": {},
   "outputs": [
    {
     "data": {
      "text/plain": [
       "6-element Vector{Task}:\n",
       " Task (done) @0x00007f94e2c87de0\n",
       " Task (done) @0x00007f9472feeca0\n",
       " Task (done) @0x00007f947304aca0\n",
       " Task (done) @0x00007f94730b2ca0\n",
       " Task (runnable) @0x00007f9473187990\n",
       " Task (runnable) @0x00007f94731d3990"
      ]
     },
     "metadata": {},
     "output_type": "display_data"
    }
   ],
   "source": [
    "addVariable(client, context, Variable(\"door_prior\", :Pose2))\n",
    "f = Factor(\"door_priorf1\", \"PriorPose2\", [\"door_prior\"], PriorPose2Data(Z=NavAbilitySDK.FullNormal([20., 4, 0], prior_distr)))\n",
    "push!(resultIds, addFactor(client, context, f))\n",
    "\n",
    "addVariable(client, context, Variable(\"door_dual\", :Pose2))\n",
    "f = Factor(\"door_dualf1\", \"PriorPose2\", [\"door_dual\"], PriorPose2Data(Z=NavAbilitySDK.FullNormal([20., 4, pi], dual_distr)))\n",
    "push!(resultIds, addFactor(client, context, f))"
   ]
  },
  {
   "cell_type": "markdown",
   "metadata": {},
   "source": [
    "### Solving the Room-only Graph\n",
    "\n",
    "Let's make sure our prior data makes sense by solving the factor graph with the available data:"
   ]
  },
  {
   "cell_type": "code",
   "execution_count": 9,
   "metadata": {},
   "outputs": [
    {
     "name": "stdout",
     "output_type": "stream",
     "text": [
      "starting solve\n",
      "running solve...\n"
     ]
    }
   ],
   "source": [
    "# wait for graph modifications to complete\n",
    "waitForCompletion(client, resultIds; expectedStatuses=[\"Complete\"], maxSeconds=180)\n",
    "\n",
    "println(\"starting solve\")\n",
    "push!(resultIds,\n",
    "  solveSession(client, context)\n",
    ");\n",
    "\n",
    "# Give it a few seconds JIT compiling during first run.\n",
    "println(\"running solve...\")"
   ]
  },
  {
   "cell_type": "markdown",
   "metadata": {},
   "source": [
    "While the solve is running, let's look so long at the factor graph so far, and look at the map thereafter...\n",
    "\n",
    "#### The Room-only Graph Structure\n",
    "\n",
    "The basic room structure in the factor graph is also of interest.  Let's go ahead and look at what the graph structure looks like:"
   ]
  },
  {
   "cell_type": "code",
   "execution_count": null,
   "metadata": {},
   "outputs": [],
   "source": [
    "# Click on the generated factor graph graphic to open NavAbility App visualization\n",
    "GraphVizApp(context)"
   ]
  },
  {
   "cell_type": "markdown",
   "metadata": {},
   "source": [
    "The graph plot above shows the simple factor graph so far, where four corner and dual door variables each have a prior factor.  We are now ready to introduce new robotic measurements into the factor graph.\n",
    "\n",
    "#### Map of Prior Data\n",
    "\n",
    "After completing the earlier solve, we can use the NavAbility WebApp to visualize the numerical values of the variables in the graph."
   ]
  },
  {
   "cell_type": "code",
   "execution_count": 11,
   "metadata": {},
   "outputs": [
    {
     "name": "stdout",
     "output_type": "stream",
     "text": [
      "https://app.navability.io/cloud/map/?userId=guest@navability.io&robotStartsWith=SDKjl_13e4&sessionStartsWith=Tutorial4_87e5\n"
     ]
    },
    {
     "data": {
      "text/markdown": [
       "[![Navigate to Factor Graph](http://www.navability.io/wp-content/uploads/2022/03/geometric_map.png)](https://app.navability.io/cloud/map/?userId=guest@navability.io&robotStartsWith=SDKjl_13e4&sessionStartsWith=Tutorial4_87e5)"
      ]
     },
     "metadata": {},
     "output_type": "display_data"
    },
    {
     "data": {
      "text/markdown": [],
      "text/plain": []
     },
     "metadata": {},
     "output_type": "display_data"
    }
   ],
   "source": [
    "# Click on the generated factor graph graphic to open NavAbility App visualization\n",
    "MapVizApp(context)"
   ]
  },
  {
   "cell_type": "markdown",
   "metadata": {},
   "source": [
    "The plot shows the four corners as a rectangle between `(0,0)` and `(20,10)`, as well as a door at `(20,4)`.  We also confirm the door prior data orientation which to the best of our current knowledge is **left hinged**:"
   ]
  },
  {
   "cell_type": "code",
   "execution_count": 10,
   "metadata": {},
   "outputs": [
    {
     "name": "stdout",
     "output_type": "stream",
     "text": [
      "https://app.navability.io/cloud/graph/?userId=guest@navability.io&robotStartsWith=SDKjl_13e4&sessionStartsWith=Tutorial4_87e5\n"
     ]
    },
    {
     "data": {
      "text/markdown": [
       "[![Navigate to Factor Graph](http://www.navability.io/wp-content/uploads/2022/03/factor_graph.png)](https://app.navability.io/cloud/graph/?userId=guest@navability.io&robotStartsWith=SDKjl_13e4&sessionStartsWith=Tutorial4_87e5)"
      ]
     },
     "metadata": {},
     "output_type": "display_data"
    },
    {
     "data": {
      "text/markdown": [],
      "text/plain": []
     },
     "metadata": {},
     "output_type": "display_data"
    }
   ],
   "source": [
    "# Click on the generated factor graph graphic to open NavAbility App visualization\n",
    "GraphVizApp(context)"
   ]
  },
  {
   "cell_type": "markdown",
   "metadata": {},
   "source": [
    "The graph plot above shows the simple factor graph so far, where four corner and dual door variables each have a prior factor.  We are now ready to introduce new robotic measurements into the factor graph.\n",
    "\n",
    "## Add Robotic Measurements (`multihypo=`)\n",
    "\n",
    "We would like to localize our robotic system relative to the available prior data above.  The first thing the robot does is measure one of the corners relative to it's own position (i.e. **a relative, not global, measurement**).  Since we do not know which of the corners this measurement relates to, we will use the `multihypo=` keyword with equal `1/4` probability to each of the four known corners:"
   ]
  },
  {
   "cell_type": "code",
   "execution_count": 13,
   "metadata": {},
   "outputs": [
    {
     "data": {
      "text/plain": [
       "8-element Vector{Task}:\n",
       " Task (done) @0x00007f94e2c87de0\n",
       " Task (done) @0x00007f9472feeca0\n",
       " Task (done) @0x00007f947304aca0\n",
       " Task (done) @0x00007f94730b2ca0\n",
       " Task (done) @0x00007f9473187990\n",
       " Task (done) @0x00007f94731d3990\n",
       " Task (done) @0x00007f9473049e40\n",
       " Task (runnable) @0x00007f94731fcd00"
      ]
     },
     "metadata": {},
     "output_type": "display_data"
    }
   ],
   "source": [
    "# add the first robot pose as x0\n",
    "addVariable(client, context, Variable(\"x0\", :Pose2))\n",
    "\n",
    "f = Factor(\n",
    "  \"x0c0c1c2c3f1\", \n",
    "  \"Pose2Pose2\", \n",
    "  [\"x0\", \"c0\", \"c1\", \"c2\", \"c3\"], \n",
    "  Pose2Pose2Data(Z=NavAbilitySDK.FullNormal([-2.,-2, 0], diagm([0.5, 0.5, 0.05].^2))),\n",
    "  multihypo=[1.0, 0.25, 0.25, 0.25, 0.25]\n",
    ")\n",
    "push!(resultIds, addFactor(client, context, f))"
   ]
  },
  {
   "cell_type": "markdown",
   "metadata": {},
   "source": [
    "Above we first added a new robot 'pose' variable `x0`.  We then added a relative `Pose2Pose2` factor which represents a rigid transform between the robot and the measured corner.  Note, the measurement is local to the robot (i.e. not a global metrology-type measurement).  Also note that the `Pose2Pose2` factor is usually binary between two variables but now, with the `multihypo=` keyword, is associated with five variables.  The first is the robot pose `x0` with `100%` certainty, while the next four corner affordance variables have fractional association certainty of `25%` each.\n",
    "\n",
    "#### Solve and Visualize the Multi-hypo Factor Graph \n",
    "\n",
    "Let's start a new solve and look at the factor graph structure while the computation is running: "
   ]
  },
  {
   "cell_type": "code",
   "execution_count": 14,
   "metadata": {},
   "outputs": [
    {
     "name": "stdout",
     "output_type": "stream",
     "text": [
      "running solve...\n"
     ]
    }
   ],
   "source": [
    "# wait for graph modifications to complete\n",
    "waitForCompletion(client, resultIds; expectedStatuses=[\"Complete\"], maxSeconds=180)\n",
    "\n",
    "push!(resultIds,\n",
    "  solveSession(client, context)\n",
    ")\n",
    "println(\"running solve...\")"
   ]
  },
  {
   "cell_type": "markdown",
   "metadata": {},
   "source": [
    "They multi-hypo factor is represented in the factor graph as any other n-ary factor"
   ]
  },
  {
   "cell_type": "code",
   "execution_count": 12,
   "metadata": {},
   "outputs": [
    {
     "name": "stdout",
     "output_type": "stream",
     "text": [
      "https://app.navability.io/cloud/graph/?userId=guest@navability.io&robotStartsWith=SDKjl_13e4&sessionStartsWith=Tutorial4_87e5\n"
     ]
    },
    {
     "data": {
      "text/markdown": [
       "[![Navigate to Factor Graph](http://www.navability.io/wp-content/uploads/2022/03/factor_graph.png)](https://app.navability.io/cloud/graph/?userId=guest@navability.io&robotStartsWith=SDKjl_13e4&sessionStartsWith=Tutorial4_87e5)"
      ]
     },
     "metadata": {},
     "output_type": "display_data"
    },
    {
     "data": {
      "text/markdown": [],
      "text/plain": []
     },
     "metadata": {},
     "output_type": "display_data"
    }
   ],
   "source": [
    "# Click on the generated factor graph graphic to open NavAbility App visualization\n",
    "GraphVizApp(context)"
   ]
  },
  {
   "cell_type": "markdown",
   "metadata": {},
   "source": [
    "Let's recap what the factor represents and what we are expecting to see.  We know there are four corners to a room and we have one relative measurement to a corner.  Therefore, the robot should be relatively positioned to one of the four known corners -- i.e. we expect to see a multi-modal posterior belief estimate on the robot pose `x0`.  Let's plot the numerical results to see:"
   ]
  },
  {
   "cell_type": "code",
   "execution_count": 15,
   "metadata": {},
   "outputs": [
    {
     "name": "stdout",
     "output_type": "stream",
     "text": [
      "https://app.navability.io/cloud/map/?userId=guest@navability.io&robotStartsWith=SDKjl_13e4&sessionStartsWith=Tutorial4_87e5\n"
     ]
    },
    {
     "data": {
      "text/markdown": [
       "[![Navigate to Factor Graph](http://www.navability.io/wp-content/uploads/2022/03/geometric_map.png)](https://app.navability.io/cloud/map/?userId=guest@navability.io&robotStartsWith=SDKjl_13e4&sessionStartsWith=Tutorial4_87e5)"
      ]
     },
     "metadata": {},
     "output_type": "display_data"
    },
    {
     "data": {
      "text/markdown": [],
      "text/plain": []
     },
     "metadata": {},
     "output_type": "display_data"
    }
   ],
   "source": [
    "# Click on the generated factor graph graphic to open NavAbility App visualization\n",
    "MapVizApp(context)"
   ]
  },
  {
   "cell_type": "markdown",
   "metadata": {},
   "source": [
    "As predicted, there are four separate modes in the posterior marginal estimate of `x0`, one nearby each of the four known corners of the room.  Note that each of these modes also have a marginal belief over the orientation of the robot which corresponds to the relative transform to the measured corner.\n",
    "\n",
    "The critcal point here is that even though the factor graph does not have a unimodal solution, we are able to perform a solve on the graph and recover the correct non-Gaussian marginal posterior result.\n",
    "\n",
    "## Robot Moves to Position `x1`\n",
    "\n",
    "The next step towards mapping while localizating the robot relative to prior data is moving the robot and making more measurements.  To get to the second position, we move the robot forward by `2` units and rotate clockwise (around positive `z`) by `90deg`; this transform is captured in another rigid transform `Pose2Pose2` factor to a new variable `x1`.  Once at `x1` the robot makes a second corner measurement for which we again don't know the association:"
   ]
  },
  {
   "cell_type": "code",
   "execution_count": 16,
   "metadata": {},
   "outputs": [
    {
     "ename": "MethodError",
     "evalue": "MethodError: no method matching Factor(::String, ::String, ::Vector{String}, ::FactorData; multihypo=[1.0, 0.25, 0.25, 0.25, 0.25], nullhypo=0.5)\nClosest candidates are:\n  Factor(::String, ::String, ::Vector{String}, ::FactorData; tags, timestamp, multihypo) at ~/.julia/packages/NavAbilitySDK/50X4u/src/navability/entities/Factor.jl:186 got unsupported keyword argument \"nullhypo\"\n  Factor(::Any, ::Any, ::Any, ::Any, !Matched::Any, !Matched::Any, !Matched::Any, !Matched::Any, !Matched::Any) at ~/.julia/packages/NavAbilitySDK/50X4u/src/navability/entities/Factor.jl:24 got unsupported keyword arguments \"multihypo\", \"nullhypo\"\n  Factor(::String, ::String, !Matched::String, !Matched::Vector{String}, !Matched::FactorData, !Matched::Int64, !Matched::Vector{String}, !Matched::String, !Matched::String) at ~/.julia/packages/NavAbilitySDK/50X4u/src/navability/entities/Factor.jl:24 got unsupported keyword arguments \"multihypo\", \"nullhypo\"",
     "output_type": "error",
     "traceback": [
      "MethodError: no method matching Factor(::String, ::String, ::Vector{String}, ::FactorData; multihypo=[1.0, 0.25, 0.25, 0.25, 0.25], nullhypo=0.5)\n",
      "Closest candidates are:\n",
      "  Factor(::String, ::String, ::Vector{String}, ::FactorData; tags, timestamp, multihypo) at ~/.julia/packages/NavAbilitySDK/50X4u/src/navability/entities/Factor.jl:186 got unsupported keyword argument \"nullhypo\"\n",
      "  Factor(::Any, ::Any, ::Any, ::Any, !Matched::Any, !Matched::Any, !Matched::Any, !Matched::Any, !Matched::Any) at ~/.julia/packages/NavAbilitySDK/50X4u/src/navability/entities/Factor.jl:24 got unsupported keyword arguments \"multihypo\", \"nullhypo\"\n",
      "  Factor(::String, ::String, !Matched::String, !Matched::Vector{String}, !Matched::FactorData, !Matched::Int64, !Matched::Vector{String}, !Matched::String, !Matched::String) at ~/.julia/packages/NavAbilitySDK/50X4u/src/navability/entities/Factor.jl:24 got unsupported keyword arguments \"multihypo\", \"nullhypo\"\n",
      "\n",
      "Stacktrace:\n",
      "  [1] kwerr(::NamedTuple{(:multihypo, :nullhypo), Tuple{Vector{Float64}, Float64}}, ::Type, ::String, ::String, ::Vector{String}, ::FactorData)\n",
      "    @ Base ./error.jl:163\n",
      "  [2] top-level scope\n",
      "    @ ~/software/NavAbility/BinderNotebooks/julia/navability-sdk/icra-4-contradictorydata.ipynb:14\n",
      "  [3] eval\n",
      "    @ ./boot.jl:373 [inlined]\n",
      "  [4] include_string(mapexpr::typeof(REPL.softscope), mod::Module, code::String, filename::String)\n",
      "    @ Base ./loading.jl:1196\n",
      "  [5] #invokelatest#2\n",
      "    @ ./essentials.jl:716 [inlined]\n",
      "  [6] invokelatest\n",
      "    @ ./essentials.jl:714 [inlined]\n",
      "  [7] (::VSCodeServer.var\"#164#165\"{VSCodeServer.NotebookRunCellArguments, String})()\n",
      "    @ VSCodeServer ~/.vscode/extensions/julialang.language-julia-1.6.17/scripts/packages/VSCodeServer/src/serve_notebook.jl:19\n",
      "  [8] withpath(f::VSCodeServer.var\"#164#165\"{VSCodeServer.NotebookRunCellArguments, String}, path::String)\n",
      "    @ VSCodeServer ~/.vscode/extensions/julialang.language-julia-1.6.17/scripts/packages/VSCodeServer/src/repl.jl:184\n",
      "  [9] notebook_runcell_request(conn::VSCodeServer.JSONRPC.JSONRPCEndpoint{Base.PipeEndpoint, Base.PipeEndpoint}, params::VSCodeServer.NotebookRunCellArguments)\n",
      "    @ VSCodeServer ~/.vscode/extensions/julialang.language-julia-1.6.17/scripts/packages/VSCodeServer/src/serve_notebook.jl:13\n",
      " [10] dispatch_msg(x::VSCodeServer.JSONRPC.JSONRPCEndpoint{Base.PipeEndpoint, Base.PipeEndpoint}, dispatcher::VSCodeServer.JSONRPC.MsgDispatcher, msg::Dict{String, Any})\n",
      "    @ VSCodeServer.JSONRPC ~/.vscode/extensions/julialang.language-julia-1.6.17/scripts/packages/JSONRPC/src/typed.jl:67\n",
      " [11] serve_notebook(pipename::String, outputchannel_logger::Base.CoreLogging.SimpleLogger; crashreporting_pipename::String)\n",
      "    @ VSCodeServer ~/.vscode/extensions/julialang.language-julia-1.6.17/scripts/packages/VSCodeServer/src/serve_notebook.jl:136\n",
      " [12] top-level scope\n",
      "    @ ~/.vscode/extensions/julialang.language-julia-1.6.17/scripts/notebook/notebook.jl:32\n",
      " [13] include(mod::Module, _path::String)\n",
      "    @ Base ./Base.jl:418\n",
      " [14] exec_options(opts::Base.JLOptions)\n",
      "    @ Base ./client.jl:292\n",
      " [15] _start()\n",
      "    @ Base ./client.jl:495"
     ]
    }
   ],
   "source": [
    "resultIds = Task[]\n",
    "\n",
    "# add next pose variable\n",
    "push!( resultIds, addVariable(client, context, Variable(\"x1\", :Pose2)) )\n",
    "\n",
    "f = Factor(\n",
    "  \"x0x1f1\", \n",
    "  \"Pose2Pose2\", \n",
    "  [\"x0\", \"x1\"], \n",
    "  Pose2Pose2Data(Z=NavAbilitySDK.FullNormal([4.,0, pi/2], diagm([0.5, 0.5, 0.05].^2)))\n",
    ")\n",
    "push!( resultIds, addFactor(client, context, f) )\n",
    "\n",
    "f = Factor(\n",
    "  \"x1c0c1c2c3f1\", \n",
    "  \"Pose2Pose2\", \n",
    "  [\"x1\", \"c0\", \"c1\", \"c2\", \"c3\"], \n",
    "  Pose2Pose2Data(Z=NavAbilitySDK.FullNormal([-2.,-4, 0], diagm([0.5, 0.5, 0.05].^2))),\n",
    "  multihypo=[1.0, 0.25, 0.25, 0.25, 0.25],\n",
    "  nullhypo=0.5\n",
    ")\n",
    "push!( resultIds, addFactor(client, context, f) )"
   ]
  },
  {
   "cell_type": "markdown",
   "metadata": {},
   "source": [
    "Note, that even though we know this second corner measured is a different corner than what we measured first, we lazily added the new corner measurement again as a four way equal `multihypo=` uncertainty.  We help the solver a little bit with this by allowed a bit more freedom in the solution (i.e. an additional source of entropy), but also stating that the interpose measurement might not be wholly correct -- and we do this by including `nullhypo=0.5`.\n",
    "\n",
    "We are therefore giving the factor graph solver less information than we actually have available.  Let's solve the graph again and see what it finds: "
   ]
  },
  {
   "cell_type": "markdown",
   "metadata": {},
   "source": []
  },
  {
   "cell_type": "code",
   "execution_count": null,
   "metadata": {},
   "outputs": [],
   "source": [
    "solveSession(client, context)\n"
   ]
  },
  {
   "cell_type": "code",
   "execution_count": null,
   "metadata": {},
   "outputs": [],
   "source": [
    "\n",
    "addVariable(client, context, Variable(\"x2\", :Pose2))\n",
    "\n",
    "f = Factor(\"x1x2f1\", \n",
    "           \"Pose2Pose2\", \n",
    "           [\"x1\", \"x2\"], \n",
    "           Pose2Pose2Data(Z=NavAbilitySDK.FullNormal([16.,0, 0], diagm([0.5, 0.5, 0.05].^2))))\n",
    "addFactor(client, context, f)\n",
    "\n",
    "\n",
    "f = Factor(\"x2l0l1l2l3f1\", \n",
    "           \"Pose2Pose2\", \n",
    "           [\"x2\", \"l0\", \"l1\", \"l2\", \"l3\"], \n",
    "           Pose2Pose2Data(Z=NavAbilitySDK.FullNormal([2.,-4, pi/2], diagm([0.5, 0.5, 0.05].^2))),\n",
    "           multihypo=[1.0, 0.25, 0.25, 0.25, 0.25])\n",
    "addFactor(client, context, f)\n",
    "\n",
    "\n",
    "\n"
   ]
  },
  {
   "cell_type": "code",
   "execution_count": null,
   "metadata": {},
   "outputs": [],
   "source": [
    "solveSession(client, context)\n"
   ]
  },
  {
   "cell_type": "code",
   "execution_count": null,
   "metadata": {},
   "outputs": [],
   "source": [
    "\n",
    "\n",
    "f = Factor(\"x2l4f1\", \n",
    "           \"Pose2Pose2\", \n",
    "           [\"x2\", \"l4_h1\", \"l4_h2\"], \n",
    "           Pose2Pose2Data(Z=NavAbilitySDK.FullNormal([2.,0, pi], diagm([0.5, 0.5, 0.05].^2))),\n",
    "           multihypo=[1.0, 0.5, 0.5])\n",
    "addFactor(client, context, f)\n"
   ]
  },
  {
   "cell_type": "code",
   "execution_count": null,
   "metadata": {},
   "outputs": [],
   "source": [
    "solveSession(client, context)\n"
   ]
  }
 ],
 "metadata": {
  "kernelspec": {
   "display_name": "Julia 1.7.2",
   "language": "julia",
   "name": "julia-1.7"
  },
  "language_info": {
   "file_extension": ".jl",
   "mimetype": "application/julia",
   "name": "julia",
   "version": "1.7.2"
  },
  "orig_nbformat": 4
 },
 "nbformat": 4,
 "nbformat_minor": 2
}
