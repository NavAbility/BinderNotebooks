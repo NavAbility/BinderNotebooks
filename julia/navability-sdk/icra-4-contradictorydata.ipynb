{
 "cells": [
  {
   "cell_type": "code",
   "execution_count": 10,
   "metadata": {},
   "outputs": [],
   "source": [
    "using NavAbilitySDK\n"
   ]
  },
  {
   "cell_type": "code",
   "execution_count": 11,
   "metadata": {},
   "outputs": [
    {
     "data": {
      "text/plain": [
       "Client: User=Guest, Robot=SDKjl_8952, Session=Tutorial4_f917"
      ]
     },
     "metadata": {},
     "output_type": "display_data"
    }
   ],
   "source": [
    "# you need a unique userId:robotId, and can keep using that across all tutorials\n",
    "userId = \"Guest\"\n",
    "robotId = \"SDKjl_\"*(string(uuid4())[1:4])\n",
    "\n",
    "# also create a client connection\n",
    "client = NavAbilityHttpsClient()\n",
    "\n",
    "# You'll need a unique session number each time you run a new graph\n",
    "sessionId = \"Tutorial4_\"*(string(uuid4())[1:4])\n",
    "\n",
    "# context is the object to use below\n",
    "context = Client(userId,robotId,sessionId)\n"
   ]
  },
  {
   "cell_type": "code",
   "execution_count": 12,
   "metadata": {},
   "outputs": [
    {
     "name": "stdout",
     "output_type": "stream",
     "text": [
      "https://app.navability.io/cloud/map/?userId=Guest&robotStartsWith=SDKjl_8952&sessionStartsWith=Tutorial4_f917\n"
     ]
    },
    {
     "data": {
      "text/markdown": [
       "[![Navigate to Factor Graph](http://www.navability.io/wp-content/uploads/2022/03/geometric_map.png)](https://app.navability.io/cloud/map/?userId=Guest&robotStartsWith=SDKjl_8952&sessionStartsWith=Tutorial4_f917)"
      ]
     },
     "metadata": {},
     "output_type": "display_data"
    },
    {
     "data": {
      "text/markdown": [],
      "text/plain": []
     },
     "metadata": {},
     "output_type": "display_data"
    }
   ],
   "source": [
    "# Click on the generated factor graph graphic to open NavAbility App visualization\n",
    "MapVizApp(context)"
   ]
  },
  {
   "cell_type": "code",
   "execution_count": 13,
   "metadata": {},
   "outputs": [
    {
     "name": "stdout",
     "output_type": "stream",
     "text": [
      "https://app.navability.io/cloud/graph/?userId=Guest&robotStartsWith=SDKjl_8952&sessionStartsWith=Tutorial4_f917\n"
     ]
    },
    {
     "data": {
      "text/markdown": [
       "[![Navigate to Factor Graph](http://www.navability.io/wp-content/uploads/2022/03/factor_graph.png)](https://app.navability.io/cloud/graph/?userId=Guest&robotStartsWith=SDKjl_8952&sessionStartsWith=Tutorial4_f917)"
      ]
     },
     "metadata": {},
     "output_type": "display_data"
    },
    {
     "data": {
      "text/markdown": [],
      "text/plain": []
     },
     "metadata": {},
     "output_type": "display_data"
    }
   ],
   "source": [
    "# Click on the generated factor graph graphic to open NavAbility App visualization\n",
    "GraphVizApp(context)"
   ]
  },
  {
   "cell_type": "code",
   "execution_count": 14,
   "metadata": {},
   "outputs": [
    {
     "data": {
      "text/plain": [
       "Task (runnable) @0x00007f769f0fe570"
      ]
     },
     "metadata": {},
     "output_type": "display_data"
    }
   ],
   "source": [
    "\n",
    "addVariable(client, context, Variable(\"l0\", :Pose2))\n",
    "addVariable(client, context, Variable(\"l1\", :Pose2))\n",
    "addVariable(client, context, Variable(\"l2\", :Pose2))\n",
    "addVariable(client, context, Variable(\"l3\", :Pose2))\n",
    "addVariable(client, context, Variable(\"l4_h1\", :Pose2))\n",
    "addVariable(client, context, Variable(\"l4_h2\", :Pose2))\n",
    "\n",
    "prior_distr= diagm([0.1, 0.1, 0.01].^2)\n",
    "\n",
    "f = Factor(\"l0f1\", \"PriorPose2\", [\"l0\"], PriorPose2Data(Z=NavAbilitySDK.FullNormal([0.,0, 0], prior_distr)))\n",
    "addFactor(client, context, f)\n",
    "f = Factor(\"l1f1\", \"PriorPose2\", [\"l1\"], PriorPose2Data(Z=NavAbilitySDK.FullNormal([20.,0, pi/2], prior_distr)))\n",
    "addFactor(client, context, f)\n",
    "f = Factor(\"l2f1\", \"PriorPose2\", [\"l2\"], PriorPose2Data(Z=NavAbilitySDK.FullNormal([20.,10, pi], prior_distr)))\n",
    "addFactor(client, context, f)\n",
    "f = Factor(\"l3f1\", \"PriorPose2\", [\"l3\"], PriorPose2Data(Z=NavAbilitySDK.FullNormal([0.,10, -pi/2], prior_distr)))\n",
    "addFactor(client, context, f)\n",
    "f = Factor(\"l4_h1f1\", \"PriorPose2\", [\"l4_h1\"], PriorPose2Data(Z=NavAbilitySDK.FullNormal([20., 4, 0], prior_distr)))\n",
    "addFactor(client, context, f)\n",
    "f = Factor(\"l4_h2f1\", \"PriorPose2\", [\"l4_h2\"], PriorPose2Data(Z=NavAbilitySDK.FullNormal([20., 4, pi], prior_distr)))\n",
    "addFactor(client, context, f)"
   ]
  },
  {
   "cell_type": "code",
   "execution_count": 15,
   "metadata": {},
   "outputs": [
    {
     "data": {
      "text/plain": [
       "Task (runnable) @0x00007f769d855880"
      ]
     },
     "metadata": {},
     "output_type": "display_data"
    }
   ],
   "source": [
    "\n",
    "addVariable(client, context, Variable(\"x0\", :Pose2))\n",
    "\n",
    "f = Factor(\"x0l0l1l2l3f1\", \n",
    "           \"Pose2Pose2\", \n",
    "           [\"x0\", \"l0\", \"l1\", \"l2\", \"l3\"], \n",
    "           Pose2Pose2Data(Z=NavAbilitySDK.FullNormal([-2.,-2, 0], diagm([0.5, 0.5, 0.05].^2))),\n",
    "           multihypo=[1.0, 0.25, 0.25, 0.25, 0.25])\n",
    "addFactor(client, context, f)\n"
   ]
  },
  {
   "cell_type": "code",
   "execution_count": 16,
   "metadata": {},
   "outputs": [
    {
     "data": {
      "text/plain": [
       "Task (runnable) @0x00007f769e5d92c0"
      ]
     },
     "metadata": {},
     "output_type": "display_data"
    }
   ],
   "source": [
    "solveSession(client, context)"
   ]
  },
  {
   "cell_type": "code",
   "execution_count": 18,
   "metadata": {},
   "outputs": [
    {
     "data": {
      "text/plain": [
       "Task (runnable) @0x00007f769f0f42f0"
      ]
     },
     "metadata": {},
     "output_type": "display_data"
    }
   ],
   "source": [
    "\n",
    "\n",
    "addVariable(client, context, Variable(\"x1\", :Pose2))\n",
    "\n",
    "f = Factor(\"x0x1f1\", \n",
    "           \"Pose2Pose2\", \n",
    "           [\"x0\", \"x1\"], \n",
    "           Pose2Pose2Data(Z=NavAbilitySDK.FullNormal([4.,0, pi/2], diagm([0.5, 0.5, 0.05].^2))))\n",
    "addFactor(client, context, f)\n",
    "\n",
    "\n",
    "f = Factor(\"x1l0l1l2l3f1\", \n",
    "           \"Pose2Pose2\", \n",
    "           [\"x1\", \"l0\", \"l1\", \"l2\", \"l3\"], \n",
    "           Pose2Pose2Data(Z=NavAbilitySDK.FullNormal([-2.,-4, 0], diagm([0.5, 0.5, 0.05].^2))),\n",
    "           multihypo=[1.0, 0.25, 0.25, 0.25, 0.25])\n",
    "addFactor(client, context, f)\n",
    "\n"
   ]
  },
  {
   "cell_type": "code",
   "execution_count": 19,
   "metadata": {},
   "outputs": [
    {
     "data": {
      "text/plain": [
       "Task (runnable) @0x00007f769f0ec5d0"
      ]
     },
     "metadata": {},
     "output_type": "display_data"
    }
   ],
   "source": [
    "solveSession(client, context)\n"
   ]
  },
  {
   "cell_type": "code",
   "execution_count": 20,
   "metadata": {},
   "outputs": [
    {
     "data": {
      "text/plain": [
       "Task (runnable) @0x00007f769f0b4d00"
      ]
     },
     "metadata": {},
     "output_type": "display_data"
    }
   ],
   "source": [
    "\n",
    "addVariable(client, context, Variable(\"x2\", :Pose2))\n",
    "\n",
    "f = Factor(\"x1x2f1\", \n",
    "           \"Pose2Pose2\", \n",
    "           [\"x1\", \"x2\"], \n",
    "           Pose2Pose2Data(Z=NavAbilitySDK.FullNormal([16.,0, 0], diagm([0.5, 0.5, 0.05].^2))))\n",
    "addFactor(client, context, f)\n",
    "\n",
    "\n",
    "f = Factor(\"x2l0l1l2l3f1\", \n",
    "           \"Pose2Pose2\", \n",
    "           [\"x2\", \"l0\", \"l1\", \"l2\", \"l3\"], \n",
    "           Pose2Pose2Data(Z=NavAbilitySDK.FullNormal([2.,-4, pi/2], diagm([0.5, 0.5, 0.05].^2))),\n",
    "           multihypo=[1.0, 0.25, 0.25, 0.25, 0.25])\n",
    "addFactor(client, context, f)\n",
    "\n",
    "\n",
    "\n"
   ]
  },
  {
   "cell_type": "code",
   "execution_count": 21,
   "metadata": {},
   "outputs": [
    {
     "data": {
      "text/plain": [
       "Task (runnable) @0x00007f769f0b0e70"
      ]
     },
     "metadata": {},
     "output_type": "display_data"
    }
   ],
   "source": [
    "solveSession(client, context)\n"
   ]
  },
  {
   "cell_type": "code",
   "execution_count": 22,
   "metadata": {},
   "outputs": [
    {
     "data": {
      "text/plain": [
       "Task (runnable) @0x00007f769f0b1430"
      ]
     },
     "metadata": {},
     "output_type": "display_data"
    }
   ],
   "source": [
    "\n",
    "\n",
    "f = Factor(\"x2l4f1\", \n",
    "           \"Pose2Pose2\", \n",
    "           [\"x2\", \"l4_h1\", \"l4_h2\"], \n",
    "           Pose2Pose2Data(Z=NavAbilitySDK.FullNormal([2.,0, pi], diagm([0.5, 0.5, 0.05].^2))),\n",
    "           multihypo=[1.0, 0.5, 0.5])\n",
    "addFactor(client, context, f)\n"
   ]
  },
  {
   "cell_type": "code",
   "execution_count": 23,
   "metadata": {},
   "outputs": [
    {
     "data": {
      "text/plain": [
       "Task (runnable) @0x00007f769f0b3260"
      ]
     },
     "metadata": {},
     "output_type": "display_data"
    }
   ],
   "source": [
    "solveSession(client, context)\n"
   ]
  }
 ],
 "metadata": {
  "kernelspec": {
   "display_name": "Julia 1.7.1",
   "language": "julia",
   "name": "julia-1.7"
  },
  "language_info": {
   "file_extension": ".jl",
   "mimetype": "application/julia",
   "name": "julia",
   "version": "1.7.1"
  },
  "orig_nbformat": 4
 },
 "nbformat": 4,
 "nbformat_minor": 2
}
