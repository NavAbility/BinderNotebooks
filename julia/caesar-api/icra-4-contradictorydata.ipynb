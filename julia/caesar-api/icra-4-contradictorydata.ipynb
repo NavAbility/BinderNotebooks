{
 "cells": [
  {
   "cell_type": "markdown",
   "metadata": {},
   "source": [
    "\n",
    "# ICRA Tutorial 4, Contradictory Prior Data 2D\n",
    "\n",
    "## Overview\n",
    "\n",
    "- This example shows how prior (possibly contradictor) data can be incorporated into a localization and mapping solution.\n",
    "- The value of having prior data for localization and mapping can be enormous, yet the risk of inducing unwanted errors due to contradictory data in the final problem are equally large -- this tutorial will show NavAbility's method of leveraging contradictory prior data as well as detecting discrepancies between \"as-designed\" and \"as-built\" artifacts.\n",
    "- This tutorial will show how to use non-Gaussian inference to resolve the duality problem between measurement errors and contradictory data models by using the multi-hypothesis features in a factor graph solution.\n",
    "- This tutorial is in 2D on a XY-plane, assuming a top down view.\n",
    "- We assume a human operated surveyor measurement station is used for data collection to known markers in a construction environment.\n",
    "- The data used to construct this tutorial is used to generate a factor graph which is solved and the results analyzed.\n",
    "- The data is based on multiple measurement station locations to known makers in the environment.\n",
    "- The measurement locations are not known in advance, but the relative translation between the measurement locations is known.\n",
    "- The known marker locations are known only from the as-designed prior inforation -- for example a CAD model or floor plan of a construction.\n",
    "- To simplify the tutorial, the measurements are assumed to be purely Gaussian and non-Guassian behavior is introduced only through the multi-hypothesis mechanism.\n",
    "- This example shows one of four possible mechanisms by which non-Gaussian behavior can be introduced to a factor graph system.\n",
    "- The multi-hypothesis mechanism used in this tutorial assumes the user will introduce discrete uncertainty into the estimation problem at the factor graph level.\n",
    "  - This is difference from ICRA Tutorial 2 where discrete uncertainty about ambiguous data is marginalized into the measurement before a factor is created.\n",
    "- Other mechanisms shown in other examples can readily be added to this tutorial for a more intricate system."
   ]
  },
  {
   "cell_type": "markdown",
   "metadata": {},
   "source": [
    "\n",
    "## As-Designed vs. As-Built\n",
    "\n",
    "SIMILAR/SIMPLER VERSION OF CONSTRUCTION EXAMPLE FOR RAL PAPER"
   ]
  },
  {
   "cell_type": "code",
   "execution_count": null,
   "metadata": {},
   "outputs": [],
   "source": [
    "using RoME"
   ]
  },
  {
   "cell_type": "code",
   "execution_count": null,
   "metadata": {},
   "outputs": [],
   "source": []
  }
 ],
 "metadata": {
  "kernelspec": {
   "display_name": "Julia 1.7.2",
   "language": "julia",
   "name": "julia-1.7"
  },
  "language_info": {
   "file_extension": ".jl",
   "mimetype": "application/julia",
   "name": "julia",
   "version": "1.7.2"
  },
  "orig_nbformat": 4
 },
 "nbformat": 4,
 "nbformat_minor": 2
}
