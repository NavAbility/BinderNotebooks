{
 "cells": [
  {
   "cell_type": "markdown",
   "metadata": {},
   "source": [
    "ICRA 2022 Tutorial 3, Insufficient Data 2D (Range-only)\n",
    "\n",
    "## Overview\n",
    "\n",
    "- This example shows how non-Gaussian solutions (i.e. singular solutions) from having too few data given the desired system variables.\n",
    "- In 2D on a flat plane, we imagine a robot traveling around in a rectangular trajectory making range measurements to beacons -- let's say WiFi power level is used as a proxy for range in this case.\n",
    "- To illustrate the the underdetermined solution aspect, lets simplify the problem in that WiFi ranging (i.e. power level) is assumed as a pure unimodal (Gaussian) measurement.\n",
    "- The non-Gaussian behavior will arise because we have more variables than measurement dimensions throughout the entire problem.\n",
    "- The factor graph system will be built up in stages as the robot moves around the environment, which we will all pose/keyframe epochs.\n",
    "- A new factor graph solve will be performed at each pose epoch, which produces the posterior marginal beliefs on each of the variables in the system.\n",
    "- We assume the robot is traveling on a XY plane (viewing top down), starting at the origin along X and turning left along Y, then negative X, negative Y back to the origin. \n",
    "- Only four WiFi beacons are in the environment where the robot is moving.\n",
    "- Measurements to the WiFj beacons can only be included with there if the signal is within range.\n",
    "- Two of the beacon locations are known as prior information, while the other two beacons are at an unknown location and their location will be eastimated simultaneously to the robot pose location in the same factor graph system -- making this a minimalal simultaneous localization and mapping (SLAM) problem.\n",
    "- To further simplify the tutorial, a range-only (i.e. distance-only) \"odometry\" measurement will be used between consecutive poses.  These \"odometry\" factors provide less information than conventional wheel or visual odometry constraints might provide.\n",
    "- The tutorial is designed in such a way that the number of variable dimensions always exceed the measurement dimensions.\n",
    "- After each pose epoch solution, we will look at the marginal belief estimates of all the variables in the system.\n",
    "- This tutorial shows one of four mechanisms that can intoduce non-Gaussian behavior into a factor graph system, see other examples for other mechanisms.\n",
    "- Optional, replace pure Gaussian measurement ranging models with ambiguous measurements shown in ICRA Tutorial 2.\n",
    "- Optional, incorporate uncertain data association (i,e. multi-hypothesis) measurement models for unknown beacon associations similat to the technique used in ICRA Tutorial 4.\n",
    "- Learn more from our peer-reviewed publications listed here: `CJLDocs/Literature`\n"
   ]
  },
  {
   "cell_type": "markdown",
   "metadata": {},
   "source": [
    "### Variable, Factor, and Belief Types Used\n",
    "\n",
    "`Point2`, `PriorPoint2`, `Point2Point2Range`, `MvNormal`, `Normal`."
   ]
  },
  {
   "cell_type": "markdown",
   "metadata": {},
   "source": [
    "## Non-Gaussian from too Little Data (Underdetermined)\n",
    "\n",
    "REDUCE THE EXISTING UNDERDETERMINED EXAMPLE TO JUST A RECTANGLE TRAJECTORY.\n",
    "https://juliarobotics.org/Caesar.jl/latest/examples/basic_slamedonut/ "
   ]
  }
 ],
 "metadata": {
  "language_info": {
   "name": "plaintext"
  },
  "orig_nbformat": 4
 },
 "nbformat": 4,
 "nbformat_minor": 2
}
