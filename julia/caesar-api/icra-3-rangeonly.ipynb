{
 "cells": [
  {
   "cell_type": "markdown",
   "metadata": {},
   "source": [
    "# ICRA 2022 Tutorial 3, Insufficient Data 2D (Range-only)\n",
    "\n",
    "## Overview\n",
    "\n",
    "- This example shows how non-Gaussian solutions (i.e. singular solutions) from having too few data given the desired system variables.\n",
    "- In 2D on a flat plane, we imagine a robot traveling around in a rectangular trajectory making range measurements to beacons -- let's say WiFi power level is used as a proxy for range in this case.\n",
    "- To illustrate the the underdetermined solution aspect, lets simplify the problem in that WiFi ranging (i.e. power level) is assumed as a pure unimodal (Gaussian) measurement.\n",
    "- The non-Gaussian behavior will arise because we have more variables than measurement dimensions throughout the entire problem.\n",
    "- The factor graph system will be built up in stages as the robot moves around the environment, which we will all pose/keyframe epochs.\n",
    "- A new factor graph solve will be performed at each pose epoch, which produces the posterior marginal beliefs on each of the variables in the system.\n",
    "- We assume the robot is traveling on a XY plane (viewing top down), starting at the origin along X and turning left along Y, then negative X, negative Y back to the origin. \n",
    "- Only four WiFi beacons are in the environment where the robot is moving.\n",
    "- Measurements to the WiFj beacons can only be included with there if the signal is within range.\n",
    "- Two of the beacon locations are known as prior information, while the other two beacons are at an unknown location and their location will be eastimated simultaneously to the robot pose location in the same factor graph system -- making this a minimalal simultaneous localization and mapping (SLAM) problem.\n",
    "- To further simplify the tutorial, a range-only (i.e. distance-only) \"odometry\" measurement will be used between consecutive poses.  These \"odometry\" factors provide less information than conventional wheel or visual odometry constraints might provide.\n",
    "- The tutorial is designed in such a way that the number of variable dimensions always exceed the measurement dimensions.\n",
    "- After each pose epoch solution, we will look at the marginal belief estimates of all the variables in the system.\n",
    "- This tutorial shows one of four mechanisms that can intoduce non-Gaussian behavior into a factor graph system, see other examples for other mechanisms.\n",
    "- Optional, replace pure Gaussian measurement ranging models with ambiguous measurements shown in ICRA Tutorial 2.\n",
    "- Optional, incorporate uncertain data association (i,e. multi-hypothesis) measurement models for unknown beacon associations similat to the technique used in ICRA Tutorial 4.\n",
    "- Learn more from our peer-reviewed publications listed here: `CJLDocs/Literature`\n"
   ]
  },
  {
   "cell_type": "markdown",
   "metadata": {},
   "source": [
    "### Signatures Used\n",
    "\n",
    "`Point2`, `PriorPoint2`, `Point2Point2Range`, `MvNormal`, `Normal`."
   ]
  },
  {
   "cell_type": "markdown",
   "metadata": {},
   "source": [
    "## Loading The Data\n",
    "\n",
    "The ground truth positions for vehicle positions GTp and landmark positions GTl can be loaded into memory directly with these values:"
   ]
  },
  {
   "cell_type": "code",
   "execution_count": null,
   "metadata": {},
   "outputs": [],
   "source": [
    "GTp = Dict{Symbol, Vector{Float64}}()\n",
    "GTp[:l100] = [0.0;0]\n",
    "GTp[:l101] = [50.0;0]\n",
    "GTp[:l102] = [100.0;0]\n",
    "GTp[:l103] = [100.0;50.0]\n",
    "GTp[:l104] = [100.0;100.0]\n",
    "GTp[:l105] = [50.0;100.0]\n",
    "GTp[:l106] = [0.0;100.0]\n",
    "GTp[:l107] = [0.0;50.0]\n",
    "GTp[:l108] = [0.0;0.0]\n",
    "\n",
    "GTl = Dict{Symbol, Vector{Float64}}()\n",
    "GTl[:l1] = [10.0;30]\n",
    "GTl[:l2] = [30.0;-30]\n",
    "GTl[:l3] = [80.0;40]\n",
    "GTl[:l4] = [120.0;-50]"
   ]
  },
  {
   "cell_type": "markdown",
   "metadata": {},
   "source": [
    "**Note,** \n",
    "- Using variable names `:l1, :l2, ...` or `:l100, :l101, ...` is simply for syntax benefit when visualizing with existing `RoMEPlotting` functions.\n",
    "- Landmarks must be in range before range measurements can be made to them."
   ]
  },
  {
   "cell_type": "markdown",
   "metadata": {},
   "source": [
    "## Creating the Factor Graph with Position2\n",
    "\n"
   ]
  },
  {
   "cell_type": "code",
   "execution_count": null,
   "metadata": {},
   "outputs": [],
   "source": [
    "using IncrementalInference, RoME\n",
    "\n",
    "# TODO remove use of RoME here since new IIF.Position2 will be same as `RoME.Point2`"
   ]
  },
  {
   "cell_type": "code",
   "execution_count": null,
   "metadata": {},
   "outputs": [],
   "source": [
    "# create the factor graph object\n",
    "fg = initfg()\n",
    "\n",
    "# first pose with no initial estimate\n",
    "addVariable!(fg, :l100, Point2)\n",
    "\n",
    "# add three landmarks\n",
    "addVariable!(fg, :l1, Point2)\n",
    "addVariable!(fg, :l2, Point2)\n",
    "addVariable!(fg, :l3, Point2)\n",
    "\n",
    "# and put priors on :l101 and :l102\n",
    "addFactor!(fg, [:l1;], PriorPoint2(MvNormal(GTl[:l1], diagm(ones(2)))) )\n",
    "addFactor!(fg, [:l2;], PriorPoint2(MvNormal(GTl[:l2], diagm(ones(2)))) )"
   ]
  },
  {
   "cell_type": "markdown",
   "metadata": {},
   "source": [
    "The `PriorPoint2` is assumed to be a multivariate normal distribution of covariance `diagm(ones(2))`. Note the API `PriorPoint2(::T) where T <: SamplableBelief = PriorPoint2{T}` to accept distribution objects, discussed further in subsection [Various `SamplableBelief` Distribution types](https://juliarobotics.org/Caesar.jl/latest/concepts/dataassociation/#Various-SamplableBelief-Distribution-Types).\n",
    "\n",
    "## Adding Range Measurements Between Variables\n",
    "\n",
    "Next we connect the three range measurements from the vehicle location `:l0` to the three beacons, respectively – and consider that the range measurements are completely relative between the vehicle and beacon position estimates:"
   ]
  },
  {
   "cell_type": "code",
   "execution_count": null,
   "metadata": {},
   "outputs": [],
   "source": [
    "# first range measurement\n",
    "rhoZ1 = norm(GTl[:l1]-GTp[:l100])\n",
    "ppr = Point2Point2Range( Normal(rhoZ1, 2) )\n",
    "addFactor!(fg, [:l100;:l1], ppr)\n",
    "\n",
    "# second range measurement\n",
    "rhoZ2 = norm(GTl[:l2]-GTp[:l100])\n",
    "ppr = Point2Point2Range( Normal(rhoZ2, 3.0) )\n",
    "addFactor!(fg, [:l100; :l2], ppr)\n",
    "\n",
    "# second range measurement\n",
    "rhoZ3 = norm(GTl[:l3]-GTp[:l100])\n",
    "ppr = Point2Point2Range( Normal(rhoZ3, 3.0) )\n",
    "addFactor!(fg, [:l100; :l3], ppr)"
   ]
  },
  {
   "cell_type": "markdown",
   "metadata": {},
   "source": [
    "The ranging measurement standard deviation of 2.0 or 3.0 is taken, assuming a Gaussian measurement assumption. Again, any distribution could have been used. The factor graph should look as follows:"
   ]
  },
  {
   "cell_type": "code",
   "execution_count": null,
   "metadata": {},
   "outputs": [],
   "source": [
    "DFG.plotDFG(fg) # show the factor graph"
   ]
  },
  {
   "cell_type": "markdown",
   "metadata": {},
   "source": [
    "## Inference and Visualizations\n",
    "\n",
    "At this point we can call the solver start interpreting the first results:"
   ]
  },
  {
   "cell_type": "code",
   "execution_count": null,
   "metadata": {},
   "outputs": [],
   "source": [
    "solveGraph!(fg)"
   ]
  },
  {
   "cell_type": "markdown",
   "metadata": {},
   "source": [
    "The factor graph figure above showed the structure between variables and factors. In order to see the numerical values contained in the factor graph, a set of tools are provided by the RoMEPlotting and KernelDensityEstimatePlotting packages.\n",
    "\n",
    "First look at the two landmark positions `:l1`, `:l2` at `(10.0,30)`, `(30.0,-30)` respectively."
   ]
  },
  {
   "cell_type": "code",
   "execution_count": null,
   "metadata": {},
   "outputs": [],
   "source": [
    "using RoMEPlotting\n",
    "\n",
    "plotKDE(fg, [:l1;:l2], dims=[1;2])"
   ]
  },
  {
   "cell_type": "markdown",
   "metadata": {},
   "source": [
    "Similarly, the belief estimate for the first vehicle position :l100 is bi-modal, due to the intersection of two range measurements:"
   ]
  },
  {
   "cell_type": "code",
   "execution_count": null,
   "metadata": {},
   "outputs": [],
   "source": [
    "plotKDE(fg, :l100, dims=[1;2], levels=6)"
   ]
  },
  {
   "cell_type": "markdown",
   "metadata": {},
   "source": [
    "An alternative plotting interface can also be used, that shows a histogram of desired elements instead:"
   ]
  },
  {
   "cell_type": "code",
   "execution_count": null,
   "metadata": {},
   "outputs": [],
   "source": [
    "plotLandmarks(fg, from=1, to=101, contour=false, drawPoints=true)"
   ]
  },
  {
   "cell_type": "markdown",
   "metadata": {},
   "source": [
    "Notice the ring of particles which represents the belief on the third beacon/landmark :l3, which was not constrained by a prior factor. Instead, the belief over the position of :l3 is being estimated simultaneous to estimating the vehicle position `:l100`."
   ]
  },
  {
   "cell_type": "markdown",
   "metadata": {},
   "source": [
    "## Implicit Growth and Decay of Modes (i.e. Hypotheses)\n",
    "\n",
    "Next consider the vehicle moving a distance of 50 units–-and by design the direction of travel is not known–-to the next true position. The video above gives away the vehicle position with the cyan line, showing travel in the shape of a lower case 'e'. The following function handles (pseudo odometry) factors as range-only between positions and range-only measurement factors to beacons as the vehice travels."
   ]
  },
  {
   "cell_type": "code",
   "execution_count": null,
   "metadata": {},
   "outputs": [],
   "source": [
    "function vehicle_drives_to!(fgl::G, pos_sym::Symbol, GTp::Dict, GTl::Dict; measurelimit::R=150.0) where {G <: AbstractDFG, R <: Real}\n",
    "  currvar = union(ls(fgl)...)\n",
    "  prev_sym = Symbol(\"l$(maximum(Int[parse(Int,string(currvar[i])[2:end]) for i in 2:length(currvar)]))\")\n",
    "  if !(pos_sym in currvar)\n",
    "    println(\"Adding variable vertex $pos_sym, not yet in fgl<:AbstractDFG.\")\n",
    "    addVariable!(fgl, pos_sym, Point2)\n",
    "    @show rho = norm(GTp[prev_sym] - GTp[pos_sym])\n",
    "    ppr = Point2Point2Range( Normal(rho, 3.0) )\n",
    "    addFactor!(fgl, [prev_sym;pos_sym], ppr)\n",
    "  else\n",
    "    @warn \"Variable node $pos_sym already in the factor graph.\"\n",
    "  end\n",
    "  beacons = keys(GTl)\n",
    "  for ll in beacons\n",
    "    rho = norm(GTl[ll] - GTp[pos_sym])\n",
    "    # Check for feasible measurements:  vehicle within 150 units from the beacons/landmarks\n",
    "    if rho < measurelimit\n",
    "      ppr = Point2Point2Range( Normal(rho, 3.0) )\n",
    "      if !(ll in currvar)\n",
    "        println(\"Adding variable vertex $ll, not yet in fgl<:AbstractDFG.\")\n",
    "        addVariable!(fgl, ll, Point2)\n",
    "      end\n",
    "      addFactor!(fgl, [pos_sym;ll], ppr)\n",
    "    end\n",
    "  end\n",
    "  nothing\n",
    "end"
   ]
  },
  {
   "cell_type": "markdown",
   "metadata": {},
   "source": [
    "After pasting (or running) this function in Julia, a new member definition vehicle_drives_to! can be used line any other function. Julia will handle the just-in-time compiling for the type specific function required and cach the static code for repeat executions.\n",
    "\n",
    "**Note**, The exclamation mark at the end of the function name has no syntactic significance in Julia, since the full UTF8 character set is available for functions or variables. Instead, the exclamation serves as a Julia community convention to tell the caller that this function will modify the contents of at least some of the variables being passed into it – in this case the factor graph fg will be modified.\n",
    "\n",
    "Now the actual driving event can be added to the factor graph:"
   ]
  },
  {
   "cell_type": "code",
   "execution_count": null,
   "metadata": {},
   "outputs": [],
   "source": [
    "#drive to location :l101, then :l102\n",
    "vehicle_drives_to!(fg, :l101, GTp, GTl)\n",
    "vehicle_drives_to!(fg, :l102, GTp, GTl)\n",
    "\n",
    "# see the graph\n",
    "DFG.plotDFG(fg)"
   ]
  },
  {
   "cell_type": "markdown",
   "metadata": {},
   "source": [
    "**Note**, the distance traveled could be any combination of accrued direction and speeds, however, a straight line Gaussian error model is used to keep the visual presentation of this example as simple as possible.\n",
    "\n",
    "The marginal posterior estimates are found by repeating inference over the factor graph, followed drawing all vehicle locations as a contour map:"
   ]
  },
  {
   "cell_type": "code",
   "execution_count": null,
   "metadata": {},
   "outputs": [],
   "source": [
    "# solve the graph\n",
    "solveGraph!(fg)\n",
    "\n",
    "# plot all vehicle locations\n",
    "plotKDE(fg, [Symbol(\"l$(100+i)\") for i in 0:2], dims=[1;2])"
   ]
  },
  {
   "cell_type": "markdown",
   "metadata": {},
   "source": [
    "Notice how the vehicle positions have two hypotheses, one left to right and one diagonal right to bottom left – both are valid solutions!"
   ]
  },
  {
   "cell_type": "code",
   "execution_count": null,
   "metadata": {},
   "outputs": [],
   "source": [
    "plotKDE(fg, [:l3;:l4], dims=[1;2], levels=4)"
   ]
  },
  {
   "cell_type": "markdown",
   "metadata": {},
   "source": [
    "The two \"free\" beacons/landmarks :l3,:l4 still have several modes each, implying insufficient data to constrain either to a strong unimodal belief."
   ]
  },
  {
   "cell_type": "code",
   "execution_count": null,
   "metadata": {},
   "outputs": [],
   "source": [
    "vehicle_drives_to!(fg, :l103, GTp, GTl)\n",
    "vehicle_drives_to!(fg, :l104, GTp, GTl)\n",
    "\n",
    "tree = solveTree!(fg)\n",
    "\n",
    "plotKDE(fg, [Symbol(\"l$(100+i)\") for i in 0:4], dims=[1;2])"
   ]
  },
  {
   "cell_type": "markdown",
   "metadata": {},
   "source": [
    "Moving up to position `:l104` still shows strong multiodality in the vehicle position estimates."
   ]
  },
  {
   "cell_type": "code",
   "execution_count": null,
   "metadata": {},
   "outputs": [],
   "source": [
    "vehicle_drives_to!(fg, :l105, GTp, GTl)\n",
    "vehicle_drives_to!(fg, :l106, GTp, GTl)\n",
    "solveGraph!(fg)\n",
    "\n",
    "\n",
    "vehicle_drives_to!(fg, :l107, GTp, GTl)\n",
    "solveGraph!(fg)\n",
    "\n",
    "\n",
    "vehicle_drives_to!(fg, :l108, GTp, GTl)\n",
    "solveGraph!(fg)\n",
    "\n",
    "\n",
    "plotKDE(fg, [Symbol(\"l$(100+i)\") for i in 2:8], dims=[1;2], levels=6)"
   ]
  },
  {
   "cell_type": "markdown",
   "metadata": {},
   "source": [
    "Next we see a strong return to a single dominant mode in all vehicle position estimates, owing to the increased measurements to beacons/landmarks as well as more unimodal estimates in `:l3, :l4` beacon/landmark positions."
   ]
  },
  {
   "cell_type": "code",
   "execution_count": null,
   "metadata": {},
   "outputs": [],
   "source": [
    "vehicle_drives_to!(fg, :l109, GTp, GTl)\n",
    "vehicle_drives_to!(fg, :l110, GTp, GTl)\n",
    "solveGraph!(fg)\n",
    "\n",
    "\n",
    "vehicle_drives_to!(fg, :l111, GTp, GTl)\n",
    "vehicle_drives_to!(fg, :l112, GTp, GTl)\n",
    "solveGraph!(fg)\n",
    "\n",
    "\n",
    "pl = plotKDE(fg, [Symbol(\"l$(100+i)\") for i in 7:12], dims=[1;2])"
   ]
  },
  {
   "cell_type": "markdown",
   "metadata": {},
   "source": [
    "Several location belief estimates exhibit multimodality as the trajectory progresses (not shown), but collapses and finally collapses to a stable set of dominant position estimates.  Landmark estimates are also stable at one estimate:"
   ]
  },
  {
   "cell_type": "code",
   "execution_count": null,
   "metadata": {},
   "outputs": [],
   "source": [
    "plotKDE(fg, [:l1;:l2;:l3;:l4], dims=[1;2], levels=4)"
   ]
  },
  {
   "cell_type": "markdown",
   "metadata": {},
   "source": [
    "## A BIT MORE TO DO HERE\n",
    "\n",
    "REDUCE THE EXISTING UNDERDETERMINED EXAMPLE TO JUST A RECTANGLE TRAJECTORY.\n",
    "https://juliarobotics.org/Caesar.jl/latest/examples/basic_slamedonut/ "
   ]
  }
 ],
 "metadata": {
  "language_info": {
   "name": "plaintext"
  },
  "orig_nbformat": 4
 },
 "nbformat": 4,
 "nbformat_minor": 2
}
