{
 "cells": [
  {
   "cell_type": "markdown",
   "metadata": {},
   "source": [
    "# ICRA 2022 Tutorial 3, Insufficient Data (2D Range-only)\n",
    "\n",
    "**Keywords:** Range-only, factor graph, under-determined, localization, mapping, SLAM, missing data, insufficient data, robotics, inference, Bayes tree, junction tree"
   ]
  },
  {
   "cell_type": "markdown",
   "metadata": {},
   "source": [
    "![Example Overview](../../static/icra-3/example-wifi.png)"
   ]
  },
  {
   "cell_type": "markdown",
   "metadata": {},
   "source": [
    "## Overview\n",
    "\n",
    "- This example shows how non-Gaussian solutions (i.e. singular solutions) from having too few data given the desired system variables.\n",
    "- In 2D on a flat plane, we imagine a robot traveling around in a rectangular trajectory making range measurements to beacons -- let's say WiFi power level is used as a proxy for range in this case.\n",
    "- To illustrate the the underdetermined solution aspect, lets simplify the problem in that WiFi ranging (i.e. power level) is assumed as a pure unimodal (Gaussian) measurement.\n",
    "- The non-Gaussian behavior will arise because we have more variables than measurement dimensions throughout the entire problem.\n",
    "- The factor graph system will be built up in stages as the robot moves around the environment, which we will all pose/keyframe epochs.\n",
    "- A new factor graph solve will be performed at each pose epoch, which produces the posterior marginal beliefs on each of the variables in the system.\n",
    "- We assume the robot is traveling on a XY plane (viewing top down), starting at the origin along X and turning left along Y, then negative X, negative Y back to the origin. \n",
    "- Only four WiFi beacons are in the environment where the robot is moving.\n",
    "- Measurements to the WiFj beacons can only be included with there if the signal is within range.\n",
    "- Two of the beacon locations are known as prior information, while the other two beacons are at an unknown location and their location will be eastimated simultaneously to the robot pose location in the same factor graph system -- making this a minimalal simultaneous localization and mapping (SLAM) problem.\n",
    "- To further simplify the tutorial, a range-only (i.e. distance-only) \"odometry\" measurement will be used between consecutive poses.  These \"odometry\" factors provide less information than conventional wheel or visual odometry constraints might provide.\n",
    "- The tutorial is designed in such a way that the number of variable dimensions always exceed the measurement dimensions.\n",
    "- After each pose epoch solution, we will look at the marginal belief estimates of all the variables in the system.\n",
    "- This tutorial shows one of four mechanisms that can intoduce non-Gaussian behavior into a factor graph system, see other examples for other mechanisms.\n",
    "- Optional, replace pure Gaussian measurement ranging models with ambiguous measurements shown in ICRA Tutorial 2.\n",
    "- Optional, incorporate uncertain data association (i,e. multi-hypothesis) measurement models for unknown beacon associations similat to the technique used in ICRA Tutorial 4.\n",
    "- Learn more from our peer-reviewed publications listed here: `CJLDocs/Literature`"
   ]
  },
  {
   "cell_type": "markdown",
   "metadata": {},
   "source": [
    "### Signatures Used\n",
    "\n",
    "`Point2`, `PriorPoint2`, `Point2Point2Range`, `MvNormal`, `Normal`."
   ]
  },
  {
   "cell_type": "markdown",
   "metadata": {},
   "source": [
    "## Loading The Data\n",
    "\n",
    "The ground truth positions for vehicle positions GTp and landmark positions GTl can be loaded into memory directly with these values.  **Note,** we are using variable names\n",
    "- `l1, l2` as ranging beacons with known locations,\n",
    "- `l3, l4` as ranging beacons with initially unknown locations,  \n",
    "\n",
    "These beacon landmarks must be in range before measurements can be made to them.  For the tutorial, we imagine a robot moving from one position to the next in the XY space between the landmarks.  We use ground truth positions to build the simulation, while the SLAM solution has to resolve estimates of the variables as the main exercise of the tutorial.  The robot positions are denoted as\n",
    "- `x0, x1, ...`.\n",
    "\n",
    "Ground truth data is as follows:"
   ]
  },
  {
   "cell_type": "code",
   "execution_count": 1,
   "metadata": {},
   "outputs": [],
   "source": [
    "# Our dictionary of vehicle positions\n",
    "GTp = Dict{Symbol, Vector{Float64}}()\n",
    "GTp[:x0] = [0.0;0]\n",
    "GTp[:x1] = [50.0;0]\n",
    "GTp[:x2] = [100.0;0]\n",
    "GTp[:x3] = [100.0;50.0]\n",
    "GTp[:x4] = [100.0;100.0]\n",
    "GTp[:x5] = [50.0;100.0]\n",
    "GTp[:x6] = [0.0;100.0]\n",
    "GTp[:x7] = [0.0;50.0]\n",
    "GTp[:x8] = [0.0;-50.0]\n",
    "\n",
    "# Our dictionary of landmark positions\n",
    "GTl = Dict{Symbol, Vector{Float64}}()\n",
    "GTl[:l1] = [10.0;30]\n",
    "GTl[:l2] = [30.0;-30]\n",
    "GTl[:l3] = [80.0;40]\n",
    "GTl[:l4] = [120.0;-50];"
   ]
  },
  {
   "cell_type": "code",
   "execution_count": 2,
   "metadata": {},
   "outputs": [
    {
     "ename": "MethodError",
     "evalue": "MethodError: no method matching Base.CoreLogging.SimpleLogger(::Base.CoreLogging.LogLevel)\nClosest candidates are:\n  Base.CoreLogging.SimpleLogger(::Any, !Matched::Any, !Matched::Any) at logging.jl:624\n  Base.CoreLogging.SimpleLogger() at logging.jl:628\n  Base.CoreLogging.SimpleLogger(!Matched::IO) at logging.jl:628\n  ...",
     "output_type": "error",
     "traceback": [
      "MethodError: no method matching Base.CoreLogging.SimpleLogger(::Base.CoreLogging.LogLevel)\n",
      "Closest candidates are:\n",
      "  Base.CoreLogging.SimpleLogger(::Any, !Matched::Any, !Matched::Any) at logging.jl:624\n",
      "  Base.CoreLogging.SimpleLogger() at logging.jl:628\n",
      "  Base.CoreLogging.SimpleLogger(!Matched::IO) at logging.jl:628\n",
      "  ...\n",
      "\n",
      "Stacktrace:\n",
      "  [1] top-level scope\n",
      "    @ ~/Ganbatte/BinderNotebooks/julia/caesar-api/icra-3-rangeonly.ipynb:3\n",
      "  [2] eval\n",
      "    @ ./boot.jl:360 [inlined]\n",
      "  [3] include_string(mapexpr::typeof(REPL.softscope), mod::Module, code::String, filename::String)\n",
      "    @ Base ./loading.jl:1116\n",
      "  [4] #invokelatest#2\n",
      "    @ ./essentials.jl:708 [inlined]\n",
      "  [5] invokelatest\n",
      "    @ ./essentials.jl:706 [inlined]\n",
      "  [6] (::VSCodeServer.var\"#154#155\"{VSCodeServer.NotebookRunCellArguments, String})()\n",
      "    @ VSCodeServer ~/.vscode/extensions/julialang.language-julia-1.6.6/scripts/packages/VSCodeServer/src/serve_notebook.jl:19\n",
      "  [7] withpath(f::VSCodeServer.var\"#154#155\"{VSCodeServer.NotebookRunCellArguments, String}, path::String)\n",
      "    @ VSCodeServer ~/.vscode/extensions/julialang.language-julia-1.6.6/scripts/packages/VSCodeServer/src/repl.jl:184\n",
      "  [8] notebook_runcell_request(conn::VSCodeServer.JSONRPC.JSONRPCEndpoint{Base.PipeEndpoint, Base.PipeEndpoint}, params::VSCodeServer.NotebookRunCellArguments)\n",
      "    @ VSCodeServer ~/.vscode/extensions/julialang.language-julia-1.6.6/scripts/packages/VSCodeServer/src/serve_notebook.jl:13\n",
      "  [9] dispatch_msg(x::VSCodeServer.JSONRPC.JSONRPCEndpoint{Base.PipeEndpoint, Base.PipeEndpoint}, dispatcher::VSCodeServer.JSONRPC.MsgDispatcher, msg::Dict{String, Any})\n",
      "    @ VSCodeServer.JSONRPC ~/.vscode/extensions/julialang.language-julia-1.6.6/scripts/packages/JSONRPC/src/typed.jl:67\n",
      " [10] serve_notebook(pipename::String; crashreporting_pipename::String)\n",
      "    @ VSCodeServer ~/.vscode/extensions/julialang.language-julia-1.6.6/scripts/packages/VSCodeServer/src/serve_notebook.jl:114\n",
      " [11] top-level scope\n",
      "    @ ~/.vscode/extensions/julialang.language-julia-1.6.6/scripts/notebook/notebook.jl:14\n",
      " [12] include(mod::Module, _path::String)\n",
      "    @ Base ./Base.jl:386\n",
      " [13] exec_options(opts::Base.JLOptions)\n",
      "    @ Base ./client.jl:285\n",
      " [14] _start()\n",
      "    @ Base ./client.jl:485"
     ]
    }
   ],
   "source": [
    "# suppress unnecessary printouts in the notebook\n",
    "using Logging\n",
    "global_logger( SimpleLogger(Logging.Error) );"
   ]
  },
  {
   "cell_type": "markdown",
   "metadata": {},
   "source": [
    "## Creating the Factor Graph\n",
    "\n",
    "Next, lets load the required Julia packages."
   ]
  },
  {
   "cell_type": "code",
   "execution_count": 3,
   "metadata": {},
   "outputs": [
    {
     "name": "stderr",
     "output_type": "stream",
     "text": [
      "┌ Info: FunctionalStateMachine.jl is adding Graphs.jl related tools (Visualization).\n",
      "└ @ FunctionalStateMachine /home/samc/.julia/packages/FunctionalStateMachine/2JZFG/src/StateMachineAnimation.jl:1\n",
      "┌ Info: IncrementalInference.jl is loading tools related to InteractiveUtils.jl.\n",
      "└ @ IncrementalInference /home/samc/.julia/dev/IncrementalInference/src/RequireInteractiveUtils.jl:2\n"
     ]
    }
   ],
   "source": [
    "# load functional libraries (should take 10-20s)\n",
    "using IncrementalInference, RoME"
   ]
  },
  {
   "cell_type": "code",
   "execution_count": null,
   "metadata": {},
   "outputs": [],
   "source": [
    "# load visualization libraries (should take around 20-30s)\n",
    "using GraphPlot, RoMEPlotting"
   ]
  },
  {
   "cell_type": "markdown",
   "metadata": {},
   "source": [
    "After loading the requried packages, lets start creating the factor graph using variables of type `Point2` (a.k.a. `Postion2`)."
   ]
  },
  {
   "cell_type": "code",
   "execution_count": 4,
   "metadata": {},
   "outputs": [
    {
     "data": {
      "text/plain": [
       "\u001b[0m\u001b[1mDFGVariable{\u001b[22m\u001b[34m\u001b[1mPoint2\u001b[22m\u001b[39m\u001b[0m\u001b[1m...}\u001b[22m\n",
       "  manifold:   TranslationGroup(2; field = ℝ)\n",
       "  timestamp:  2022-03-24T22:06:16.763-05:00\n",
       "   nstime:    0 nanoseconds\n",
       "  label:      \u001b[0m\u001b[1ml3\u001b[22m\n",
       "  solvable:   1\n",
       "  tags:       Set([:VARIABLE])\n",
       "\u001b[0m\u001b[1m  # VND solveKeys=    (1)\u001b[22m\n",
       "\u001b[0m\u001b[1m  # initialized:      \u001b[22m(true=0,false=1)\n",
       "\u001b[0m\u001b[1m  # marginalized:     \u001b[22m(true=0,false=1)\n",
       "    :default <-- VariableNodeData\n",
       "      initilized:        false\n",
       "      marginalized:      false\n",
       "      size bel. samples: (100,)\n",
       "      kde bandwidths:    0.0\n",
       "\u001b[0m\u001b[1m     VNDs: \u001b[22m[:default]\n",
       "\u001b[0m\u001b[1m  # PPE solveKeys=    (0)\u001b[22m\n",
       "\u001b[34m\u001b[1m  VariableType: \u001b[22m\u001b[39mPoint2\n"
      ]
     },
     "metadata": {},
     "output_type": "display_data"
    }
   ],
   "source": [
    "# create the factor graph object\n",
    "fg = initfg()\n",
    "\n",
    "# first pose with no initial estimate\n",
    "addVariable!(fg, :x0, Point2)\n",
    "\n",
    "# add three landmarks\n",
    "addVariable!(fg, :l1, Point2)\n",
    "addVariable!(fg, :l2, Point2)\n",
    "addVariable!(fg, :l3, Point2)"
   ]
  },
  {
   "cell_type": "markdown",
   "metadata": {},
   "source": [
    "The initial graph also has prior location information about each of the known beacons/landmarks `l1` and `l2`.  Let's go ahead and add those as factors:"
   ]
  },
  {
   "cell_type": "code",
   "execution_count": 5,
   "metadata": {},
   "outputs": [
    {
     "name": "stderr",
     "output_type": "stream",
     "text": [
      "\u001b[36m\u001b[1m[ \u001b[22m\u001b[39m\u001b[36m\u001b[1mInfo: \u001b[22m\u001b[39mtry doautoinit! of l1\n",
      "\u001b[36m\u001b[1m[ \u001b[22m\u001b[39m\u001b[36m\u001b[1mInfo: \u001b[22m\u001b[39mtry doautoinit! of l2\n"
     ]
    },
    {
     "data": {
      "text/plain": [
       "\u001b[0m\u001b[1mDFGFactor{CommonConvWrapper{\u001b[22m\u001b[34m\u001b[1mPriorPoint2\u001b[22m\u001b[39m\u001b[0m\u001b[1m...}}\u001b[22m\n",
       "  timestamp:     2022-03-24T22:06:44.196-05:00\n",
       "   nstime:       0 nanoseconds\n",
       "  label:         \u001b[0m\u001b[1ml2f1\u001b[22m\n",
       "  solvable:      1\n",
       "  VariableOrder: [:l2]\n",
       "  multihypo:     Float64[]\n",
       "  nullhypo:      0.0\n",
       "  tags:          Set([:FACTOR])\n",
       "\u001b[34m\u001b[1m  FactorType: \u001b[22m\u001b[39mPriorPoint2{FullNormal}\n",
       "\u001b[35mZ:\u001b[39m\n",
       "FullNormal(\n",
       "dim: 2\n",
       "μ: [30.0, -30.0]\n",
       "Σ: [1.0 0.0; 0.0 1.0]\n",
       ")\n",
       "\n"
      ]
     },
     "metadata": {},
     "output_type": "display_data"
    },
    {
     "name": "stderr",
     "output_type": "stream",
     "text": [
      "WARNING: both ApproxManifoldProducts and TransformUtils export \"rotate!\"; uses of it in module RoME must be qualified\n"
     ]
    }
   ],
   "source": [
    "# and put priors on :l1 and :l1\n",
    "addFactor!(fg, [:l1;], PriorPoint2(MvNormal(GTl[:l1], diagm(ones(2)))) )\n",
    "addFactor!(fg, [:l2;], PriorPoint2(MvNormal(GTl[:l2], diagm(ones(2)))) )"
   ]
  },
  {
   "cell_type": "markdown",
   "metadata": {},
   "source": [
    "The `PriorPoint2` is assumed to be a multivariate normal distribution of covariance `diagm(ones(2))`. Note the API `PriorPoint2(::SamplableBelief)` accepts any of the distribution objects that the Caesar.jl libraries support -- this is discussed further in subsection [Various `SamplableBelief` Distribution types](https://juliarobotics.org/Caesar.jl/latest/concepts/dataassociation/#Various-SamplableBelief-Distribution-Types)."
   ]
  },
  {
   "cell_type": "markdown",
   "metadata": {},
   "source": [
    "## Adding Range Measurements Between Variables\n",
    "\n",
    "Next we connect the three range measurements from the vehicle location `x0` to the three beacon landmarks `l1`, `l2`, and `l3`, respectively – and consider that the range measurements are completely relative between the vehicle and beacon position estimates:"
   ]
  },
  {
   "cell_type": "code",
   "execution_count": 12,
   "metadata": {},
   "outputs": [
    {
     "ename": "UndefVarError",
     "evalue": "UndefVarError: np not defined",
     "output_type": "error",
     "traceback": [
      "UndefVarError: np not defined\n",
      "\n",
      "Stacktrace:\n",
      "  [1] top-level scope\n",
      "    @ ~/Ganbatte/BinderNotebooks/julia/caesar-api/icra-3-rangeonly.ipynb:2\n",
      "  [2] eval\n",
      "    @ ./boot.jl:360 [inlined]\n",
      "  [3] include_string(mapexpr::typeof(REPL.softscope), mod::Module, code::String, filename::String)\n",
      "    @ Base ./loading.jl:1116\n",
      "  [4] #invokelatest#2\n",
      "    @ ./essentials.jl:708 [inlined]\n",
      "  [5] invokelatest\n",
      "    @ ./essentials.jl:706 [inlined]\n",
      "  [6] (::VSCodeServer.var\"#154#155\"{VSCodeServer.NotebookRunCellArguments, String})()\n",
      "    @ VSCodeServer ~/.vscode/extensions/julialang.language-julia-1.6.6/scripts/packages/VSCodeServer/src/serve_notebook.jl:19\n",
      "  [7] withpath(f::VSCodeServer.var\"#154#155\"{VSCodeServer.NotebookRunCellArguments, String}, path::String)\n",
      "    @ VSCodeServer ~/.vscode/extensions/julialang.language-julia-1.6.6/scripts/packages/VSCodeServer/src/repl.jl:184\n",
      "  [8] notebook_runcell_request(conn::VSCodeServer.JSONRPC.JSONRPCEndpoint{Base.PipeEndpoint, Base.PipeEndpoint}, params::VSCodeServer.NotebookRunCellArguments)\n",
      "    @ VSCodeServer ~/.vscode/extensions/julialang.language-julia-1.6.6/scripts/packages/VSCodeServer/src/serve_notebook.jl:13\n",
      "  [9] dispatch_msg(x::VSCodeServer.JSONRPC.JSONRPCEndpoint{Base.PipeEndpoint, Base.PipeEndpoint}, dispatcher::VSCodeServer.JSONRPC.MsgDispatcher, msg::Dict{String, Any})\n",
      "    @ VSCodeServer.JSONRPC ~/.vscode/extensions/julialang.language-julia-1.6.6/scripts/packages/JSONRPC/src/typed.jl:67\n",
      " [10] serve_notebook(pipename::String; crashreporting_pipename::String)\n",
      "    @ VSCodeServer ~/.vscode/extensions/julialang.language-julia-1.6.6/scripts/packages/VSCodeServer/src/serve_notebook.jl:114\n",
      " [11] top-level scope\n",
      "    @ ~/.vscode/extensions/julialang.language-julia-1.6.6/scripts/notebook/notebook.jl:14\n",
      " [12] include(mod::Module, _path::String)\n",
      "    @ Base ./Base.jl:386\n",
      " [13] exec_options(opts::Base.JLOptions)\n",
      "    @ Base ./client.jl:285\n",
      " [14] _start()\n",
      "    @ Base ./client.jl:485"
     ]
    }
   ],
   "source": [
    "# first range measurement from x0 to l1\n",
    "rhoZ1 = norm(GTl[:l1]-GTp[:x0])\n",
    "ppr = Point2Point2Range( Normal(rhoZ1, 2) )\n",
    "addFactor!(fg, [:x0;:l1], ppr)\n",
    "\n",
    "# second range measurement from x0 to l2\n",
    "rhoZ2 = norm(GTl[:l2]-GTp[:x0])\n",
    "ppr = Point2Point2Range( Normal(rhoZ2, 3.0) )\n",
    "addFactor!(fg, [:x0; :l2], ppr)\n",
    "\n",
    "# third range measurement from x0 to l3\n",
    "rhoZ3 = norm(GTl[:l3]-GTp[:x0])\n",
    "ppr = Point2Point2Range( Normal(rhoZ3, 3.0) )\n",
    "addFactor!(fg, [:x0; :l3], ppr)"
   ]
  },
  {
   "cell_type": "code",
   "execution_count": 11,
   "metadata": {},
   "outputs": [
    {
     "data": {
      "text/plain": [
       "\"{\\\"label\\\":\\\"x0l3f1\\\",\\\"_version\\\":\\\"0.18.1\\\",\\\"_variableOrderSymbols\\\":[\\\"x0\\\",\\\"l3\\\"],\\\"data\\\":{\\\"eliminated\\\":false,\\\"potentialused\\\":false,\\\"edgeIDs\\\":[],\\\"fnc\\\":{\\\"Z\\\":{\\\"_type\\\":\\\"IncrementalInference.PackedNormal\\\",\\\"mu\\\":89.44271909999159,\\\"sigma\\\":3.0}},\\\"multihypo\\\":[],\\\"certainhypo\\\":[1,2],\\\"nullhypo\\\":0.0,\\\"solveInProgress\\\":0,\\\"inflation\\\":5.0},\\\"tags\\\":[\\\"FACTOR\\\"],\\\"timestamp\\\":\\\"2022-03-24T22:17:04.617-05:00\\\",\\\"nstime\\\":\\\"0\\\",\\\"fnctype\\\":\\\"Point2Point2Range\\\",\\\"solvable\\\":1}\""
      ]
     },
     "metadata": {},
     "output_type": "display_data"
    }
   ],
   "source": [
    "using DistributedFactorGraphs\n",
    "using JSON2\n",
    "JSON2.write(packFactor(fg, getFactor(fg, :x0l3f1)))"
   ]
  },
  {
   "cell_type": "markdown",
   "metadata": {},
   "source": [
    "The ranging measurement standard deviation of 2.0 or 3.0 is taken, assuming a Gaussian measurement assumption. Again, any distribution could have been used. The factor graph should look as follows:"
   ]
  },
  {
   "cell_type": "code",
   "execution_count": null,
   "metadata": {},
   "outputs": [],
   "source": [
    "DFG.plotDFG(fg) # show the factor graph"
   ]
  },
  {
   "cell_type": "markdown",
   "metadata": {},
   "source": [
    "The factor graph figure above shows the structure between variables and factors."
   ]
  },
  {
   "cell_type": "markdown",
   "metadata": {},
   "source": [
    "## Inference and Visualizations\n",
    "\n",
    "At this point we can call the solver and interpret the first results:"
   ]
  },
  {
   "cell_type": "code",
   "execution_count": null,
   "metadata": {},
   "outputs": [],
   "source": [
    "\n",
    "# the first run will be slow for JIT compilation to binary code (next runs are much faster)\n",
    "solveGraph!(fg); # solveGraph! is actually just an alias of solveTree!"
   ]
  },
  {
   "cell_type": "markdown",
   "metadata": {},
   "source": [
    "A set of tools are provided by the RoMEPlotting packages to show the numerical values contained in the factor graph solution.\n",
    "\n",
    "First look at the two landmark positions `l1`, `l2` at `(10.0,30)`, `(30.0,-30)` respectively."
   ]
  },
  {
   "cell_type": "code",
   "execution_count": null,
   "metadata": {},
   "outputs": [],
   "source": [
    "plotBelief(fg, [:l1;:l2], levels=5, c=[\"cyan\"; \"black\"])"
   ]
  },
  {
   "cell_type": "markdown",
   "metadata": {},
   "source": [
    "### First Location is Bi-Modal After Solve\n",
    "\n",
    "Similarly, the belief estimate for the first vehicle position `x0` is bi-modal, due to the intersection of two range measurements:"
   ]
  },
  {
   "cell_type": "code",
   "execution_count": null,
   "metadata": {},
   "outputs": [],
   "source": [
    "plotBelief(fg, :x0, levels=5, c=[\"red\"])"
   ]
  },
  {
   "cell_type": "markdown",
   "metadata": {},
   "source": [
    "Note, the first 'robot' positon in this localization and mapping problem is not associated with by a prior factor of any kind.  The initial position could have been anywhere, but the two range measurements to known landmarks limited the uncertainty as shown in the plot above."
   ]
  },
  {
   "cell_type": "markdown",
   "metadata": {},
   "source": [
    "### Non-Gaussian Estimate of the Unknown Beacon `l3`\n",
    "\n",
    "In contrast to the known beacons `l1` and `l2` which have unimodal position estimates in the solution (owing to the prior information/assumptions on each), the belief over the position of unknown landmark `l3` is simultaneously resolved to a posterior estimate:"
   ]
  },
  {
   "cell_type": "code",
   "execution_count": null,
   "metadata": {},
   "outputs": [],
   "source": [
    "plotBelief(fg, :l3, levels=10, c=[\"pink\"])"
   ]
  },
  {
   "cell_type": "markdown",
   "metadata": {},
   "source": [
    "Notice how `l3`'s location belief (i.e. surveying/mapping) forms a ring around the only available measurement to `l3` from `x0`.  A unimodal solution for `l3` **does not exist**.  In conventional linear modeling, we might say the system is [singular](https://en.wikipedia.org/wiki/Invertible_matrix)."
   ]
  },
  {
   "cell_type": "markdown",
   "metadata": {},
   "source": [
    "## Gaining and Losing Modes (i.e. Hypotheses)\n",
    "\n",
    "Next consider the vehicle moving a distance of 50 units–-and by design the direction of travel is not known–-to the next true position. The video above gives away the vehicle position with the cyan line, showing travel in the shape of a lower case 'e'. The following function handles (pseudo odometry) factors as range-only between positions and range-only measurement factors to beacons as the vehice travels."
   ]
  },
  {
   "cell_type": "code",
   "execution_count": null,
   "metadata": {},
   "outputs": [],
   "source": [
    "# This is a helper function that simulates how the robot moves and measures between ground truth positions. \n",
    "function vehicle_drives!(fgl::G, from_lbl::Symbol, to_lbl::Symbol, GTp::Dict, GTl::Dict; measurelimit::R=150.0) where {G <: AbstractDFG, R <: Real}\n",
    "  currvar = listVariables(fgl)\n",
    "  if !(to_lbl in currvar)\n",
    "    println(\"Adding new variable $to_lbl\")\n",
    "    addVariable!(fgl, to_lbl, Point2)\n",
    "    # an odometry distance factor\n",
    "    @show rho = norm(GTp[from_lbl] - GTp[to_lbl])\n",
    "    ppr = Point2Point2Range( Normal(rho, 3.0) )\n",
    "    addFactor!(fgl, [from_lbl;to_lbl], ppr)\n",
    "  else\n",
    "    @warn \"Variable node $to_lbl already in the factor graph.\"\n",
    "  end\n",
    "  beacons = keys(GTl)\n",
    "  for ll in beacons\n",
    "    rho = norm(GTl[ll] - GTp[to_lbl])\n",
    "    # Add measurements to beacons/landmarks if within limit\n",
    "    if rho < measurelimit\n",
    "      ppr = Point2Point2Range( Normal(rho, 3.0) )\n",
    "      if !(ll in currvar)\n",
    "        println(\"Adding variable vertex $ll, not yet in fgl<:AbstractDFG.\")\n",
    "        addVariable!(fgl, ll, Point2)\n",
    "      end\n",
    "      addFactor!(fgl, [to_lbl;ll], ppr)\n",
    "    end\n",
    "  end\n",
    "  nothing\n",
    "end"
   ]
  },
  {
   "cell_type": "markdown",
   "metadata": {},
   "source": [
    "After running this function in Julia, a new member definition vehicle_drives_to! can be used line any other function. Julia will handle the just-in-time compiling for the type specific function required and cach the static code for repeat executions.\n",
    "\n",
    "> **Note**, The exclamation mark at the end of the function is not reserved syntax in Julia, it's just part of the UTF character set.  The exclamation does, however, serve as a Julia community convention to tell the caller that this function will modify the contents of at least one of the variables being passed into it – in this case the factor graph `fg` will be modified!\n",
    "\n",
    "Now the actual driving event can be added to the factor graph:"
   ]
  },
  {
   "cell_type": "code",
   "execution_count": null,
   "metadata": {},
   "outputs": [],
   "source": [
    "#drive to location :x1, then :x2\n",
    "vehicle_drives!(fg, :x0, :x1, GTp, GTl)\n",
    "vehicle_drives!(fg, :x1, :x2, GTp, GTl)\n",
    "\n",
    "# see the graph\n",
    "DFG.plotDFG(fg)"
   ]
  },
  {
   "cell_type": "markdown",
   "metadata": {},
   "source": [
    "**Note**, the distance traveled could be any combination of accrued direction and speeds, however, a straight line Gaussian error model is used to keep the visual presentation of this example as simple as possible.\n",
    "\n",
    "Lets solve the whole factor graph again."
   ]
  },
  {
   "cell_type": "code",
   "execution_count": null,
   "metadata": {},
   "outputs": [],
   "source": [
    "# solve the graph\n",
    "solveGraph!(fg);"
   ]
  },
  {
   "cell_type": "markdown",
   "metadata": {},
   "source": [
    "### Multi-Modal (i.e. Multi-Hypothesis) Solution\n",
    "\n",
    "Now lets look at the robot position marginal beliefs.  We'll use a slightly lower level plotting function, `plotBelief`, to show the posterior beliefs of the tree robot locations:"
   ]
  },
  {
   "cell_type": "code",
   "execution_count": null,
   "metadata": {},
   "outputs": [],
   "source": [
    "# plot robot positions, legacy signature `plotBelief = plotKDE``\n",
    "plotBelief(fg, [:x0; :x1; :x2], levels=5, c=[\"red\",\"green\",\"blue\"])"
   ]
  },
  {
   "cell_type": "markdown",
   "metadata": {},
   "source": [
    "Notice how the robot trajectory has 2+ hypotheses,\n",
    "- a) starting from `(0,0)` and traversing left to right, and \n",
    "- b) starting from `(50,-5)` and traversing left down.\n",
    "\n",
    "Both are valid solutions!"
   ]
  },
  {
   "cell_type": "markdown",
   "metadata": {},
   "source": [
    "### Resolving Estimates for New Beacons `l3` and `l4`\n",
    "\n",
    "Let's look at how may measurements have so far been collected for the two unknown landmarks.  We'll use the `ls` function to see the connectivity between variables in the graph:"
   ]
  },
  {
   "cell_type": "code",
   "execution_count": null,
   "metadata": {},
   "outputs": [],
   "source": [
    "@show ls(fg, :l3);\n",
    "@show ls(fg, :l4);"
   ]
  },
  {
   "cell_type": "markdown",
   "metadata": {},
   "source": [
    "We therefore see that measurements to the **initially unknown beacons** are:\n",
    "- ranges to `l3` were measured from all three robot positions `[x0,x1,x2]`, and\n",
    "- ranges to `l4` were only mearured from two robot positions `[x1, x2]`\n",
    "\n",
    "Can you guess what the posterior belief estimate on new beacons `l3` or `l4` are given the available information up this point?  Let's plot and see..."
   ]
  },
  {
   "cell_type": "code",
   "execution_count": null,
   "metadata": {},
   "outputs": [],
   "source": [
    "plotBelief(fg, [:l3;:l4], levels=5, c=[\"pink\"; \"orange\"])"
   ]
  },
  {
   "cell_type": "markdown",
   "metadata": {},
   "source": [
    "The two \"free\" beacons/landmarks `l3,l4` still have several modes each, implying insufficient data to constrain either to a conventional unimodal belief."
   ]
  },
  {
   "cell_type": "markdown",
   "metadata": {},
   "source": [
    "## Robot Moves Two More Positions\n",
    "\n",
    "The robot drives further to collect more information, keeping in mind that so far that only the two known beacons `l1` and `l2` have unimodal posterior belief estimates!  All other variables in the system `[l3;l4; x0;x1;x2]` have multi-modal belief"
   ]
  },
  {
   "cell_type": "code",
   "execution_count": null,
   "metadata": {},
   "outputs": [],
   "source": [
    "vehicle_drives!(fg, :x2, :x3, GTp, GTl)\n",
    "vehicle_drives!(fg, :x3, :x4, GTp, GTl)\n",
    "\n",
    "solveGraph!(fg);"
   ]
  },
  {
   "cell_type": "markdown",
   "metadata": {},
   "source": [
    "### Estimating the Robot's Latest Position at `x3`\n",
    "\n",
    "After the above factor graph solution, lets see what the latest robot position belief estimate looks like: "
   ]
  },
  {
   "cell_type": "code",
   "execution_count": null,
   "metadata": {},
   "outputs": [],
   "source": [
    "plotBelief(fg, [:x0;:x1;:x2;:x3;:x4], levels=5) #, c=[\"red\";\"green\";\"blue\";\"magenta\"])"
   ]
  },
  {
   "cell_type": "markdown",
   "metadata": {},
   "source": [
    "Notice how, even though several new range measurements were made, the posterior on `x3` has an increasing number of modes!  The number of modes may vary from solution to solution, but at least two dominant modes should be visible.\n",
    "\n",
    "Modes are gained or lost based on a combination of the problem setup and nonparametric variations within each individual solve.  More dominant modes are more consistent, while 'weak' modes may come or go from one solve to the next.  If more compute resources are used, then more and more 'weaker' modes will be recovered.\n",
    "\n",
    "> Several solver parameters can be modified to control the compute load vs. multimodal tracking efficacy.  Join the [Caesar.jl Slack](https://join.slack.com/t/caesarjl/shared_invite/zt-ucs06bwg-y2tEbddwX1vR18MASnOLsw) conversations, or connect with [NavAbility.io](https://www.navability.io/) to learn more."
   ]
  },
  {
   "cell_type": "markdown",
   "metadata": {},
   "source": [
    "The first robot position `[x0,x1]` belief estimates didn't change much with the addition new information!  There are still active hypotheses in the trajectory estimates going from `x0` to `x1`.  Perhaps the reason for that is because the new landmarks `[l3; l4]` are yet to be constrained to a low number of modes, lets see..."
   ]
  },
  {
   "cell_type": "markdown",
   "metadata": {},
   "source": [
    "### Progress on Locating New Beacons `l3` and `l4`\n",
    "\n",
    "We expect the uncertainty on position estimates for the initially unknown beacons `[l3;l4]` to decrease as new measurements are added to the overall problem.  Let's look again at the new posteriors on `l3` and `l4`:"
   ]
  },
  {
   "cell_type": "code",
   "execution_count": null,
   "metadata": {},
   "outputs": [],
   "source": [
    "plotBelief(fg, [:l3;:l4], levels=5, c=[\"pink\"; \"orange\"])"
   ]
  },
  {
   "cell_type": "markdown",
   "metadata": {},
   "source": [
    "There are still multiple modes on both `l3` and `l4`!  We still have way too little information to resolve a unimodal estimate on either the robot positions or the new beacon locations!  The entire system remains underdetermined, i.e. singular!"
   ]
  },
  {
   "cell_type": "markdown",
   "metadata": {},
   "source": [
    "### Moving to Positions `x5` and `x6`\n",
    "\n",
    "The robot moves further through positions `x5` and `x6`, and let's solve again and look at the results:"
   ]
  },
  {
   "cell_type": "code",
   "execution_count": null,
   "metadata": {},
   "outputs": [],
   "source": [
    "vehicle_drives!(fg, :x4, :x5, GTp, GTl)\n",
    "vehicle_drives!(fg, :x5, :x6, GTp, GTl)"
   ]
  },
  {
   "cell_type": "code",
   "execution_count": null,
   "metadata": {},
   "outputs": [],
   "source": [
    "solveGraph!(fg);\n",
    "\n",
    "plotBelief(fg, [Symbol(\"x$i\") for i=0:6], levels=3)"
   ]
  },
  {
   "cell_type": "markdown",
   "metadata": {},
   "source": [
    "#### Reviewing Landmark Location Estimates Again"
   ]
  },
  {
   "cell_type": "code",
   "execution_count": null,
   "metadata": {},
   "outputs": [],
   "source": [
    "plotBelief(fg, [:l1;:l2;:l3;:l4], levels=5, c=[\"cyan\";\"black\";\"pink\"; \"orange\"])"
   ]
  },
  {
   "cell_type": "markdown",
   "metadata": {},
   "source": [
    "## Moving to Positions `x7` and `x8`"
   ]
  },
  {
   "cell_type": "code",
   "execution_count": null,
   "metadata": {},
   "outputs": [],
   "source": [
    "vehicle_drives!(fg, :x6, :x7, GTp, GTl)\n",
    "vehicle_drives!(fg, :x7, :x8, GTp, GTl)"
   ]
  },
  {
   "cell_type": "code",
   "execution_count": null,
   "metadata": {},
   "outputs": [],
   "source": [
    "solveGraph!(fg);"
   ]
  },
  {
   "cell_type": "code",
   "execution_count": null,
   "metadata": {},
   "outputs": [],
   "source": [
    "plotBelief(fg, sortDFG(ls(fg, r\"x\\d\")), levels=5)"
   ]
  },
  {
   "cell_type": "markdown",
   "metadata": {},
   "source": [
    "Next we see a strong return to a single dominant mode in all vehicle position estimates, owing to the increased measurements to beacons/landmarks as well as more unimodal estimates in `l3, l4` beacon/landmark positions."
   ]
  },
  {
   "cell_type": "markdown",
   "metadata": {},
   "source": [
    "Several location belief estimates exhibit multimodality as the trajectory progresses (not shown), but collapses a stable set of dominant position estimates.  Landmark estimates are also stable at one estimate:"
   ]
  },
  {
   "cell_type": "code",
   "execution_count": null,
   "metadata": {},
   "outputs": [],
   "source": [
    "plotBelief(fg, [:l1;:l2;:l3;:l4], levels=4)"
   ]
  },
  {
   "cell_type": "markdown",
   "metadata": {},
   "source": [
    "Lets also just look at what the factor graph looks like at this point:"
   ]
  },
  {
   "cell_type": "code",
   "execution_count": null,
   "metadata": {},
   "outputs": [],
   "source": [
    "DFG.plotDFG(fg)"
   ]
  },
  {
   "cell_type": "markdown",
   "metadata": {},
   "source": [
    "## Conclusion\n",
    "\n",
    "Theoretically, should there be one or more overall trajectory hypotheses in the final result?"
   ]
  },
  {
   "cell_type": "markdown",
   "metadata": {},
   "source": [
    "## Next Steps\n",
    "\n",
    "- This Tutorial showed [ONE OF FOUR](https://juliarobotics.org/Caesar.jl/latest/concepts/why_nongaussian/) identified mechanisms how non-Gaussian behavior can enter a localization and mapping system.  See the other tutorials and material for similar discussions on other mechanism by which multi-modal posteriors manifest.\n",
    "- For a longer version of this example, see [open-source solver documentation here](https://juliarobotics.org/Caesar.jl/latest/examples/basic_slamedonut/).\n",
    "\n",
    "Visit [www.NavAbility.io](https://www.NavAbility.io) for more about how to use these and other advanced navigation features in your application."
   ]
  }
 ],
 "metadata": {
  "kernelspec": {
   "display_name": "Julia 1.6.3",
   "language": "julia",
   "name": "julia-1.6"
  },
  "language_info": {
   "file_extension": ".jl",
   "mimetype": "application/julia",
   "name": "julia",
   "version": "1.6.3"
  },
  "orig_nbformat": 4
 },
 "nbformat": 4,
 "nbformat_minor": 2
}
