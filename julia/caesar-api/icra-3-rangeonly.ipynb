# ICRA 2022 Tutorial 3, Insufficient Data 2D (Range-only)

## Overview

- This example shows how non-Gaussian solutions (i.e. singular solutions) from having too few data given the desired system variables.
- In 2D on a flat plane, we imagine a robot traveling around in a rectangular trajectory making range measurements to beacons -- let's say WiFi power level is used as a proxy for range in this case.
- To illustrate the the underdetermined solution aspect, lets simplify the problem in that WiFi ranging (i.e. power level) is assumed as a pure unimodal (Gaussian) measurement.
- The non-Gaussian behavior will arise because we have more variables than measurement dimensions throughout the entire problem.
- The factor graph system will be built up in stages as the robot moves around the environment, which we will all pose/keyframe epochs.
- A new factor graph solve will be performed at each pose epoch, which produces the posterior marginal beliefs on each of the variables in the system.
- We assume the robot is traveling on a XY plane (viewing top down), starting at the origin along X and turning left along Y, then negative X, negative Y back to the origin. 
- Only four WiFi beacons are in the environment where the robot is moving.
- Measurements to the WiFj beacons can only be included with there if the signal is within range.
- Two of the beacon locations are known as prior information, while the other two beacons are at an unknown location and their location will be eastimated simultaneously to the robot pose location in the same factor graph system -- making this a minimalal simultaneous localization and mapping (SLAM) problem.
- To further simplify the tutorial, a range-only (i.e. distance-only) "odometry" measurement will be used between consecutive poses.  These "odometry" factors provide less information than conventional wheel or visual odometry constraints might provide.
- The tutorial is designed in such a way that the number of variable dimensions always exceed the measurement dimensions.
- After each pose epoch solution, we will look at the marginal belief estimates of all the variables in the system.
- This tutorial shows one of four mechanisms that can intoduce non-Gaussian behavior into a factor graph system, see other examples for other mechanisms.
- Optional, replace pure Gaussian measurement ranging models with ambiguous measurements shown in ICRA Tutorial 2.
- Optional, incorporate uncertain data association (i,e. multi-hypothesis) measurement models for unknown beacon associations similat to the technique used in ICRA Tutorial 4.
- Learn more from our peer-reviewed publications listed here: `CJLDocs/Literature`
  
### Variable, Factor, and Belief Types Used

`Point2`, `PriorPoint2`, `Point2Point2Range`, `MvNormal`, `Normal`.


## Non-Gaussian from too Little Data (Underdetermined)

REDUCE THE EXISTING UNDERDETERMINED EXAMPLE TO JUST A RECTANGLE TRAJECTORY.
https://juliarobotics.org/Caesar.jl/latest/examples/basic_slamedonut/ 
