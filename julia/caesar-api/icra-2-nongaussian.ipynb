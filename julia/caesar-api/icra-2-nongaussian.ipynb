{
 "cells": [
  {
   "cell_type": "markdown",
   "metadata": {},
   "source": [
    "# Non-Gaussian Measurements Tutorial 2\n",
    "\n",
    "## Overview\n",
    "\n",
    "- This tutorial introduces non-Gaussian estimation via a factor graph solution.\n",
    "- Factor graphs should be thought of fully probabilisitic interactions between variables, as modelled by the factors.\n",
    "- This tutorial shows how measurement statistics do not have be unimodal bell curve (i.e. normal/Gaussian) and thereby introduce non-Gaussian behavior.\n",
    "- This example will use only continuous stochastic variables with slightly more diverse measurement distribution.\n",
    "- This tutorial is one dimension with only a few variables and factors, in order to get comfortable working with multi-modal beliefs.\n",
    "- This example is showing one of four mechanisms by which non-Gaussian behavior can get introduced into a factor graph solution, see other tutorials for other mechanisms.\n",
    "- This tutorial illustrates how algebraic relations (i.e. residual functions) between multiple stochastic variables are calculated, as well as the final posterior belief estimate, from several pieces of information.\n",
    "- The tutorial implicitly shows a multi-modal uncertainty can be introduced from non-Gaussian measurements, and then transmitted through the system.\n",
    "- The tutorial also illustrates consensus through an additional piece of information, which reduces all stochastic variable marginal beliefs to unimodal only beliefs.\n",
    "- The ambiguous measurement data example shown in this tutorial can readily be incorporated in other use cases.\n",
    "- Lastly, this tutorial will also show how graph-based automatic initialization of variables is achieved with the Caesar.jl solver.\n",
    "\n",
    "### Signatures Used\n",
    "\n",
    "`ContinuousScalar`, `Prior`, `LinearRelative`, `Mixture`, `Normal`, `plotKDE`, `plotDFG`, `isInitialized`, `initAll!`, `solveGraph!`\n",
    "\n",
    "## Ambiguous Data Example\n",
    "\n",
    "The application of this tutorial is presented in abstract from which the user is free to imagine any system of relationships:  For example, a robot driving in a one dimensional world; or a time traveler making uncertain jumps \n",
    "forwards and backwards in time.\n",
    "\n",
    "To start, the two major mathematical packages are brought into scope."
   ]
  },
  {
   "cell_type": "code",
   "execution_count": null,
   "metadata": {},
   "outputs": [],
   "source": [
    "# Install if needed with: \n",
    "# import Pkg; Pkg.add(Pkg.PackageSpec(name=\"IncrementalInference\", version=\"0.27\"))\n",
    "using IncrementalInference"
   ]
  },
  {
   "cell_type": "code",
   "execution_count": null,
   "metadata": {},
   "outputs": [],
   "source": [
    "# suppress unnecessary printouts in the notebook\n",
    "using Logging\n",
    "Logging.disable_logging(Logging.Warn)"
   ]
  },
  {
   "cell_type": "markdown",
   "metadata": {},
   "source": [
    " \n",
    "## Starting a 1D Factor Graph\n",
    "\n",
    "### Variable, `ContinuousScalar`\n",
    "\n",
    "The next step is to describe the inference problem with a graphical model with any of the existing concrete types that inherit from  `<: AbstractDFG`.\n",
    "The first step is to create an empty factor graph object and start populating it with variable nodes.\n",
    "The variable nodes are identified by `Symbol`s, namely `x0, x1, x2, x3`.\n"
   ]
  },
  {
   "cell_type": "code",
   "execution_count": null,
   "metadata": {},
   "outputs": [],
   "source": [
    "# Start with an empty factor graph\n",
    "fg = initfg()\n",
    "\n",
    "# add the first node\n",
    "addVariable!(fg, :x0, ContinuousScalar)"
   ]
  },
  {
   "cell_type": "markdown",
   "metadata": {},
   "source": [
    "### Prior Factor, (Euclidean(1))\n",
    "\n",
    "Factor graphs are bipartite graphs with `factors` that act as mathematical structure between interacting `variables`.\n",
    "After adding node `x0`, a singleton factor of type `Prior` (which was defined by the user earlier) is 'connected to' variable node `x0`.\n",
    "This unary factor is taken as a `Distributions.Normal` distribution with zero mean and a standard devitation of `1`.\n"
   ]
  },
  {
   "cell_type": "code",
   "execution_count": null,
   "metadata": {},
   "outputs": [],
   "source": [
    "# this is unary (prior) factor and does not immediately trigger autoinit of :x0.\n",
    "addFactor!(fg, [:x0], Prior(Normal(0,1)))"
   ]
  },
  {
   "cell_type": "markdown",
   "metadata": {},
   "source": [
    "**Note**, this example is using just `Prior`, which is a simplification for the sake of this tutorial.  Look out for on-manifold prior factors in other code examples.\n",
    "\n",
    "### Visualizing Graph Topology"
   ]
  },
  {
   "cell_type": "code",
   "execution_count": null,
   "metadata": {},
   "outputs": [],
   "source": [
    "# Install if needed with: \n",
    "# import Pkg; Pkg.add(\"GraphPlot\")\n",
    "using GraphPlot"
   ]
  },
  {
   "cell_type": "code",
   "execution_count": null,
   "metadata": {},
   "outputs": [],
   "source": [
    "DFG.plotDFG(fg)"
   ]
  },
  {
   "cell_type": "markdown",
   "metadata": {},
   "source": [
    "\n",
    "The topological graph plot above shows the two node factor graph, one variable and one prior factor.  \n",
    "This example uses graph-based automatic variable initialization which was discussed in ICRA 2022 Tutorial 1."
   ]
  },
  {
   "cell_type": "markdown",
   "metadata": {},
   "source": [
    "### Next Variable and Relative Factor\n",
    "\n",
    "Now let's add a second variable `x1`, and connect it to `x0` with a `LinearRelative` factor."
   ]
  },
  {
   "cell_type": "code",
   "execution_count": null,
   "metadata": {},
   "outputs": [],
   "source": [
    "addVariable!(fg, :x1, ContinuousScalar)\n",
    "# P(Z | :x1 - :x0 ) where Z ~ Normal(10,1)\n",
    "addFactor!(fg, [:x0, :x1], LinearRelative(Normal(10.0,1)))"
   ]
  },
  {
   "cell_type": "markdown",
   "metadata": {},
   "source": [
    "### Visualizing the Variable Probability Belief\n",
    "\n",
    "The `RoMEPlotting.jl` package allows visualization (plotting) of the belief state over any of the variable nodes.\n",
    "Remember the first time executions are slow given required code compilation, and that future versions of these package will use more precompilation to reduce first execution running cost."
   ]
  },
  {
   "cell_type": "code",
   "execution_count": null,
   "metadata": {},
   "outputs": [],
   "source": [
    "using RoMEPlotting\n",
    "\n",
    "plotBelief(fg, :x0)"
   ]
  },
  {
   "cell_type": "markdown",
   "metadata": {},
   "source": [
    "\n",
    "By forcing the initialization of `:x1` and plotting its belief estimate,"
   ]
  },
  {
   "cell_type": "code",
   "execution_count": null,
   "metadata": {},
   "outputs": [],
   "source": [
    "initAll!(fg)\n",
    "plotBelief(fg, [:x0, :x1])"
   ]
  },
  {
   "cell_type": "markdown",
   "metadata": {},
   "source": [
    "the predicted influence of the `P(Z| X1 - X0) = LinearRelative(Normal(10, 1))` is shown by the red trace.\n",
    "The red trace (predicted belief of `x1`) is noting more than the approximated convolution of the current marginal belief of `x0` with the conditional belief described by `P(Z | X1 - X0)`.\n",
    "\n",
    "\n",
    "### Mixture Distribution on Next Relative Factor\n",
    "\n",
    "Another `ContinuousScalar` variable `x2` is 'connected' to `x1` through a more complicated `MixtureRelative` likelihood function."
   ]
  },
  {
   "cell_type": "code",
   "execution_count": null,
   "metadata": {},
   "outputs": [],
   "source": [
    "addVariable!(fg, :x2, ContinuousScalar)\n",
    "mmo = Mixture(LinearRelative, \n",
    "              (hypo1=Rayleigh(3), hypo2=Uniform(30,55)), \n",
    "              [0.4; 0.6])\n",
    "addFactor!(fg, [:x1, :x2], mmo)"
   ]
  },
  {
   "cell_type": "code",
   "execution_count": null,
   "metadata": {},
   "outputs": [],
   "source": [
    "using DistributedFactorGraphs\n",
    "pack = packFactor(fg, getFactor(fg, :x1x2f1))\n",
    "using JSON\n",
    "@info JSON.json(pack)"
   ]
  },
  {
   "cell_type": "markdown",
   "metadata": {},
   "source": [
    "\n",
    "The `mmo` variable illustrates how a near arbitrary mixture probability distribution can be used as a conditional relationship between variable nodes in the factor graph.\n",
    "In this case, a 40%/60% balance of a Rayleigh and truncated Uniform distribution which acts as a multi-modal conditional belief.\n",
    "Interpret carefully what a conditional belief of this nature actually means.\n",
    "\n",
    "Following the tutorial's practical example frameworks (robot navigation or time travel), this multi-modal belief implies that moving from one of the probable locations in `x1` to a location in `x2` by some processes defined by `mmo=P(Z | X2, X1)` is uncertain to the same 40%/60% ratio.\n",
    "In practical terms, collapsing (through observation of an event) the probabilistic likelihoods of the transition from `x1` to `x2` may result in the `x2` location being at either 15-20, or 40-65-ish units.\n",
    "The predicted belief over `x2` is illustrated by plotting the predicted belief (green trace), after forcing initialization."
   ]
  },
  {
   "cell_type": "code",
   "execution_count": null,
   "metadata": {},
   "outputs": [],
   "source": [
    "initAll!(fg)\n",
    "plotBelief(fg, [:x0, :x1, :x2])"
   ]
  },
  {
   "cell_type": "markdown",
   "metadata": {},
   "source": [
    "\n",
    "## Adding Variable `x3`\n",
    "\n",
    "Adding one more variable `x3` through another `LinearRelative(Normal(-50,1))`"
   ]
  },
  {
   "cell_type": "code",
   "execution_count": null,
   "metadata": {},
   "outputs": [],
   "source": [
    "addVariable!(fg, :x3, ContinuousScalar)\n",
    "addFactor!(fg, [:x2, :x3], LinearRelative(Normal(-50, 1)))"
   ]
  },
  {
   "cell_type": "markdown",
   "metadata": {},
   "source": [
    "expands the factor graph to to four variables and four factors.\n",
    "This part of the tutorial shows how a unimodal likelihood (conditional belief) can transmit the bimodal belief currently contained in `:x2`."
   ]
  },
  {
   "cell_type": "code",
   "execution_count": null,
   "metadata": {},
   "outputs": [],
   "source": [
    "initAll!(fg)\n",
    "plotBelief(fg, [:x0, :x1, :x2, :x3])"
   ]
  },
  {
   "cell_type": "markdown",
   "metadata": {},
   "source": [
    "Notice the blue trace (`x3`) is a shifted and slightly spread out version of the initialized belief on `x2`, through the convolution with the conditional belief `P(Z | X2, X3)`.\n",
    "\n",
    "### The Last Factor\n",
    "\n",
    "\n",
    "Global inference over the entire factor graph has still not occurred, and will at this stage produce roughly similar results to the predicted beliefs shown above.\n",
    "Only by introducing more information into the factor graph can inference extract more precise marginal belief estimates for each of the variables.\n",
    "A final piece of information added to this graph is a factor directly relating `x3` with `x0`."
   ]
  },
  {
   "cell_type": "code",
   "execution_count": null,
   "metadata": {},
   "outputs": [],
   "source": [
    "addFactor!(fg, [:x3, :x0], LinearRelative(Normal(40, 1)))"
   ]
  },
  {
   "cell_type": "markdown",
   "metadata": {},
   "source": [
    "Pay close attention to what this last factor means in terms of the probability density traces shown in the previous figure.\n",
    "The blue trace for `x3` has two major modes, one that overlaps with `x0, x1` near 0 and a second mode further to the left at -40.\n",
    "The last factor introduces a shift `LinearRelative(Normal(40,1))` which essentially aligns the left most mode of `x3` back onto `x0`.\n",
    "\n",
    "This last factor forces a mode selection through consensus.\n",
    "By doing global inference, the new information obtained in `x3` will be equally propagated to `x2` where only one of the two modes will remain.\n",
    "\n",
    "## Solve the Graph\n",
    "\n",
    "\n",
    "Global inference is achieved with local computation using two function calls, as follows.\n"
   ]
  },
  {
   "cell_type": "code",
   "execution_count": null,
   "metadata": {},
   "outputs": [],
   "source": [
    "tree = solveGraph!(fg)\n",
    "\n",
    "# and visualization\n",
    "plotBelief(fg, [:x0, :x1, :x2, :x3])"
   ]
  },
  {
   "cell_type": "markdown",
   "metadata": {},
   "source": [
    "The resulting posterior marginal beliefs over all the system variables are:\n",
    "\n",
    "## Conclusion\n",
    "\n",
    "It is import to note that although this tutorial ends with all marginal beliefs having near Gaussian shape and are unimodal, that the package supports multi-modal belief estimates during both the prediction and global inference processes.\n",
    "In fact, many of the same underlying inference functions are involved with the automatic initialization process and the global multi-modal iSAM inference procedure.\n",
    "This concludes the ContinuousScalar tutorial"
   ]
  },
  {
   "cell_type": "code",
   "execution_count": null,
   "metadata": {},
   "outputs": [],
   "source": [
    "# Should be deleted\n",
    "using DistributedFactorGraphs\n",
    "vs = ls(fg)\n",
    "for v in vs\n",
    "  @info packVariable(fg, getVariable(fg, v))\n",
    "end\n",
    "#fs = lsf(fg)"
   ]
  },
  {
   "cell_type": "code",
   "execution_count": null,
   "metadata": {},
   "outputs": [],
   "source": []
  }
 ],
 "metadata": {
  "kernelspec": {
   "display_name": "Julia 1.7.2",
   "language": "julia",
   "name": "julia-1.7"
  },
  "language_info": {
   "file_extension": ".jl",
   "mimetype": "application/julia",
   "name": "julia",
   "version": "1.7.2"
  },
  "orig_nbformat": 4
 },
 "nbformat": 4,
 "nbformat_minor": 2
}
