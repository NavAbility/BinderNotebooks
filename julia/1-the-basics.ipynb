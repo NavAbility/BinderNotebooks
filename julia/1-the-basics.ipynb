{
 "cells": [
  {
   "cell_type": "markdown",
   "metadata": {},
   "source": [
    "# Tuturial 1: Creating and Solving Factor Graphs\n",
    "In this tutorial you will lear the basics of factor graphs and consepts such as variables, factors, priors and how create solve and explore them.\n",
    "\n",
    "## What is a Factor Graph\n",
    "\n",
    "Wikipedia tels us a factor graph is a bipartite graph representing the factorization of a function.\n",
    " \n",
    "If you haven't taken some advanced statistics classes you are probably wondering, bipartite graph?, factorization?, I just want to navigate my robot.\n",
    "For robotics, factor graphs are the common language used to describe your robot's estimation problem (the function) in a way both humans and computers can understand. \n",
    "The estimation problem can be anything from robot localization, structure from motion, calibration to full PoseSLAM with parametric or non-parametric measurements and beliefs.\n",
    "A factor graph is a graphical model with two types of nodes, variables and factors, connected by edges between the variables and factors (bipartite graph). \n",
    "Variables represent the unknown random variables in the estimation problem, such as vehicle or landmark positions, sensor calibration parameters, and more.\n",
    "Factors represent the algebraic interaction between particular variables, such as wheel odometry, which is captured through edges. \n",
    "Breaking down the complex system describing your robot to a graph of variables and factors is the factorization of the function decribing your system, such as the position and orientation (pose) of your robot at any given time. \n",
    "This factorisation allows us to solve the optimization problem for every variable given every measurement described by the factors.\n",
    "See Caesar.jl docs [Graph Concepts](https://juliarobotics.org/Caesar.jl/latest/concepts/concepts/#Graph-Concepts) for more detail.\n",
    "\n",
    "### Lets build a factor graph\n",
    "\n",
    "First we will need some packages: \n",
    "- `GraphPlot` - for visualizing graphs.\n",
    "- `DistributedFactorGraphs` - standardized API for interacting with factor graphs.\n",
    "- `IncrementalInference` - Optimization routines for incremental non-parametric and parametric solutions based on factor graphs.\n",
    "- `RoME` - Robot Motion Estimate: Tools, Variables, and Factors for SLAM in robotics."
   ]
  },
  {
   "cell_type": "code",
   "execution_count": null,
   "metadata": {},
   "outputs": [],
   "source": [
    "using Pkg\n",
    "\n",
    "Pkg.status()"
   ]
  },
  {
   "cell_type": "code",
   "execution_count": null,
   "metadata": {},
   "outputs": [],
   "source": [
    "using GraphPlot\n",
    "using DistributedFactorGraphs\n",
    "using IncrementalInference\n",
    "using RoME"
   ]
  },
  {
   "cell_type": "markdown",
   "metadata": {},
   "source": [
    "To create a new factor graph with default settings use the `initfg()` function. "
   ]
  },
  {
   "cell_type": "code",
   "execution_count": null,
   "metadata": {},
   "outputs": [],
   "source": [
    "fg = initfg();"
   ]
  },
  {
   "cell_type": "markdown",
   "metadata": {},
   "source": [
    "## Variable and Factors \n",
    "\n",
    "Variables, denoted as the larger nodes in the figure below, represent state variables of interest such as vehicle or landmark positions, sensor calibration parameters, and more. Variables are likely hidden values which are not directly observed, but we want to estimate them them from observed data and at least some minimal algebra structure from probabilistic measurement models.\n",
    "\n",
    "`RoME` provides variables and factors usefull to robotics.\n",
    "We start with a `Pose2` variable, i.e. position and orientation in two dimensions.\n",
    "To add variables to our factor graph `fg` we created above, call `addVariable` with the labels (`x0`,`x1`) and type `Pose2`"
   ]
  },
  {
   "cell_type": "code",
   "execution_count": null,
   "metadata": {},
   "outputs": [],
   "source": [
    "addVariable!(fg, :x0, Pose2);\n",
    "addVariable!(fg, :x1, Pose2);"
   ]
  },
  {
   "cell_type": "markdown",
   "metadata": {},
   "source": [
    "Lets have a look at the factor graph we have so far using `plotDFG`."
   ]
  },
  {
   "cell_type": "code",
   "execution_count": null,
   "metadata": {},
   "outputs": [],
   "source": [
    "plotDFG(fg)"
   ]
  },
  {
   "cell_type": "markdown",
   "metadata": {},
   "source": [
    "Factors, the smaller nodes in the figure, represent the algebraic interaction between particular variables, which is captured through edges. Factors must adhere to the limits of probabilistic models – for example conditional likelihoods capture the likelihood correlations between variables; while priors (unary to one variable) represent absolute information to be introduced. \n",
    "\n",
    "Since factors represents a probabilistic interaction between variables we need to specify the distribution our factor will represent. \n",
    "Lets look as a odometry factor that connects our two robot poses `x0` and `x1`."
   ]
  },
  {
   "cell_type": "code",
   "execution_count": null,
   "metadata": {},
   "outputs": [],
   "source": [
    "odo_distribution = MvNormal([1.0, 0.0, pi/2], diagm([0.1, 0.1, 0.01]))\n",
    "fac_1 = addFactor!(fg, [:x0, :x1], Pose2Pose2(odo_distribution))\n",
    "\n",
    "plotDFG(fg)"
   ]
  },
  {
   "cell_type": "markdown",
   "metadata": {},
   "source": [
    "We now have a factor graph with 2 variable and one factor connecting them, but to solve it we need some additional information. \n",
    "In this example we need the estimated starting point of our robot.\n",
    "We use unary factors called priors to represent absolute information to be introduced.\n"
   ]
  },
  {
   "cell_type": "code",
   "execution_count": null,
   "metadata": {},
   "outputs": [],
   "source": [
    "prior_distribution = MvNormal(zeros(3), diagm([0.5,0.5,0.1]))\n",
    "addFactor!(fg, [:x0], PriorPose2(prior_distribution))\n",
    "\n",
    "plotDFG(fg)"
   ]
  },
  {
   "cell_type": "markdown",
   "metadata": {},
   "source": [
    "### Solving\n",
    "\n",
    "We now have a graph we can solve."
   ]
  },
  {
   "cell_type": "code",
   "execution_count": null,
   "metadata": {},
   "outputs": [],
   "source": [
    "solveGraph!(fg);"
   ]
  },
  {
   "cell_type": "markdown",
   "metadata": {},
   "source": [
    "### Results\n",
    "\n"
   ]
  },
  {
   "cell_type": "code",
   "execution_count": null,
   "metadata": {},
   "outputs": [],
   "source": [
    "using RoMEPlotting"
   ]
  },
  {
   "cell_type": "code",
   "execution_count": null,
   "metadata": {},
   "outputs": [],
   "source": [
    "#var1 = getVariable(fg, :x1)\n",
    "pl = plotSLAM2D(fg, drawhist=true, drawPoints=false)\n",
    "\n",
    "img = SVG(\"plot2d.svg\", 6inch, 4inch)\n",
    "draw(img, pl)"
   ]
  },
  {
   "cell_type": "markdown",
   "metadata": {},
   "source": [
    "What is happening\n"
   ]
  },
  {
   "cell_type": "code",
   "execution_count": null,
   "metadata": {},
   "outputs": [],
   "source": [
    "var = getVariable(fg, :x1)"
   ]
  },
  {
   "cell_type": "code",
   "execution_count": null,
   "metadata": {},
   "outputs": [],
   "source": [
    "getPPESuggested(fg, :x1)"
   ]
  },
  {
   "cell_type": "markdown",
   "metadata": {},
   "source": [
    "`getPPESuggested` returns a parametric point estimate for the current belief in variable `x1`.\n",
    "\n",
    "Since the default solver is non-parametric a full belief function is available and can be visualized using `plotKDE`  `#FIXME explain KDE and the solver briefly`\n",
    "\n"
   ]
  },
  {
   "cell_type": "code",
   "execution_count": null,
   "metadata": {},
   "outputs": [],
   "source": [
    "plotKDE(fg, :x1)"
   ]
  },
  {
   "cell_type": "markdown",
   "metadata": {},
   "source": [
    "`#FIXME Explain what we see above`"
   ]
  },
  {
   "cell_type": "markdown",
   "metadata": {},
   "source": [
    "### Adding more poses and a point landmark\n",
    "\n",
    "`#TODO to close the loop`"
   ]
  },
  {
   "cell_type": "code",
   "execution_count": null,
   "metadata": {},
   "outputs": [],
   "source": [
    "\n",
    "addVariable!(fg, :l1, Point2)\n",
    "\n",
    "p2br = Pose2Point2BearingRange(Normal(0.0,0.03),Normal(0.5,0.1))\n",
    "addFactor!(fg, [:x0,:l1], p2br)\n",
    "\n",
    "addVariable!(fg, :x2, Pose2)\n",
    "addFactor!(fg, [:x1,:x2], Pose2Pose2(odo_distribution))\n",
    "\n",
    "addVariable!(fg, :x3, Pose2)\n",
    "addFactor!(fg, [:x2,:x3], Pose2Pose2(odo_distribution))\n",
    "\n"
   ]
  },
  {
   "cell_type": "markdown",
   "metadata": {},
   "source": [
    "#TODO solve again with closed loop\n",
    "#TODO solve on cloud\n",
    "#TODO also do parametric\n",
    "#TODO show the bayes tree and give a basic introduction on the solver"
   ]
  }
 ],
 "metadata": {
  "kernelspec": {
   "display_name": "Julia 1.7.1",
   "language": "julia",
   "name": "julia-1.7"
  },
  "language_info": {
   "file_extension": ".jl",
   "mimetype": "application/julia",
   "name": "julia",
   "version": "1.7.1"
  },
  "orig_nbformat": 4
 },
 "nbformat": 4,
 "nbformat_minor": 2
}
