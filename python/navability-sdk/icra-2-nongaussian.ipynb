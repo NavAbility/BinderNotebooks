{
 "cells": [
  {
   "cell_type": "markdown",
   "metadata": {},
   "source": [
    "# Non-Gaussian Measurements Tutorial 2\n",
    "\n",
    "## Overview\n",
    "\n",
    "There are many, many ways in which non-Gaussian / ambiguous measurements occur, this tutorial will simply pick one common example to illustrate the basic concepts.  We ground the tutorial in an example: imagine a wheeled robot travelling along in a straight line, using wheel encoders to estimate the distance travelled.  There is, however, a quirk, from time to time the robot gets stuck on something and the wheel's spin for a few rotations before progress continues.  We assume that our software is able to detect when the wheels are slipping, but the process is only 40% accurate.  In this tutorial we will build a basic robot localization process that can handle \\\"bad\\\" measurement data.  We restrict this to a one dimensional example with only a few variables and factors, to help familiarize yourself with multi-modal beliefs.  \n",
    "\n",
    "This example shows [one of four](https://juliarobotics.org/Caesar.jl/latest/concepts/why_nongaussian/) mechanisms by which non-Gaussian behavior can get introduced into a factor graph solution, see other tutorials for other mechanisms.  We will build a factor graph that contains multi-modal belief as well as `Uniform` and `Rayleigh` distributions, to help familiarize non-Gaussian measurements.   The ambiguous measurement example shown in this tutorial can readily be incorporated in other use cases, and also illustrates how consensus can occur when more information is included -- i.e. reducing uncertainties to unimodal marginal beliefs on each variable.\n",
    "\n",
    "This tutorial introduces non-Gaussian behavior through non-Gaussian measurements in the factor graph.  This tutorial shows how measurements do not have to follow a unimodal bell curve (i.e. normal/Gaussian), but can instead introduce non-Gaussian beliefs and let the joint inference find the best marginal posterior estimates on each of the desired variables in the factor graph.  The tutorial shows a multi-modal uncertainty can be introduced from non-Gaussian measurements, and then transmitted through the system.  \n",
    "\n",
    "\n",
    "### Signatures Used\n",
    "\n",
    "`ContinuousScalar`, `Prior`, `LinearRelative`, `Mixture`, `Normal`\n",
    "\n",
    "## Ambiguous Data Example\n",
    "\n",
    "To start, the only required package is `NavAbilitySKD`."
   ]
  },
  {
   "cell_type": "code",
   "execution_count": 2,
   "metadata": {},
   "outputs": [
    {
     "name": "stdout",
     "output_type": "stream",
     "text": [
      "Collecting navabilitysdk\n",
      "  Downloading navabilitysdk-0.4.2.tar.gz (19 kB)\n",
      "Collecting black==22.1.0\n",
      "  Downloading black-22.1.0-cp38-cp38-manylinux_2_17_x86_64.manylinux2014_x86_64.whl (1.5 MB)\n",
      "\u001b[K     |████████████████████████████████| 1.5 MB 4.7 MB/s eta 0:00:01\n",
      "\u001b[?25hCollecting click==8.0.2\n",
      "  Downloading click-8.0.2-py3-none-any.whl (97 kB)\n",
      "\u001b[K     |████████████████████████████████| 97 kB 5.4 MB/s eta 0:00:011\n",
      "\u001b[?25hCollecting flake8==4.0.1\n",
      "  Downloading flake8-4.0.1-py2.py3-none-any.whl (64 kB)\n",
      "\u001b[K     |████████████████████████████████| 64 kB 2.9 MB/s eta 0:00:011\n",
      "\u001b[?25hCollecting gql[all]==3.0.0a6\n",
      "  Downloading gql-3.0.0a6.tar.gz (86 kB)\n",
      "\u001b[K     |████████████████████████████████| 86 kB 4.8 MB/s eta 0:00:01\n",
      "\u001b[?25hCollecting marshmallow==3.14.0\n",
      "  Downloading marshmallow-3.14.0-py3-none-any.whl (47 kB)\n",
      "\u001b[K     |████████████████████████████████| 47 kB 3.2 MB/s eta 0:00:01\n",
      "\u001b[?25hCollecting numpy>=1.21\n",
      "  Downloading numpy-1.22.3-cp38-cp38-manylinux_2_17_x86_64.manylinux2014_x86_64.whl (16.8 MB)\n",
      "\u001b[K     |████████████████████████████████| 16.8 MB 4.2 MB/s eta 0:00:01\n",
      "\u001b[?25hCollecting pytest-asyncio==0.18.1\n",
      "  Downloading pytest_asyncio-0.18.1-py3-none-any.whl (16 kB)\n",
      "Collecting pytest==6.2.5\n",
      "  Downloading pytest-6.2.5-py3-none-any.whl (280 kB)\n",
      "\u001b[K     |████████████████████████████████| 280 kB 3.5 MB/s eta 0:00:01\n",
      "\u001b[?25hRequirement already satisfied: mypy-extensions>=0.4.3 in /usr/lib/python3/dist-packages (from black==22.1.0->navabilitysdk) (0.4.3)\n",
      "Collecting tomli>=1.1.0\n",
      "  Downloading tomli-2.0.1-py3-none-any.whl (12 kB)\n",
      "Collecting platformdirs>=2\n",
      "  Downloading platformdirs-2.5.1-py3-none-any.whl (14 kB)\n",
      "Collecting typing-extensions>=3.10.0.0; python_version < \"3.10\"\n",
      "  Downloading typing_extensions-4.1.1-py3-none-any.whl (26 kB)\n",
      "Collecting pathspec>=0.9.0\n",
      "  Downloading pathspec-0.9.0-py2.py3-none-any.whl (31 kB)\n",
      "Collecting pycodestyle<2.9.0,>=2.8.0\n",
      "  Downloading pycodestyle-2.8.0-py2.py3-none-any.whl (42 kB)\n",
      "\u001b[K     |████████████████████████████████| 42 kB 1.3 MB/s eta 0:00:01\n",
      "\u001b[?25hCollecting pyflakes<2.5.0,>=2.4.0\n",
      "  Downloading pyflakes-2.4.0-py2.py3-none-any.whl (69 kB)\n",
      "\u001b[K     |████████████████████████████████| 69 kB 3.8 MB/s eta 0:00:01\n",
      "\u001b[?25hRequirement already satisfied: mccabe<0.7.0,>=0.6.0 in /usr/lib/python3/dist-packages (from flake8==4.0.1->navabilitysdk) (0.6.1)\n",
      "Collecting graphql-core<3.2,>=3.1.5\n",
      "  Downloading graphql_core-3.1.7-py3-none-any.whl (189 kB)\n",
      "\u001b[K     |████████████████████████████████| 189 kB 3.7 MB/s eta 0:00:01\n",
      "\u001b[?25hCollecting yarl<2.0,>=1.6\n",
      "  Downloading yarl-1.7.2-cp38-cp38-manylinux_2_5_x86_64.manylinux1_x86_64.manylinux_2_12_x86_64.manylinux2010_x86_64.whl (308 kB)\n",
      "\u001b[K     |████████████████████████████████| 308 kB 3.7 MB/s eta 0:00:01\n",
      "\u001b[?25hCollecting aiohttp<3.8.0,>=3.7.1\n",
      "  Downloading aiohttp-3.7.4.post0-cp38-cp38-manylinux2014_x86_64.whl (1.5 MB)\n",
      "\u001b[K     |████████████████████████████████| 1.5 MB 4.6 MB/s eta 0:00:01     |███████████████████████████▊    | 1.3 MB 4.6 MB/s eta 0:00:01\n",
      "\u001b[?25hCollecting requests<3,>=2.23\n",
      "  Downloading requests-2.27.1-py2.py3-none-any.whl (63 kB)\n",
      "\u001b[K     |████████████████████████████████| 63 kB 2.3 MB/s eta 0:00:01\n",
      "\u001b[?25hCollecting websockets<10,>=9\n",
      "  Downloading websockets-9.1-cp38-cp38-manylinux2010_x86_64.whl (102 kB)\n",
      "\u001b[K     |████████████████████████████████| 102 kB 5.2 MB/s ta 0:00:01\n",
      "\u001b[?25hRequirement already satisfied: attrs>=19.2.0 in /usr/lib/python3/dist-packages (from pytest==6.2.5->navabilitysdk) (19.3.0)\n",
      "Collecting toml\n",
      "  Downloading toml-0.10.2-py2.py3-none-any.whl (16 kB)\n",
      "Collecting iniconfig\n",
      "  Downloading iniconfig-1.1.1-py2.py3-none-any.whl (5.0 kB)\n",
      "Collecting py>=1.8.2\n",
      "  Downloading py-1.11.0-py2.py3-none-any.whl (98 kB)\n",
      "\u001b[K     |████████████████████████████████| 98 kB 4.7 MB/s eta 0:00:011\n",
      "\u001b[?25hRequirement already satisfied: packaging in /usr/lib/python3/dist-packages (from pytest==6.2.5->navabilitysdk) (20.3)\n",
      "Requirement already satisfied: pluggy<2.0,>=0.12 in /usr/lib/python3/dist-packages (from pytest==6.2.5->navabilitysdk) (0.13.0)\n",
      "Requirement already satisfied: idna>=2.0 in /usr/lib/python3/dist-packages (from yarl<2.0,>=1.6->gql[all]==3.0.0a6->navabilitysdk) (2.8)\n",
      "Collecting multidict>=4.0\n",
      "  Downloading multidict-6.0.2-cp38-cp38-manylinux_2_17_x86_64.manylinux2014_x86_64.whl (121 kB)\n",
      "\u001b[K     |████████████████████████████████| 121 kB 5.6 MB/s eta 0:00:01\n",
      "\u001b[?25hRequirement already satisfied: chardet<5.0,>=2.0 in /usr/lib/python3/dist-packages (from aiohttp<3.8.0,>=3.7.1->gql[all]==3.0.0a6->navabilitysdk) (3.0.4)\n",
      "Collecting async-timeout<4.0,>=3.0\n",
      "  Downloading async_timeout-3.0.1-py3-none-any.whl (8.2 kB)\n",
      "Collecting charset-normalizer~=2.0.0; python_version >= \"3\"\n",
      "  Downloading charset_normalizer-2.0.12-py3-none-any.whl (39 kB)\n",
      "Requirement already satisfied: urllib3<1.27,>=1.21.1 in /usr/lib/python3/dist-packages (from requests<3,>=2.23->gql[all]==3.0.0a6->navabilitysdk) (1.25.8)\n",
      "Requirement already satisfied: certifi>=2017.4.17 in /usr/lib/python3/dist-packages (from requests<3,>=2.23->gql[all]==3.0.0a6->navabilitysdk) (2019.11.28)\n",
      "Building wheels for collected packages: navabilitysdk, gql\n",
      "  Building wheel for navabilitysdk (setup.py) ... \u001b[?25ldone\n",
      "\u001b[?25h  Created wheel for navabilitysdk: filename=navabilitysdk-0.4.2-py3-none-any.whl size=25053 sha256=25d3119d7fc1f15c4df9039d7bdb9d4cd33aa6807d2c763e049ce2c4cc62c287\n",
      "  Stored in directory: /home/johan/.cache/pip/wheels/97/74/6f/dcca12f21601c41d96b466d0cd52e745f90698065a76bfe4e4\n",
      "  Building wheel for gql (setup.py) ... \u001b[?25ldone\n",
      "\u001b[?25h  Created wheel for gql: filename=gql-3.0.0a6-py2.py3-none-any.whl size=34858 sha256=000aaecd2605e9a94c58bb5d8c3ad71ab17cbcee9d9eb0033a237d992edbe337\n",
      "  Stored in directory: /home/johan/.cache/pip/wheels/df/51/64/25328dfbaa34d8bce447a3fb08175d8f2679a610a66b45857f\n",
      "Successfully built navabilitysdk gql\n",
      "Installing collected packages: click, tomli, platformdirs, typing-extensions, pathspec, black, pycodestyle, pyflakes, flake8, graphql-core, multidict, yarl, async-timeout, aiohttp, charset-normalizer, requests, websockets, gql, marshmallow, numpy, toml, iniconfig, py, pytest, pytest-asyncio, navabilitysdk\n",
      "\u001b[33m  WARNING: The scripts black, black-primer and blackd are installed in '/home/johan/.local/bin' which is not on PATH.\n",
      "  Consider adding this directory to PATH or, if you prefer to suppress this warning, use --no-warn-script-location.\u001b[0m\n",
      "\u001b[33m  WARNING: The script pycodestyle is installed in '/home/johan/.local/bin' which is not on PATH.\n",
      "  Consider adding this directory to PATH or, if you prefer to suppress this warning, use --no-warn-script-location.\u001b[0m\n",
      "\u001b[33m  WARNING: The script pyflakes is installed in '/home/johan/.local/bin' which is not on PATH.\n",
      "  Consider adding this directory to PATH or, if you prefer to suppress this warning, use --no-warn-script-location.\u001b[0m\n",
      "\u001b[33m  WARNING: The script flake8 is installed in '/home/johan/.local/bin' which is not on PATH.\n",
      "  Consider adding this directory to PATH or, if you prefer to suppress this warning, use --no-warn-script-location.\u001b[0m\n",
      "\u001b[33m  WARNING: The script normalizer is installed in '/home/johan/.local/bin' which is not on PATH.\n",
      "  Consider adding this directory to PATH or, if you prefer to suppress this warning, use --no-warn-script-location.\u001b[0m\n",
      "\u001b[33m  WARNING: The scripts f2py, f2py3 and f2py3.8 are installed in '/home/johan/.local/bin' which is not on PATH.\n",
      "  Consider adding this directory to PATH or, if you prefer to suppress this warning, use --no-warn-script-location.\u001b[0m\n",
      "\u001b[33m  WARNING: The scripts py.test and pytest are installed in '/home/johan/.local/bin' which is not on PATH.\n",
      "  Consider adding this directory to PATH or, if you prefer to suppress this warning, use --no-warn-script-location.\u001b[0m\n",
      "Successfully installed aiohttp-3.7.4.post0 async-timeout-3.0.1 black-22.1.0 charset-normalizer-2.0.12 click-8.0.2 flake8-4.0.1 gql-3.0.0a6 graphql-core-3.1.7 iniconfig-1.1.1 marshmallow-3.14.0 multidict-6.0.2 navabilitysdk-0.4.2 numpy-1.22.3 pathspec-0.9.0 platformdirs-2.5.1 py-1.11.0 pycodestyle-2.8.0 pyflakes-2.4.0 pytest-6.2.5 pytest-asyncio-0.18.1 requests-2.27.1 toml-0.10.2 tomli-2.0.1 typing-extensions-4.1.1 websockets-9.1 yarl-1.7.2\n",
      "Note: you may need to restart the kernel to use updated packages.\n"
     ]
    }
   ],
   "source": [
    "# If not installed already, the NavAbilitySDK can be installed with:\n",
    "pip install navabilitysdk"
   ]
  },
  {
   "cell_type": "code",
   "execution_count": 3,
   "metadata": {},
   "outputs": [],
   "source": [
    "from navability.entities import *\n",
    "from navability.services import *\n",
    "from uuid import uuid4\n",
    "import asyncio"
   ]
  },
  {
   "cell_type": "markdown",
   "metadata": {},
   "source": [
    " \n",
    "## Starting a 1D Factor Graph\n",
    "\n",
    "### Variable, `ContinuousScalar`\n",
    "\n",
    "The first thing to do is setup a client-context to talk with the NavAbility Platform.\n",
    "The next step is to describe the inference problem with a graphical model by populating the factor graph with variable nodes.\n",
    "The variable nodes are identified by `String`s, namely `x0, x1, x2, x3`."
   ]
  },
  {
   "cell_type": "code",
   "execution_count": 7,
   "metadata": {},
   "outputs": [],
   "source": [
    "navability_client = NavAbilityHttpsClient()\n",
    "# you need a unique userId:robotId, and can keep using that across all tutorials\n",
    "userId = \"Guest\"\n",
    "robotId = \"SDKpy_\"+(str(uuid4())[0:3])\n",
    "\n",
    "sessionId = \"Tutorial2_\"+(str(uuid4())[0:3])\n",
    "client = Client(\"Guest\", robotId, sessionId)\n"
   ]
  },
  {
   "cell_type": "code",
   "execution_count": 9,
   "metadata": {},
   "outputs": [
    {
     "name": "stdout",
     "output_type": "stream",
     "text": [
      "Added x0 with result ID 01G0029N6NA5DNHM29JHACE970\n"
     ]
    }
   ],
   "source": [
    "# add the first node\n",
    "v = Variable(\"x0\", VariableType.ContinuousScalar.value)\n",
    "\n",
    "result_id = await addVariable(navability_client, client, v)\n",
    "print(f\"Added {v.label} with result ID {result_id}\")\n",
    "\n",
    "# Wait for it to be loaded.\n",
    "await waitForCompletion(navability_client, [result_id])"
   ]
  },
  {
   "cell_type": "markdown",
   "metadata": {},
   "source": [
    "### Prior Factor, (Euclidean(1))\n",
    "\n",
    "Factor graphs are bipartite graphs with `factors` that act as mathematical structure between interacting `variables`.\n",
    "After adding node `x0`, a singleton factor of type `Prior` (which was defined by the user earlier) is 'connected to' variable node `x0`.\n",
    "This unary factor is taken as a `Normal` distribution with zero mean and a standard deviation of `1`.\n"
   ]
  },
  {
   "cell_type": "code",
   "execution_count": 10,
   "metadata": {},
   "outputs": [],
   "source": [
    "# this is unary (prior) factor and does not immediately trigger autoinit of :x0.\n",
    "prior = Factor(\"x0f1\", \"Prior\", [\"x0\"],\n",
    "      FactorData(\n",
    "          fnc=Prior(\n",
    "              Z=Normal(0, 1)\n",
    "          ).dump()  # This is a generator for a Prior\n",
    "      ))\n",
    "# REF: addFactor!(fg, [:x0], Prior(Normal(0,1)))\n",
    "result_id = await addFactor(navability_client, client, prior)"
   ]
  },
  {
   "cell_type": "markdown",
   "metadata": {},
   "source": [
    "**Note**, this example is using just `Prior`, which is a simplification for the sake of this tutorial.  Look out for on-manifold prior factors in other code examples.\n",
    "\n",
    "### Visualizing Graph Topology"
   ]
  },
  {
   "cell_type": "code",
   "execution_count": 11,
   "metadata": {},
   "outputs": [
    {
     "name": "stdout",
     "output_type": "stream",
     "text": [
      "https://app.navability.io/cloud/graph/?userId=Guest&robotStartsWith=SDKpy_0bd&sessionStartsWith=Tutorial2_678\n"
     ]
    }
   ],
   "source": [
    "# As with tutorials 1 we can visualize the factor graph in the NavAbility App as we add variables.\n",
    "print(\"https://app.navability.io/cloud/graph/?userId=%s&robotStartsWith=%s&sessionStartsWith=%s\" % (client.userId, client.robotId, client.sessionId))"
   ]
  },
  {
   "cell_type": "markdown",
   "metadata": {},
   "source": [
    "The topological graph plot obtained from the NavAbility App above shows the two node factor graph, one variable and one prior factor.  This example uses graph-based automatic variable initialization which was discussed in ICRA 2022 Tutorial 1."
   ]
  },
  {
   "cell_type": "markdown",
   "metadata": {},
   "source": [
    "### Next Variable and Relative Factor\n",
    "\n",
    "Now let's add a second variable `x1`, and connect it to `x0` with a `LinearRelative` factor."
   ]
  },
  {
   "cell_type": "code",
   "execution_count": 12,
   "metadata": {},
   "outputs": [
    {
     "name": "stdout",
     "output_type": "stream",
     "text": [
      "Added x1 with result ID 01G002K65X74Z4HS244FPT2RRE\n"
     ]
    }
   ],
   "source": [
    "# let's wait to make sure all nodes were added\n",
    "await waitForCompletion(navability_client, [result_id])\n",
    "\n",
    "# add x1\n",
    "v = Variable(\"x1\", \"IncrementalInference.ContinuousScalar\") #VariableType.ContinuousScalar.value)\n",
    "result_id = await addVariable(navability_client, client, v)\n",
    "print(f\"Added {v.label} with result ID {result_id}\")\n",
    "\n",
    "await getStatusLatest(navability_client, result_id)\n",
    "\n",
    "\n",
    "# P(Z | :x1 - :x0 ) where Z ~ Normal(10,1)\n",
    "f = Factor(\"x0x1f1\", \"LinearRelative\", [\"x0\", \"x1\"],\n",
    "      FactorData(\n",
    "          fnc=LinearRelative(Normal(10, 0.1)\n",
    "          ).dump()  # This is a generator for a LinearRelative\n",
    "      ))\n",
    "result_id = await addFactor(navability_client, client, f)"
   ]
  },
  {
   "cell_type": "markdown",
   "metadata": {},
   "source": [
    "### Visualizing the Variable Probability Belief\n",
    "\n",
    "The NavAbility WebApp allows visualization (plotting) of the belief state over any of the variable nodes.\n",
    "Remember the first time executions are slow given the required code compilation, and that future versions of these packages will use more precompilation to reduce first execution running cost.\n",
    "\n",
    "We first need to trigger a solve for the web application to update its belief estimates. We first make sure that the all tasks have completed:\n"
   ]
  },
  {
   "cell_type": "code",
   "execution_count": 14,
   "metadata": {},
   "outputs": [
    {
     "name": "stdout",
     "output_type": "stream",
     "text": [
      "<StatusMessage(requestId=01G002P9TXCXYY3V39ZX537G9Z, timestamp=2022-04-06 18:37:54.325000, client=<Client(userId=Guest, robotId=SDKpy_0bd, sessionId=Tutorial2_678)>, action=Add:Factor, state=Complete)>\n"
     ]
    }
   ],
   "source": [
    "print(await getStatusLatest(navability_client, result_id))"
   ]
  },
  {
   "cell_type": "markdown",
   "metadata": {},
   "source": [
    "\n",
    "and then trigger the solve. The current belief estimate is ploted in the NavAbility WebApp as soon as the results become available."
   ]
  },
  {
   "cell_type": "code",
   "execution_count": 16,
   "metadata": {},
   "outputs": [],
   "source": [
    "solve_request = await solveSession(navability_client, client)"
   ]
  },
  {
   "cell_type": "code",
   "execution_count": 15,
   "metadata": {},
   "outputs": [
    {
     "name": "stdout",
     "output_type": "stream",
     "text": [
      "https://app.navability.io/cloud/map/?userId=Guest&robotStartsWith=SDKpy_0bd&sessionStartsWith=Tutorial2_678\n"
     ]
    }
   ],
   "source": [
    "print(\"https://app.navability.io/cloud/map/?userId=%s&robotStartsWith=%s&sessionStartsWith=%s\" % (client.userId, client.robotId, client.sessionId))"
   ]
  },
  {
   "cell_type": "markdown",
   "metadata": {},
   "source": [
    "the predicted influence of the `P(Z| X1 - X0) = LinearRelative(Normal(10, 1))` is shown by the `x1` trace.\n",
    "The predicted belief of `x1` is nothing more than the approximated convolution of the current marginal belief of `x0` with the conditional belief described by `P(Z | X1 - X0)`.\n",
    "\n",
    "\n",
    "### Mixture Distribution on Next Relative Factor (Wheel Slip)\n",
    "\n",
    "As the robot continues to drive from `x1` to `x2`, the robot software detects wheel slip has occurred.  Here then is the critical point, how should the next odometry measurement incorporate this ambiguous information.  First, we add the next `ContinuousScalar` variable `x2` as before.  "
   ]
  },
  {
   "cell_type": "code",
   "execution_count": 17,
   "metadata": {},
   "outputs": [
    {
     "name": "stdout",
     "output_type": "stream",
     "text": [
      "Added x2 with result ID 01G002X95YSNKB6VGCYY74VBF2\n"
     ]
    }
   ],
   "source": [
    "v = Variable(\"x2\", \"IncrementalInference.ContinuousScalar\") #VariableType.ContinuousScalar.value)\n",
    "result_id = await addVariable(navability_client, client, v)\n",
    "print(f\"Added {v.label} with result ID {result_id}\")"
   ]
  },
  {
   "cell_type": "markdown",
   "metadata": {},
   "source": [
    "This time, however, the odometry factor from `x1` uses a more complicated `Mixture` likelihood function.  Given a 40% accuracy in wheel slip detection, we are going to construct a `Mixture` distribution as the measurement, where 40% weight goes to what we think the distance travelled is while the remaining 60% weight is designated to 'faulty' odometry measurement.  \n",
    "\n",
    "Taking the full encoder turns as 60 units distance, with slip being detected on and off throughout, we estimate the majority slip case as a Rayleigh distribution from 0.  Since we know very little about the non-slip case, let's take the robot distance traveled as uniformly distributed somewhere between 40 up to 60 units. "
   ]
  },
  {
   "cell_type": "code",
   "execution_count": 18,
   "metadata": {},
   "outputs": [
    {
     "name": "stdout",
     "output_type": "stream",
     "text": [
      "{\"label\": \"x1x2f1\", \"_version\": \"0.18.1\", \"_variableOrderSymbols\": [\"x1\", \"x2\"], \"data\": {\"eliminated\": false, \"potentialused\": false, \"edgeIDs\": [], \"fnc\": {\"N\": 2, \"F_\": \"PackedLinearRelative\", \"S\": [\"slip\", \"noslip\"], \"components\": [{\"_type\": \"IncrementalInference.PackedRayleigh\", \"sigma\": 5.0}, {\"_type\": \"IncrementalInference.PackedUniform\", \"a\": 35.0, \"b\": 60.0, \"PackedSamplableTypeJSON\": \"IncrementalInference.PackedUniform\"}], \"diversity\": {\"_type\": \"IncrementalInference.PackedCategorical\", \"p\": [0.4, 0.6]}}, \"multihypo\": [], \"certainhypo\": [1, 2], \"nullhypo\": 0.0, \"solveInProgress\": 0, \"inflation\": 5.0}, \"tags\": [\"FACTOR\"], \"timestamp\": \"2022-04-06T18:23:16.441Z\", \"nstime\": \"0\", \"fnctype\": \"Mixture\", \"solvable\": 1}\n"
     ]
    }
   ],
   "source": [
    "mixture_factor = Factor(\"x1x2f1\", \"Mixture\", [\"x1\", \"x2\"],\n",
    "      FactorData(\n",
    "            fnc=Mixture(LinearRelative, \n",
    "                {\n",
    "                    \"slip\": Rayleigh(5), \n",
    "                    \"noslip\": Uniform(35,60)\n",
    "                },\n",
    "                [0.4, 0.6],\n",
    "                2\n",
    "          ).dump()\n",
    "      ))\n",
    "print(mixture_factor.dumps())\n",
    "result_id = await addFactor(navability_client, client, mixture_factor)"
   ]
  },
  {
   "cell_type": "markdown",
   "metadata": {},
   "source": [
    "\n",
    "The `mmo` variable illustrates how a near arbitrary mixture probability distribution can be used as a conditional relationship between variable nodes in the factor graph.\n",
    "In this case, a 40%/60% balance of a Rayleigh and truncated Uniform distribution which acts as a multi-modal conditional belief.\n",
    "Interpret carefully what a conditional belief of this nature actually means.\n",
    "\n",
    "Following the tutorial's practical example frameworks (robot navigation or time travel), this multi-modal belief implies that moving from one of the probable locations in `x1` to a location in `x2` by some processes defined by `mmo=P(Z | X2, X1)` is uncertain to the same 40%/60% ratio.\n",
    "In practical terms, collapsing (through observation of an event) the probabilistic likelihoods of the transition from `x1` to `x2` may result in the `x2` location being at either 15-20, or 40-65-ish units.\n",
    "The predicted belief over `x2` is illustrated by plotting the predicted belief after triggering a new solve."
   ]
  },
  {
   "cell_type": "code",
   "execution_count": 19,
   "metadata": {},
   "outputs": [],
   "source": [
    "solve_request = await solveSession(navability_client, client)"
   ]
  },
  {
   "cell_type": "code",
   "execution_count": null,
   "metadata": {},
   "outputs": [],
   "source": [
    "# the results updates automatically as the solver finishes. Here is the link to the Geometric map visualizations in th App again:\n",
    "print(\"https://app.navability.io/cloud/map/?userId=%s&robotStartsWith=%s&sessionStartsWith=%s\" % (client.userId, client.robotId, client.sessionId))"
   ]
  },
  {
   "cell_type": "markdown",
   "metadata": {},
   "source": [
    "Notice the multi-modal belief in the marginal posterior belief of `x3`.  Also note that Kernel Density Estimate methods can appear to produce noisy belief density estimates.  While this does sometimes occur, it is harmless and has no impact on the accuracy of the mean point estimate produced for each mode in the associated belief."
   ]
  },
  {
   "cell_type": "markdown",
   "metadata": {},
   "source": [
    "\n",
    "## Adding Variable `x3`\n",
    "\n",
    "In suspecting that the robot did get stuck and had its wheels slip, we reverse the robot 50 units and add pose variable `x3`,  i.e. a factor measurement `LinearRelative(Normal(-50,1))`"
   ]
  },
  {
   "cell_type": "code",
   "execution_count": 20,
   "metadata": {},
   "outputs": [
    {
     "name": "stdout",
     "output_type": "stream",
     "text": [
      "Added x3 with result ID 01G0033J22M5ZC82EYJPGJ0CDY\n"
     ]
    }
   ],
   "source": [
    "v = Variable(\"x3\", \"IncrementalInference.ContinuousScalar\") #VariableType.ContinuousScalar.value)\n",
    "result_id = await addVariable(navability_client, client, v)\n",
    "print(f\"Added {v.label} with result ID {result_id}\")\n",
    "\n",
    "linear_factor = Factor(\"x2x3f1\", \"LinearRelative\", [\"x2\", \"x3\"],\n",
    "      FactorData(\n",
    "          fnc=LinearRelative(Normal(-50, 1)\n",
    "          ).dump()  # This is a generator for a LinearRelative\n",
    "      ))\n",
    "result_id = await addFactor(navability_client, client, linear_factor)"
   ]
  },
  {
   "cell_type": "markdown",
   "metadata": {},
   "source": [
    "expands the factor graph to four variables and four factors.\n",
    "This part of the tutorial shows how a unimodal likelihood (conditional belief) can transmit the bimodal belief currently contained in `x2`.  By solving the graph, we get numerical estimates for the variables:"
   ]
  },
  {
   "cell_type": "code",
   "execution_count": 21,
   "metadata": {},
   "outputs": [],
   "source": [
    "solve_request = await solveSession(navability_client, client)"
   ]
  },
  {
   "cell_type": "markdown",
   "metadata": {},
   "source": [
    "and plotting the marginal posterior belief estimates over each variable to see what the position estimates are given available info:"
   ]
  },
  {
   "cell_type": "code",
   "execution_count": 22,
   "metadata": {},
   "outputs": [
    {
     "name": "stdout",
     "output_type": "stream",
     "text": [
      "https://app.navability.io/cloud/map/?userId=Guest&robotStartsWith=SDKpy_0bd&sessionStartsWith=Tutorial2_678\n"
     ]
    }
   ],
   "source": [
    "print(\"https://app.navability.io/cloud/map/?userId=%s&robotStartsWith=%s&sessionStartsWith=%s\" % (client.userId, client.robotId, client.sessionId))"
   ]
  },
  {
   "cell_type": "markdown",
   "metadata": {},
   "source": [
    "Notice the `x3` trace is a shifted and slightly spread out version of the belief on `x2`, through the convolution with the conditional belief `P(Z | X2, X3)`.\n",
    "\n",
    "### The Last Factor\n",
    "\n",
    "Only by introducing more information into the factor graph can inference extract more precise marginal belief estimates for each of the variables.\n",
    "A final piece of information added to this graph is a factor directly relating `x3` with `x0`."
   ]
  },
  {
   "cell_type": "code",
   "execution_count": 23,
   "metadata": {},
   "outputs": [],
   "source": [
    "linear_factor = Factor(\"x3x0f1\", \"LinearRelative\", [\"x3\", \"x0\"],\n",
    "      FactorData(\n",
    "          fnc=LinearRelative(Normal(30, 1)\n",
    "          ).dump()  # This is a generator for a LinearRelative\n",
    "      ))\n",
    "result_id = await addFactor(navability_client, client, linear_factor)\n",
    "\n",
    "print(await getStatusLatest(navability_client, result_id))"
   ]
  },
  {
   "cell_type": "markdown",
   "metadata": {},
   "source": [
    "Pay close attention to what this last factor means in terms of the probability density traces shown in the previous figure.\n",
    "The trace for `x3` has two major modes, one that overlaps with `x0, x1` near 0 and a second mode further to the left at -40.\n",
    "The last factor introduces a shift `LinearRelative(Normal(40,1))` which essentially aligns the left most mode of `x3` back onto `x0`.\n",
    "\n",
    "This last factor forces a mode selection through consensus.\n",
    "By doing global inference, the new information obtained in `x3` will be equally propagated to `x2` where only one of the two modes will remain"
   ]
  },
  {
   "cell_type": "markdown",
   "metadata": {},
   "source": [
    "## Solve the Graph\n",
    "\n",
    "Global inference over the full graph can now be triggered.\n",
    "Again, we use `solveSession` to trigger the final solve in the NavAbility platform."
   ]
  },
  {
   "cell_type": "code",
   "execution_count": 24,
   "metadata": {},
   "outputs": [],
   "source": [
    "solve_request = await solveSession(navability_client, client)"
   ]
  },
  {
   "cell_type": "code",
   "execution_count": null,
   "metadata": {},
   "outputs": [],
   "source": [
    "# and the visualization as previously described.\n",
    "print(\"https://app.navability.io/cloud/map/?userId=%s&robotStartsWith=%s&sessionStartsWith=%s\" % (client.userId, client.robotId, client.sessionId))"
   ]
  },
  {
   "cell_type": "markdown",
   "metadata": {},
   "source": [
    "The resulting posterior marginal beliefs over all the system variables are:"
   ]
  },
  {
   "cell_type": "code",
   "execution_count": 28,
   "metadata": {},
   "outputs": [
    {
     "name": "stdout",
     "output_type": "stream",
     "text": [
      "Variables in graph: ['x3', 'x2', 'x1', 'x0']\n",
      "{'x3': [-30.428188344753558], 'x2': [18.881459586223556], 'x1': [10.219333087730702], 'x0': [-0.006425329252770611]}\n"
     ]
    }
   ],
   "source": [
    "variables = await ls(navability_client, client)\n",
    "print(f\"Variables in graph: {variables}\")\n",
    "ppes = {\n",
    "        v: (await getVariable(navability_client, client, v)).ppes[\"default\"].suggested\n",
    "        for v in variables\n",
    "    }\n",
    "print(ppes)"
   ]
  },
  {
   "cell_type": "markdown",
   "metadata": {},
   "source": [
    "### The Wheels Did Slip!\n",
    "\n",
    "Look, the resulting distance from `x1` to `x2` with all the data available turns out to be 10 units -- much less than the 60 units measured by the encoder, coupled with the on and off slip detection.  Our example here is constructed in such a way that when all data is considered together a clear answer can be extracted.  In real situations, the beliefs could be more nuanced -- which is all the more reason to consider non-Gaussian estimation which permanently keeps track of the nuanced features hidden in the data!"
   ]
  },
  {
   "cell_type": "markdown",
   "metadata": {},
   "source": [
    "## Conclusion\n",
    "\n",
    "It is important to note that although this tutorial ends with all marginal beliefs having near Gaussian shape and are unimodal, that the package supports multi-modal belief estimates during both the prediction and global inference processes."
   ]
  },
  {
   "cell_type": "markdown",
   "metadata": {},
   "source": [
    "## Next Steps\n",
    "\n",
    "The next tutorial looks at weakly observable (a.k.a. missing / insufficient data, or underdetermined) situations where all Gaussian measurements result in highly non-Gaussian and multi-modal posterior estimates.\n",
    "\n",
    "### Case Study: Marine Surface Navigation\n",
    "\n",
    "Furthermore, this tutorial has practical value.  For example, NavAbility developed a GPS-denied navigation technique for marine surface vehicles whereby consecutive radar sweeps are correlated for extracting odometry measurements.  These correlations, as it turns out, are non-Gaussian and on many occasions and exhibit multi-modal behavior similar to the tutorial illustrated above.\n",
    "\n",
    "**Real World Non-Gaussian Odometry Measurement**\n",
    "\n",
    "The left image below shows two consecutive `360 degree` radar sweeps from a marine surface vehicle.  The right-hand image shows a slice from the dense correlation map on the `SpecialEuclidean(2)` manifold when looking for the best alignment between the two radar sweeps -- notice the non-Gaussian / multi-modal behavior!  This type of non-Gaussian measurement can readily be used in the NavAbility and Caesar.jl solver system.  See the [NavAbility Marine Surface Navigation Case Study page](https://www.navability.io/applications/marine/) for more details.\n",
    "\n",
    "![img](http://www.navability.io/wp-content/uploads/2022/04/MarineRadarAlignFigure-1024x485-1.png)"
   ]
  }
 ],
 "metadata": {
  "interpreter": {
   "hash": "31f2aee4e71d21fbe5cf8b01ff0e069b9275f58929596ceb00d14d90e3e16cd6"
  },
  "kernelspec": {
   "display_name": "Julia 1.7.1",
   "language": "python",
   "name": "python3"
  },
  "language_info": {
   "codemirror_mode": {
    "name": "ipython",
    "version": 3
   },
   "file_extension": ".py",
   "mimetype": "text/x-python",
   "name": "python",
   "nbconvert_exporter": "python",
   "pygments_lexer": "ipython3",
   "version": "3.8.10"
  },
  "orig_nbformat": 4
 },
 "nbformat": 4,
 "nbformat_minor": 2
}
