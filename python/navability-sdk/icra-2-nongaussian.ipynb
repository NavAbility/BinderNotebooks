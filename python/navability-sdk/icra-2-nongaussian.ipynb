{
 "cells": [
  {
   "cell_type": "markdown",
   "metadata": {},
   "source": [
    "# Non-Gaussian Measurements Tutorial 2\n",
    "\n",
    "## Overview\n",
    "\n",
    "- This tutorial introduces non-Gaussian estimation via a factor graph solution.\n",
    "- Factor graphs should be thought of fully probabilisitic interactions between variables, as modelled by the factors.\n",
    "- This tutorial shows how measurement statistics do not have be unimodal bell curve (i.e. normal/Gaussian) and thereby introduce non-Gaussian behavior.\n",
    "- This example will use only continuous stochastic variables with slightly more diverse measurement distribution.\n",
    "- This tutorial is one dimension with only a few variables and factors, in order to get comfortable working with multi-modal beliefs.\n",
    "- This example is showing one of four mechanisms by which non-Gaussian behavior can get introduced into a factor graph solution, see other tutorials for other mechanisms.\n",
    "- This tutorial illustrates how algebraic relations (i.e. residual functions) between multiple stochastic variables are calculated, as well as the final posterior belief estimate, from several pieces of information.\n",
    "- The tutorial implicitly shows a multi-modal uncertainty can be introduced from non-Gaussian measurements, and then transmitted through the system.\n",
    "- The tutorial also illustrates consensus through an additional piece of information, which reduces all stochastic variable marginal beliefs to unimodal only beliefs.\n",
    "- The ambiguous measurement data example shown in this tutorial can readily be incorporated in other use cases.\n",
    "- Lastly, this tutorial will also show how graph-based automatic initialization of variables is achieved with the Caesar.jl solver.\n",
    "\n",
    "### Signatures Used\n",
    "\n",
    "`ContinuousScalar`, `Prior`, `LinearRelative`, `Mixture`, `Normal`, `plotKDE`, `plotDFG`, `isInitialized`, `initAll!`, `solveGraph!`\n",
    "\n",
    "## Ambiguous Data Example\n",
    "\n",
    "The application of this tutorial is presented in abstract from which the user is free to imagine any system of relationships:  For example, a robot driving in a one dimensional world; or a time traveler making uncertain jumps \n",
    "forwards and backwards in time.\n",
    "\n",
    "To start, the two major mathematical packages are brought into scope."
   ]
  },
  {
   "cell_type": "code",
   "execution_count": 2,
   "metadata": {},
   "outputs": [],
   "source": [
    "from navability.entities import *\n",
    "from navability.services import *\n",
    "from uuid import uuid4\n",
    "import asyncio"
   ]
  },
  {
   "cell_type": "markdown",
   "metadata": {},
   "source": [
    " \n",
    "## Starting a 1D Factor Graph\n",
    "\n",
    "### Variable, `ContinuousScalar`\n",
    "\n",
    "The next step is to describe the inference problem with a graphical model with any of the existing concrete types that inherit from  `<: AbstractDFG`.\n",
    "The first step is to create an empty factor graph object and start populating it with variable nodes.\n",
    "The variable nodes are identified by `Symbol`s, namely `:x0, :x1, :x2, :x3`.\n"
   ]
  },
  {
   "cell_type": "code",
   "execution_count": 3,
   "metadata": {},
   "outputs": [
    {
     "name": "stdout",
     "output_type": "stream",
     "text": [
      "<Client(userId=Guest, robotId=PySDKAutomation, sessionId=Session_998eb539)>\n"
     ]
    }
   ],
   "source": [
    "# Start with an empty factor graph\n",
    "navability_client = NavAbilityHttpsClient()\n",
    "client = Client(\"Guest\", \"PySDKAutomation\", \"Session_\" + str(uuid4())[0:8])\n",
    "print(client)"
   ]
  },
  {
   "cell_type": "code",
   "execution_count": 4,
   "metadata": {},
   "outputs": [
    {
     "name": "stdout",
     "output_type": "stream",
     "text": [
      "Added x0 with result ID 01FYYDWQ9T2WHRBC4CS6MKWSXP\n"
     ]
    }
   ],
   "source": [
    "# add the first node\n",
    "v = Variable(\"x0\", \"IncrementalInference.ContinuousScalar\") #VariableType.ContinuousScalar.value)\n",
    "result_id = await addVariable(navability_client, client, v)\n",
    "print(f\"Added {v.label} with result ID {result_id}\")\n"
   ]
  },
  {
   "cell_type": "code",
   "execution_count": 5,
   "metadata": {},
   "outputs": [
    {
     "name": "stdout",
     "output_type": "stream",
     "text": [
      "<StatusMessage(requestId=01FYYDWQ9T2WHRBC4CS6MKWSXP, timestamp=2022-03-24 16:59:27.754000, client=<Client(userId=Guest, robotId=PySDKAutomation, sessionId=Session_998eb539)>, action=Add:Variable, state=Complete)>\n"
     ]
    }
   ],
   "source": [
    "# Confirm it's there\n",
    "print(await getStatusLatest(navability_client, result_id))\n",
    "# TODO:  This will fail: https://github.com/NavAbility/NavAbilitySDK.py/issues/40"
   ]
  },
  {
   "cell_type": "markdown",
   "metadata": {},
   "source": [
    "### Prior Factor, (Euclidean(1))\n",
    "\n",
    "Factor graphs are bipartite graphs with `factors` that act as mathematical structure between interacting `variables`.\n",
    "After adding node `:x0`, a singleton factor of type `Prior` (which was defined by the user earlier) is 'connected to' variable node `:x0`.\n",
    "This unary factor is taken as a `Distributions.Normal` distribution with zero mean and a standard devitation of `1`.\n"
   ]
  },
  {
   "cell_type": "code",
   "execution_count": 6,
   "metadata": {},
   "outputs": [],
   "source": [
    "# this is unary (prior) factor and does not immediately trigger autoinit of :x0.\n",
    "# TODO: https://github.com/NavAbility/NavAbilitySDK.py/issues/43\n",
    "prior = Factor(\"x0f1\", \"Prior\", [\"x0\"],\n",
    "      FactorData(\n",
    "          fnc=Prior(\n",
    "              Z=Normal(0, 1)\n",
    "          ).dump()  # This is a generator for a Prior\n",
    "      ))\n",
    "# REF: addFactor!(fg, [:x0], Prior(Normal(0,1)))\n",
    "result_id = await addFactor(navability_client, client, prior)"
   ]
  },
  {
   "cell_type": "code",
   "execution_count": 8,
   "metadata": {},
   "outputs": [
    {
     "name": "stdout",
     "output_type": "stream",
     "text": [
      "<StatusMessage(requestId=01FYYDX4J1PGKHFEA9PWGVCH9M, timestamp=2022-03-24 16:59:42.609000, client=<Client(userId=Guest, robotId=PySDKAutomation, sessionId=Session_998eb539)>, action=Add:Factor, state=Complete)>\n"
     ]
    }
   ],
   "source": [
    "# Checking\n",
    "print(await getStatusLatest(navability_client, result_id))"
   ]
  },
  {
   "cell_type": "markdown",
   "metadata": {},
   "source": [
    "**Note**, this example is using just `Prior`, which is a simplification for the sake of this tutorial.  Look out for on-manifold prior factors in other code examples.\n",
    "\n",
    "### Visualizing Graph Topology"
   ]
  },
  {
   "cell_type": "code",
   "execution_count": null,
   "metadata": {},
   "outputs": [],
   "source": [
    "# TODO: Create a shortlink to visualization of the graph.\n",
    "# TODO: https://github.com/NavAbility/NavAbilitySDK.py/issues/44\n",
    "plotDFG(fg)"
   ]
  },
  {
   "cell_type": "markdown",
   "metadata": {},
   "source": [
    "\n",
    "The two node factor graph is shown in the image below.\n",
    "```@raw html\n",
    "<p align=\"center\">\n",
    "<img src=\"https://raw.githubusercontent.com/JuliaRobotics/Caesar.jl/master/docs/src/assets/tutorials/ContinuousScalar/fgx0.png\" width=\"120\" border=\"0\" />\n",
    "</p>\n",
    "```\n",
    "\n",
    "### Graph-based Variable Initialization\n",
    "\n",
    "Automatic initialization of variables depend on how the factor graph model is constructed.\n",
    "This tutorial demonstrates this behavior by first showing that `:x0` is not initialized:"
   ]
  },
  {
   "cell_type": "code",
   "execution_count": null,
   "metadata": {},
   "outputs": [],
   "source": [
    "# We don't do this in SDK.\n",
    "#@show isInitialized(fg, :x0) # false"
   ]
  },
  {
   "cell_type": "markdown",
   "metadata": {},
   "source": [
    "Why is `:x0` not initialized?\n",
    "Since no other variable nodes have been 'connected to' (or depend) on `:x0` and future intentions of the user are unknown, the initialization of `:x0` is deferred until the latest possible moment.\n",
    "`IncrementalInference.jl` assumes that the user will generally populate new variable nodes with most of the associated factors before moving to the next variable.\n",
    "By delaying initialization of a new variable (say `:x0`) until a second newer uninitialized variable (say `:x1`) depends on `:x0`, the `IncrementalInference` algorithms hope to then initialize `:x0` with the more information from previous and surrounding variables and factors.\n",
    "Also note that graph-based initialization of variables is a local operation based only on the neighboring nodes -- global inference occurs over the entire graph and is shown later in this tutorial.\n",
    "\n",
    "\n",
    "## Factor `LinearRelative`\n",
    "\n",
    "By adding `:x1` and connecting it through the `LinearRelative` and `Normal` distributed factor, the automatic initialization of `:x0` is triggered."
   ]
  },
  {
   "cell_type": "code",
   "execution_count": 9,
   "metadata": {},
   "outputs": [
    {
     "name": "stdout",
     "output_type": "stream",
     "text": [
      "Added x1 with result ID 01FYYDYEXPG3H4QAHK5TDA3WCY\n"
     ]
    }
   ],
   "source": [
    "# REF: addVariable!(fg, :x1, ContinuousScalar)\n",
    "v = Variable(\"x1\", \"IncrementalInference.ContinuousScalar\") #VariableType.ContinuousScalar.value)\n",
    "result_id = await addVariable(navability_client, client, v)\n",
    "print(f\"Added {v.label} with result ID {result_id}\")"
   ]
  },
  {
   "cell_type": "code",
   "execution_count": 10,
   "metadata": {},
   "outputs": [
    {
     "name": "stdout",
     "output_type": "stream",
     "text": [
      "<StatusMessage(requestId=01FYYDYEXPG3H4QAHK5TDA3WCY, timestamp=2022-03-24 17:00:22.060000, client=<Client(userId=Guest, robotId=PySDKAutomation, sessionId=Session_998eb539)>, action=Add:Variable, state=Complete)>\n"
     ]
    }
   ],
   "source": [
    "# Checking\n",
    "print(await getStatusLatest(navability_client, result_id))"
   ]
  },
  {
   "cell_type": "code",
   "execution_count": 11,
   "metadata": {},
   "outputs": [],
   "source": [
    "# P(Z | :x1 - :x0 ) where Z ~ Normal(10,1)\n",
    "# REF: addFactor!(fg, [:x0, :x1], LinearRelative(Normal(10.0,1)))\n",
    "linear_factor = Factor(\"x0x1f1\", \"LinearRelative\", [\"x0\", \"x1\"],\n",
    "      FactorData(\n",
    "          fnc=LinearRelative(Normal(10, 0.1)\n",
    "          ).dump()  # This is a generator for a LinearRelative\n",
    "      ))\n",
    "# REF: addFactor!(fg, [:x0], Prior(Normal(0,1)))\n",
    "result_id = await addFactor(navability_client, client, linear_factor)\n",
    "#@show isInitialized(fg, :x0) # true"
   ]
  },
  {
   "cell_type": "code",
   "execution_count": 13,
   "metadata": {},
   "outputs": [
    {
     "name": "stdout",
     "output_type": "stream",
     "text": [
      "<StatusMessage(requestId=01FYYDYTBPE4YKQE7HBDDXYAW2, timestamp=2022-03-24 17:00:37.427000, client=<Client(userId=Guest, robotId=PySDKAutomation, sessionId=Session_998eb539)>, action=Add:Factor, state=Complete)>\n"
     ]
    }
   ],
   "source": [
    "# Checking\n",
    "print(await getStatusLatest(navability_client, result_id))"
   ]
  },
  {
   "cell_type": "markdown",
   "metadata": {},
   "source": [
    "\n",
    "Note that the automatic initialization of `:x0` is aware that `:x1` is not initialized and therefore only used the `Prior(Normal(0,1))` unary factor to initialize the marginal belief estimate for `:x0`.\n",
    "The structure of the graph has now been updated to two variable nodes and two factors.\n",
    "```@raw html\n",
    "<p align=\"center\">\n",
    "<img src=\"https://raw.githubusercontent.com/JuliaRobotics/Caesar.jl/master/docs/src/assets/tutorials/ContinuousScalar/fgx01.png\" width=\"240\" border=\"0\" />\n",
    "</p>\n",
    "```\n",
    "\n",
    "Notice how the previous `:x0` is now initialized,"
   ]
  },
  {
   "cell_type": "code",
   "execution_count": null,
   "metadata": {},
   "outputs": [],
   "source": [
    "#@show isInitialized(fg, :x0)"
   ]
  },
  {
   "cell_type": "markdown",
   "metadata": {},
   "source": [
    "and the new `:x1` variable is not yet initialized as described before:"
   ]
  },
  {
   "cell_type": "code",
   "execution_count": null,
   "metadata": {},
   "outputs": [],
   "source": [
    "#@show isInitialized(fg, :x1)"
   ]
  },
  {
   "cell_type": "markdown",
   "metadata": {},
   "source": [
    "### Visualizing the Variable Probability Belief\n",
    "\n",
    "The `RoMEPlotting.jl` package allows visualization (plotting) of the belief state over any of the variable nodes.\n",
    "Remember the first time executions are slow given required code compilation, and that future versions of these package will use more precompilation to reduce first execution running cost."
   ]
  },
  {
   "cell_type": "code",
   "execution_count": null,
   "metadata": {},
   "outputs": [],
   "source": [
    "# TODO: https://github.com/NavAbility/nva-sdk/issues/19\n",
    "#using RoMEPlotting\n",
    "\n",
    "#plotKDE(fg, :x0)"
   ]
  },
  {
   "cell_type": "markdown",
   "metadata": {},
   "source": [
    "\n",
    "```@raw html\n",
    "<p align=\"center\">\n",
    "<img src=\"https://raw.githubusercontent.com/JuliaRobotics/Caesar.jl/master/docs/src/assets/tutorials/ContinuousScalar/plx0.png\" width=\"360\" border=\"0\" />\n",
    "</p>\n",
    "```\n",
    "By forcing the initialization of `:x1` and plotting its belief estimate,"
   ]
  },
  {
   "cell_type": "code",
   "execution_count": null,
   "metadata": {},
   "outputs": [],
   "source": [
    "#initAll!(fg)\n",
    "#plotKDE(fg, [:x0, :x1])"
   ]
  },
  {
   "cell_type": "markdown",
   "metadata": {},
   "source": [
    "the predicted influence of the `P(Z| X1 - X0) = LinearRelative(Normal(10, 1))` is shown by the red trace.\n",
    "```@raw html\n",
    "<p align=\"center\">\n",
    "<img src=\"https://raw.githubusercontent.com/JuliaRobotics/Caesar.jl/master/docs/src/assets/tutorials/ContinuousScalar/plx01.png\" width=\"360\" border=\"0\" />\n",
    "</p>\n",
    "```\n",
    "The red trace (predicted belief of `:x1`) is noting more than the approximated convolution of the current marginal belief of `:x0` with the conditional belief described by `P(Z | X1 - X0)`.\n",
    "\n",
    "\n",
    "### Mixture Distribution on Next Relative Factor\n",
    "\n",
    "Another `ContinuousScalar` variable `:x2` is 'connected' to `:x1` through a more complicated `MixtureRelative` likelihood function."
   ]
  },
  {
   "cell_type": "code",
   "execution_count": 14,
   "metadata": {},
   "outputs": [
    {
     "name": "stdout",
     "output_type": "stream",
     "text": [
      "Added x2 with result ID 01FYYE0CZARNGB6WKEPQSVFV9K\n"
     ]
    }
   ],
   "source": [
    "# REF: addVariable!(fg, :x2, ContinuousScalar)\n",
    "# mmo = Mixture(LinearRelative, \n",
    "#              (hypo1=Rayleigh(3), hypo2=Uniform(30,55)), \n",
    "#              [0.4; 0.6])\n",
    "# addFactor!(fg, [:x1, :x2], mmo)\n",
    "v = Variable(\"x2\", \"IncrementalInference.ContinuousScalar\") #VariableType.ContinuousScalar.value)\n",
    "result_id = await addVariable(navability_client, client, v)\n",
    "print(f\"Added {v.label} with result ID {result_id}\")\n"
   ]
  },
  {
   "cell_type": "code",
   "execution_count": 15,
   "metadata": {},
   "outputs": [
    {
     "name": "stdout",
     "output_type": "stream",
     "text": [
      "<StatusMessage(requestId=01FYYE0CZARNGB6WKEPQSVFV9K, timestamp=2022-03-24 17:01:25.654000, client=<Client(userId=Guest, robotId=PySDKAutomation, sessionId=Session_998eb539)>, action=Add:Variable, state=Complete)>\n"
     ]
    }
   ],
   "source": [
    "print(await getStatusLatest(navability_client, result_id))"
   ]
  },
  {
   "cell_type": "code",
   "execution_count": 18,
   "metadata": {},
   "outputs": [
    {
     "name": "stdout",
     "output_type": "stream",
     "text": [
      "{\"label\": \"x1x2f1\", \"_version\": \"0.18.1\", \"_variableOrderSymbols\": [\"x1\", \"x2\"], \"data\": {\"eliminated\": false, \"potentialused\": false, \"edgeIDs\": [], \"fnc\": {\"N\": 2, \"F_\": \"PackedLinearRelative\", \"S\": [\"hypo1\", \"hypo2\"], \"components\": [{\"_type\": \"IncrementalInference.PackedRayleigh\", \"sigma\": 3.0}, {\"_type\": \"IncrementalInference.PackedUniform\", \"a\": 30.0, \"b\": 55.0, \"PackedSamplableTypeJSON\": \"IncrementalInference.PackedUniform\"}], \"diversity\": {\"_type\": \"IncrementalInference.PackedCategorical\", \"p\": [0.4, 0.6]}}, \"multihypo\": [], \"certainhypo\": [1, 2], \"nullhypo\": 0.0, \"solveInProgress\": 0, \"inflation\": 5.0}, \"tags\": [\"FACTOR\"], \"timestamp\": \"2022-03-24T16:59:01.927Z\", \"nstime\": \"0\", \"fnctype\": \"Mixture\", \"solvable\": 1}\n"
     ]
    }
   ],
   "source": [
    "mixture_factor = Factor(\"x1x2f1\", \"Mixture\", [\"x1\", \"x2\"],\n",
    "      FactorData(\n",
    "            fnc=Mixture(LinearRelative, \n",
    "                {\n",
    "                    \"hypo1\": Rayleigh(3), \n",
    "                    \"hypo2\": Uniform(30,55)\n",
    "                },\n",
    "                [0.4, 0.6],\n",
    "                1\n",
    "          ).dump()\n",
    "      ))\n",
    "print(mixture_factor.dumps())\n",
    "# REF: addFactor!(fg, [:x0], Prior(Normal(0,1)))\n",
    "result_id = await addFactor(navability_client, client, mixture_factor)"
   ]
  },
  {
   "cell_type": "code",
   "execution_count": 23,
   "metadata": {},
   "outputs": [
    {
     "name": "stdout",
     "output_type": "stream",
     "text": [
      "<StatusMessage(requestId=01FYYM477QE66QHCQ6NGEV1EE4, timestamp=2022-03-24 18:48:30.353000, client=<Client(userId=Guest, robotId=PySDKAutomation, sessionId=Session_998eb539)>, action=Add:Factor, state=Complete)>\n"
     ]
    }
   ],
   "source": [
    "# Checking\n",
    "print(await getStatusLatest(navability_client, result_id))"
   ]
  },
  {
   "cell_type": "markdown",
   "metadata": {},
   "source": [
    "\n",
    "```@raw html\n",
    "<p align=\"center\">\n",
    "<img src=\"https://raw.githubusercontent.com/JuliaRobotics/Caesar.jl/master/docs/src/assets/tutorials/ContinuousScalar/fgx012.png\" width=\"360\" border=\"0\" />\n",
    "</p>\n",
    "```\n",
    "The `mmo` variable illustrates how a near arbitrary mixture probability distribution can be used as a conditional relationship between variable nodes in the factor graph.\n",
    "In this case, a 40%/60% balance of a Rayleigh and truncated Uniform distribution which acts as a multi-modal conditional belief.\n",
    "Interpret carefully what a conditional belief of this nature actually means.\n",
    "\n",
    "Following the tutorial's practical example frameworks (robot navigation or time travel), this multi-modal belief implies that moving from one of the probable locations in `:x1` to a location in `:x2` by some processes defined by `mmo=P(Z | X2, X1)` is uncertain to the same 40%/60% ratio.\n",
    "In practical terms, collapsing (through observation of an event) the probabilistic likelihoods of the transition from `:x1` to `:x2` may result in the `:x2` location being at either 15-20, or 40-65-ish units.\n",
    "The predicted belief over `:x2` is illustrated by plotting the predicted belief (green trace), after forcing initialization."
   ]
  },
  {
   "cell_type": "code",
   "execution_count": null,
   "metadata": {},
   "outputs": [],
   "source": [
    "#initAll!(fg)\n",
    "#plotKDE(fg, [:x0, :x1, :x2])"
   ]
  },
  {
   "cell_type": "markdown",
   "metadata": {},
   "source": [
    "```@raw html\n",
    "<p align=\"center\">\n",
    "<img src=\"https://raw.githubusercontent.com/JuliaRobotics/Caesar.jl/master/docs/src/assets/tutorials/ContinuousScalar/plx012.png\" width=\"360\" border=\"0\" />\n",
    "</p>\n",
    "```\n",
    "\n",
    "## Adding Variable `x3`\n",
    "\n",
    "Adding one more variable `:x3` through another `LinearRelative(Normal(-50,1))`"
   ]
  },
  {
   "cell_type": "code",
   "execution_count": 26,
   "metadata": {},
   "outputs": [
    {
     "name": "stdout",
     "output_type": "stream",
     "text": [
      "Added x3 with result ID 01FYVCCKHSQ6RVWB616ZRN7ZM3\n"
     ]
    }
   ],
   "source": [
    "# REF: addVariable!(fg, :x3, ContinuousScalar)\n",
    "# REF: addFactor!(fg, [:x2, :x3], LinearRelative(Normal(-50, 1)))\n",
    "v = Variable(\"x3\", \"IncrementalInference.ContinuousScalar\") #VariableType.ContinuousScalar.value)\n",
    "result_id = await addVariable(navability_client, client, v)\n",
    "print(f\"Added {v.label} with result ID {result_id}\")\n",
    "\n",
    "linear_factor = Factor(\"x2x3f1\", \"LinearRelative\", [\"x2\", \"x3\"],\n",
    "      FactorData(\n",
    "          fnc=LinearRelative(Normal(-50, 1)\n",
    "          ).dump()  # This is a generator for a LinearRelative\n",
    "      ))\n",
    "result_id = await addFactor(navability_client, client, linear_factor)"
   ]
  },
  {
   "cell_type": "code",
   "execution_count": 27,
   "metadata": {},
   "outputs": [
    {
     "name": "stdout",
     "output_type": "stream",
     "text": [
      "<StatusMessage(requestId=01FYVCCM36S5Z0XPB9WD0T7YMV, timestamp=2022-03-23 12:35:29.870000, client=<Client(userId=Guest, robotId=PySDKAutomation, sessionId=Session_0869d232)>, action=Add:Factor, state=Complete)>\n"
     ]
    }
   ],
   "source": [
    "# Checking\n",
    "print(await getStatusLatest(navability_client, result_id))"
   ]
  },
  {
   "cell_type": "markdown",
   "metadata": {},
   "source": [
    "expands the factor graph to to four variables and four factors.\n",
    "```@raw html\n",
    "<p align=\"center\">\n",
    "<img src=\"https://raw.githubusercontent.com/JuliaRobotics/Caesar.jl/master/docs/src/assets/tutorials/ContinuousScalar/fgx0123.png\" width=\"480\" border=\"0\" />\n",
    "</p>\n",
    "```\n",
    "This part of the tutorial shows how a unimodal likelihood (conditional belief) can transmit the bimodal belief currently contained in `:x2`."
   ]
  },
  {
   "cell_type": "code",
   "execution_count": null,
   "metadata": {},
   "outputs": [],
   "source": [
    "#initAll!(fg)\n",
    "#plotKDE(fg, [:x0, :x1, :x2, :x3])"
   ]
  },
  {
   "cell_type": "markdown",
   "metadata": {},
   "source": [
    "Notice the blue trace (`:x3`) is a shifted and slightly spread out version of the initialized belief on `:x2`, through the convolution with the conditional belief `P(Z | X2, X3)`.\n",
    "```@raw html\n",
    "<p align=\"center\">\n",
    "<img src=\"https://raw.githubusercontent.com/JuliaRobotics/Caesar.jl/master/docs/src/assets/tutorials/ContinuousScalar/plx0123.png\" width=\"480\" border=\"0\" />\n",
    "</p>\n",
    "```\n",
    "\n",
    "### The Last Factor\n",
    "\n",
    "\n",
    "Global inference over the entire factor graph has still not occurred, and will at this stage produce roughly similar results to the predicted beliefs shown above.\n",
    "Only by introducing more information into the factor graph can inference extract more precise marginal belief estimates for each of the variables.\n",
    "A final piece of information added to this graph is a factor directly relating `:x3` with `:x0`."
   ]
  },
  {
   "cell_type": "code",
   "execution_count": 28,
   "metadata": {},
   "outputs": [],
   "source": [
    "# REF: addFactor!(fg, [:x3, :x0], LinearRelative(Normal(40, 1)))\n",
    "linear_factor = Factor(\"x3x0f1\", \"LinearRelative\", [\"x3\", \"x0\"],\n",
    "      FactorData(\n",
    "          fnc=LinearRelative(Normal(40, 1)\n",
    "          ).dump()  # This is a generator for a LinearRelative\n",
    "      ))\n",
    "result_id = await addFactor(navability_client, client, linear_factor)"
   ]
  },
  {
   "cell_type": "code",
   "execution_count": 30,
   "metadata": {},
   "outputs": [
    {
     "name": "stdout",
     "output_type": "stream",
     "text": [
      "<StatusMessage(requestId=01FYVCDFRJE3SW8ARY17H2JHQ2, timestamp=2022-03-23 12:35:56.747000, client=<Client(userId=Guest, robotId=PySDKAutomation, sessionId=Session_0869d232)>, action=Add:Factor, state=Complete)>\n"
     ]
    }
   ],
   "source": [
    "# Checking\n",
    "print(await getStatusLatest(navability_client, result_id))"
   ]
  },
  {
   "cell_type": "markdown",
   "metadata": {},
   "source": [
    "Pay close attention to what this last factor means in terms of the probability density traces shown in the previous figure.\n",
    "The blue trace for `:x3` has two major modes, one that overlaps with `:x0, :x1` near 0 and a second mode further to the left at -40.\n",
    "The last factor introduces a shift `LinearRelative(Normal(40,1))` which essentially aligns the left most mode of `:x3` back onto `:x0`.\n",
    "```@raw html\n",
    "<p align=\"center\">\n",
    "<img src=\"https://raw.githubusercontent.com/JuliaRobotics/Caesar.jl/master/docs/src/assets/tutorials/ContinuousScalar/fgx0123c.png\" width=\"480\" border=\"0\" />\n",
    "</p>\n",
    "```\n",
    "\n",
    "This last factor forces a mode selection through consensus.\n",
    "By doing global inference, the new information obtained in `:x3` will be equally propagated to `:x2` where only one of the two modes will remain.\n",
    "\n",
    "## Solve the Graph\n",
    "\n",
    "\n",
    "Global inference is achieved with local computation using two function calls, as follows.\n"
   ]
  },
  {
   "cell_type": "code",
   "execution_count": 25,
   "metadata": {},
   "outputs": [],
   "source": [
    "#tree = solveGraph!(fg)\n",
    "\n",
    "# and visualization\n",
    "#plotKDE(fg, [:x0, :x1, :x2, :x3])\n",
    "result_id = solveSession(navability_client, client)"
   ]
  },
  {
   "cell_type": "code",
   "execution_count": null,
   "metadata": {},
   "outputs": [],
   "source": [
    "# Checking\n",
    "print(await getStatusLatest(navability_client, result_id))"
   ]
  },
  {
   "cell_type": "markdown",
   "metadata": {},
   "source": [
    "## Viewing the results"
   ]
  },
  {
   "cell_type": "code",
   "execution_count": 36,
   "metadata": {},
   "outputs": [
    {
     "data": {
      "text/markdown": [
       "[![Navigate to Factor Graph](http://www.navability.io/wp-content/uploads/2022/03/factor_graph.png)](https://app.navability.io/cloud/graph?userId=Guest&robotStartsWith=PySDKAutomation&sessionStartsWith=Session_998eb539)\n",
       "  [![Navigate to Geometic Map](http://www.navability.io/wp-content/uploads/2022/03/geometric_map.png)](https://app.navability.io/cloud/map?userId=Guest&robotStartsWith=PySDKAutomation&sessionStartsWith=Session_998eb539)"
      ],
      "text/plain": [
       "<IPython.core.display.Markdown object>"
      ]
     },
     "execution_count": 36,
     "metadata": {},
     "output_type": "execute_result"
    }
   ],
   "source": [
    "# Making a button using markdown\n",
    "from IPython.display import Markdown as md\n",
    "#See the results\n",
    "topography_vis_link = f\"https://app.navability.io/cloud/graph?userId={client.userId}&robotStartsWith={client.robotId}&sessionStartsWith={client.sessionId}\"\n",
    "spatial_vis_link = f\"https://app.navability.io/cloud/map?userId={client.userId}&robotStartsWith={client.robotId}&sessionStartsWith={client.sessionId}\"\n",
    "md(f\"\"\"[![Navigate to Factor Graph](http://www.navability.io/wp-content/uploads/2022/03/factor_graph.png)]({topography_vis_link})\n",
    "  [![Navigate to Geometic Map](http://www.navability.io/wp-content/uploads/2022/03/geometric_map.png)]({spatial_vis_link})\"\"\")\n",
    "\n"
   ]
  },
  {
   "cell_type": "markdown",
   "metadata": {},
   "source": [
    "The resulting posterior marginal beliefs over all the system variables are:\n",
    "```@raw html\n",
    "<p align=\"center\">\n",
    "<img src=\"https://raw.githubusercontent.com/JuliaRobotics/Caesar.jl/master/docs/src/assets/tutorials/ContinuousScalar/plx0123infr.png\" width=\"480\" border=\"0\" />\n",
    "</p>\n",
    "```\n",
    "\n",
    "## Conclusion\n",
    "\n",
    "It is import to note that although this tutorial ends with all marginal beliefs having near Gaussian shape and are unimodal, that the package supports multi-modal belief estimates during both the prediction and global inference processes.\n",
    "In fact, many of the same underlying inference functions are involved with the automatic initialization process and the global multi-modal iSAM inference procedure.\n",
    "This concludes the ContinuousScalar tutorial"
   ]
  }
 ],
 "metadata": {
  "interpreter": {
   "hash": "d3e1863c3447421b48c4059f133823007b0975a20585c6dd093b37cc5d666f94"
  },
  "kernelspec": {
   "display_name": "Julia 1.7.1",
   "language": "python",
   "name": "python3"
  },
  "language_info": {
   "codemirror_mode": {
    "name": "ipython",
    "version": 3
   },
   "file_extension": ".py",
   "mimetype": "text/x-python",
   "name": "python",
   "nbconvert_exporter": "python",
   "pygments_lexer": "ipython3",
   "version": "3.8.10"
  },
  "orig_nbformat": 4
 },
 "nbformat": 4,
 "nbformat_minor": 2
}
