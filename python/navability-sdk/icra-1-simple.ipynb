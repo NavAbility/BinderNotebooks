{
 "cells": [
  {
   "cell_type": "markdown",
   "metadata": {},
   "source": [
    "# Tutorial 1: Creating and Solving Factor Graphs\n",
    "In this tutorial you will learn how to create, solve, and explore factor graphs, as well as what variables, factors, and priors are.\n",
    "\n",
    "## What is a Factor Graph\n",
    "\n",
    "Wikipedia tells us a factor graph is a bipartite graph representing the factorization of a function.\n",
    " \n",
    "If you haven't taken some advanced statistics classes you are probably wondering: Bipartite graph? Factorization? I just want to navigate my robot.\n",
    "For robotics, factor graphs are the common language used to describe your robot's estimation problem (the function) in a way both humans and computers can understand. \n",
    "The estimation problem can be anything from robot localization, structure from motion, calibration to full SLAM with parametric or non-parametric measurements and beliefs.\n",
    "A factor graph is a graphical model with two types of nodes, variables and factors, connected by edges between the variables and factors (bipartite graph). \n",
    "Variables represent the unknown random variables in the estimation problem, such as vehicle or landmark positions, sensor calibration parameters, and more.\n",
    "Factors represent the algebraic interaction between particular variables using stochastic models, for example wheel odometry between poses, which is depicted with edges. \n",
    "A graph of variables and factors is the factorization of the function describing your system, and effectively represents a breakdown of the complex problem describing your robot navigation; \n",
    "for example, the graph models the position and orientation (pose) of your robot at any given time relative to landmarks. \n",
    "This factorization allows us to solve the optimization (a.k.a. inference) problem for all variables given every measurement described by the factors.\n",
    "See Caesar.jl docs [Graph Concepts](https://juliarobotics.org/Caesar.jl/latest/concepts/concepts/#Graph-Concepts) for more detail.\n",
    "\n",
    "### Let's build a factor graph\n",
    "\n",
    "First we will need some packages: \n",
    "- `NavAbilitySDK` - for interacting with the graph.\n",
    "- `numpy` - for matrices and calculations.\n",
    "- `Plotly` - for visualizing graphs [TODO].\n"
   ]
  },
  {
   "cell_type": "code",
   "execution_count": null,
   "metadata": {},
   "outputs": [],
   "source": [
    "from navability.entities import *\n",
    "from navability.services import *\n",
    "from uuid import uuid4\n",
    "import asyncio\n",
    "import numpy as np"
   ]
  },
  {
   "cell_type": "markdown",
   "metadata": {},
   "source": []
  },
  {
   "cell_type": "markdown",
   "metadata": {},
   "source": [
    "To create a new factor graph with default settings create a new NavAbility client and a client that indicates the user, robot, and session. "
   ]
  },
  {
   "cell_type": "code",
   "execution_count": null,
   "metadata": {},
   "outputs": [],
   "source": [
    "# Start with an empty factor graph\n",
    "navability_client = NavAbilityHttpsClient()\n",
    "client = Client(\"Guest\", \"SDKpy_\" + str(uuid4())[0:4], \"Tutorial1_\" + str(uuid4())[0:4])\n",
    "print(client)"
   ]
  },
  {
   "cell_type": "markdown",
   "metadata": {},
   "source": [
    "## Variables and Factors \n",
    "\n",
    "Variables, denoted as the larger nodes in the figure below, represent state variables of interest such as vehicle or landmark positions, sensor calibration parameters, and more. Variables are likely hidden values that are not directly observed, but we want to estimate them from observed data and at least some minimal algebra structure from probabilistic measurement models.\n",
    "\n",
    "Factors, the smaller nodes in the figure below, represent the algebraic interaction between particular variables, which is captured through edges. Factors must adhere to the limits of probabilistic models – for example conditional likelihoods capture the likelihood correlations between variables; while priors (unary to one variable) represent absolute information to be introduced. \n",
    "\n",
    "We start with a `Pose2` variable, i.e. position and orientation in two dimensions.\n",
    "To add variables to our factor graph we created above, call `addVariable` with a label `x0` and type `Pose2`\n"
   ]
  },
  {
   "cell_type": "code",
   "execution_count": null,
   "metadata": {},
   "outputs": [],
   "source": [
    "v = Variable(\"x0\", VariableType.Pose2.value)\n",
    "result_id = await addVariable(navability_client, client, v)\n",
    "print(f\"Added {v.label} with result ID {result_id}\")\n",
    "# Wait for it to be loaded.\n",
    "await waitForCompletion(navability_client, [result_id])"
   ]
  },
  {
   "cell_type": "markdown",
   "metadata": {},
   "source": [
    "We now have a factor graph with one variable, but to solve it we need some additional information. \n",
    "In this example, we need the estimated starting point of our robot.\n",
    "We use unary factors called priors to represent absolute information to be introduced.\n",
    "In this case we use `PriorPose2`, as our variable type is also `Pose2`.\n",
    "This unary factor is taken as a matrix `FullNormal` distribution (a.k.a. a [multivariate normal distribution](https://en.wikipedia.org/wiki/Multivariate_normal_distribution)).  Let's create a `PriorPose2` unary factor with zero mean and a covariance matrix of (`diagm([0.05,0.05,0.01].^2)`):\n",
    "\n",
    "$\\mu = \\begin{bmatrix} 0 & 0 & 0 \\end{bmatrix}^T$\n",
    "\n",
    "$\\Sigma = \\begin{bmatrix} 0.0025 & 0.0 &  0.0 \\\\ 0.0 & 0.0025 & 0.0 \\\\ 0.0 &  0.0 &  0.0001 \\end{bmatrix}$"
   ]
  },
  {
   "cell_type": "code",
   "execution_count": null,
   "metadata": {},
   "outputs": [],
   "source": [
    "prior_distribution = FullNormal(mu=np.zeros(3), cov=np.power(np.diag([0.1, 0.1, 0.1]),2))\n",
    "prior_factor = Factor(\"x0f1\", \"PriorPose2\", [\"x0\"], FactorData(fnc=PriorPose2(Z=prior_distribution).dump()))\n",
    "result_id = await addFactor(navability_client, client, prior_factor) \n",
    "print(f\"Added {v.label} with result ID {result_id}\")\n",
    "# Wait for it to be loaded.\n",
    "await waitForCompletion(navability_client, [result_id])"
   ]
  },
  {
   "cell_type": "markdown",
   "metadata": {},
   "source": [
    "We can look at the factor graph we have so far using the generated link to the NavAbility WebApp"
   ]
  },
  {
   "cell_type": "code",
   "execution_count": null,
   "metadata": {},
   "outputs": [],
   "source": [
    "print(\"https://app.navability.io/cloud/graph/?userId=%s&robotStartsWith=%s&sessionStartsWith=%s\" % (client.userId, client.robotId, client.sessionId))"
   ]
  },
  {
   "cell_type": "markdown",
   "metadata": {},
   "source": [
    "The prior is now connected to the variable, `x0`, but it is not initialized yet. Automatic initialization of variables depends on how the factor graph model is constructed. So far, `x0` has not been initialized."
   ]
  },
  {
   "cell_type": "markdown",
   "metadata": {},
   "source": [
    "**Graph-based Initialization**\n",
    "\n",
    "Why is `x0` not initialized? Since no other variable nodes have been 'connected to' (or depend) on `x0` and future intentions of the user are unknown, the initialization of `x0` is deferred until the latest possible moment. `IncrementalInference.jl` assumes that the user will generally populate new variable nodes with most of the associated factors before moving to the next variable. \n",
    "\n",
    "By delaying initialization of a new variable (say `x0`) until a second newer uninitialized variable (say `x1`) depends on `x0`, the IncrementalInference algorithms hope to then initialize `x0` with the more information from previous and surrounding variables and factors. Also note that initialization of variables is a local operation based only on the neighboring nodes – global inference over the entire graph is shows later in this tutorial."
   ]
  },
  {
   "cell_type": "markdown",
   "metadata": {},
   "source": [
    "**Robot Odometry - Relative Factor**\n",
    "\n",
    "Next, we want to add an odometry factor that connects our two robot poses `x0` and `x1` together to form a chain.\n",
    "Here we use a relative factor of type `Pose2Pose2` with a measurement from pose `x0` to `x1` of (x=1.0,y=0.0,θ=pi/2); the robot drove 1 unit forward (in the x direction).\n",
    "Similarly to the prior we added above, we use an `FullNormal` distribution to represent the odometry with mean and covariance:\n",
    "\n",
    "$\\mu =(x=1, y=0, \\theta=\\frac{\\pi}{2})$\n",
    "\n",
    "$\\Sigma = \\begin{bmatrix} 0.01 & 0.0 &  0.0 \\\\ 0.0 & 0.01 & 0.0 \\\\ 0.0 &  0.0 &  0.0001 \\end{bmatrix}$"
   ]
  },
  {
   "cell_type": "code",
   "execution_count": null,
   "metadata": {},
   "outputs": [],
   "source": [
    "v = Variable(\"x1\", VariableType.Pose2.value)\n",
    "result_v = await addVariable(navability_client, client, v)\n",
    "print(f\"Added {v.label} with result ID {result_v}\")\n",
    "odo_distribution = FullNormal(mu=[1.0, 0.0, np.pi/2], cov=np.power(np.diag([0.1, 0.1, 0.01]),2))\n",
    "fac_1 = Factor(\"x0x1f1\", \"Pose2Pose2\", [\"x0\", \"x1\"], FactorData(fnc=Pose2Pose2(Z=prior_distribution).dump()))\n",
    "result_fac_1 = await addFactor(navability_client, client, fac_1) \n",
    "print(f\"Added {fac_1.label} with result ID {result_fac_1}\")\n",
    "\n",
    "# Wait for it to be loaded.\n",
    "await waitForCompletion(navability_client, [result_v, result_fac_1])"
   ]
  },
  {
   "cell_type": "markdown",
   "metadata": {},
   "source": [
    "Lets look at the factor graph again"
   ]
  },
  {
   "cell_type": "code",
   "execution_count": null,
   "metadata": {},
   "outputs": [],
   "source": [
    "print(\"https://app.navability.io/cloud/graph/?userId=%s&robotStartsWith=%s&sessionStartsWith=%s\" % (client.userId, client.robotId, client.sessionId))"
   ]
  },
  {
   "cell_type": "markdown",
   "metadata": {},
   "source": [
    "### Solving\n",
    "\n",
    "We now have a graph we can solve using the Multi-Modal iSAM (MM-iSAM) algorithm. \n",
    "The default solver will perform non-parametric inference/state-estimation over our newly created graph."
   ]
  },
  {
   "cell_type": "code",
   "execution_count": null,
   "metadata": {},
   "outputs": [],
   "source": [
    "solve_request = await solveSession(navability_client, client)\n",
    "# Wait for it to be loaded.\n",
    "await waitForCompletion(navability_client, [solve_request])"
   ]
  },
  {
   "cell_type": "markdown",
   "metadata": {},
   "source": [
    "### Results\n",
    "\n",
    "The NavAbility WebApp allows visualization of the belief state over any of the variables.  Also try with Belief and Distribution buttons to see more of the underlying posterior marginal belief estimates."
   ]
  },
  {
   "cell_type": "code",
   "execution_count": null,
   "metadata": {},
   "outputs": [],
   "source": [
    "print(\"https://app.navability.io/cloud/map/?userId=%s&robotStartsWith=%s&sessionStartsWith=%s\" % (client.userId, client.robotId, client.sessionId))"
   ]
  },
  {
   "cell_type": "markdown",
   "metadata": {},
   "source": [
    "**What is happening**\n",
    "\n",
    "The figure shows the position and orientation (red forward) for poses `x0` and `x1`. As well as the covariance ellipse. \n",
    "Since the solver used was non-parametric, the covariance ellipse is based on a best Gaussian distribution fit of the full belief.\n",
    "A few other functions are also handy for interacting with the factor graph, for instance `getVariable` returns the full variable.\n",
    "Or if you are interested in the suggested Parametric Point Estimate (PPE) you can get this from the PPE data."
   ]
  },
  {
   "cell_type": "code",
   "execution_count": null,
   "metadata": {},
   "outputs": [],
   "source": [
    "variables = await ls(navability_client, client)\n",
    "print(f\"Variables in graph: {variables}\")\n",
    "ppes = {\n",
    "        v: (await getVariable(navability_client, client, v)).ppes[\"default\"].suggested\n",
    "        for v in variables\n",
    "    }\n",
    "print(ppes)"
   ]
  },
  {
   "cell_type": "markdown",
   "metadata": {},
   "source": [
    "**Parametric point estimates and beliefs**\n",
    "\n",
    "A PPE can be the maximum or mean of the belief. \n",
    "If the belief is a normal distribution, both correspond with its mean. \n",
    "However, care should be taken with using PPEs when beliefs might be non-parametric, for example, in a multimodal belief with two peaks, max corresponds with the maximum of the two peaks while the mean will fall somewhere in between them. \n",
    "In non-parametric cases, it is better to work with the full belief obtained by the Kernel Density Estimate (KDE).  \n",
    "Kernel Density Estimation is a non-parametric way to estimate the probability density function of a random variable.\n",
    "With the default solver, a full probability density function is always available and can be visualized as shown by the distribution plot feature in the NavAbility WebApp.\n",
    "Non-parametric solutions will be discussed in more detail in tutorial 2."
   ]
  },
  {
   "cell_type": "code",
   "execution_count": null,
   "metadata": {},
   "outputs": [],
   "source": [
    "print(\"https://app.navability.io/cloud/map/?userId=%s&robotStartsWith=%s&sessionStartsWith=%s\" % (client.userId, client.robotId, client.sessionId))"
   ]
  },
  {
   "cell_type": "markdown",
   "metadata": {},
   "source": [
    "More plotting options exist, depending on how you are accessing the data.  See the [section on Plotting in the Caesar docs](https://juliarobotics.org/Caesar.jl/latest/concepts/2d_plotting/) for additional detail."
   ]
  },
  {
   "cell_type": "markdown",
   "metadata": {},
   "source": [
    "### Adding more poses and a point landmark\n",
    "\n",
    "So far we worked with the `Pose2` factor type. \n",
    "Among others, `NavAbilitySDK` also provides the `Point2` variable and `Pose2Point2BearingRange` factor types, which we will use to represent a landmark sighting in our factor graph.\n",
    "We will add a landmark `l1` with bearing range measuremet of bearing=$(\\mu=0,\\sigma=0.03)$ range=$(\\mu=0.5,\\sigma=0.1)$ and continue our robot trajectory by driving around in a square."
   ]
  },
  {
   "cell_type": "code",
   "execution_count": null,
   "metadata": {},
   "outputs": [],
   "source": [
    "\n",
    "variables = [\n",
    "  Variable(\"l1\", VariableType.Point2.value),\n",
    "  Variable(\"x2\", VariableType.Pose2.value),\n",
    "  Variable(\"x3\", VariableType.Pose2.value),\n",
    "  Variable(\"x4\", VariableType.Pose2.value)]\n",
    "results_variables = [await addVariable(navability_client, client, v) for v in variables]\n",
    "\n",
    "factors = [\n",
    "  # TODO\n",
    "  # Factor(\"x0l1f2\", \"Pose2Point2BearingRange\", [\"x0\", \"x1\"], \n",
    "  #     FactorData(fnc=Pose2Point2BearingRange(Normal(0.0,0.03), Normal(0.5,0.1)).dump())),\n",
    "  Factor(\"x2x3f1\", \"Pose2Pose2\", [\"x2\", \"x3\"], \n",
    "      FactorData(fnc=Pose2Pose2(odo_distribution).dump())),\n",
    "  Factor(\"x3x43f1\", \"Pose2Pose2\", [\"x3\", \"x4\"], \n",
    "      FactorData(fnc=Pose2Pose2(odo_distribution).dump())),\n",
    "]\n",
    "results_factors = [await addFactor(navability_client, client, f) for f in factors]\n",
    "await waitForCompletion(navability_client, results_variables + results_factors)"
   ]
  },
  {
   "cell_type": "markdown",
   "metadata": {},
   "source": [
    "Lets go look at the factor graph now, again using the WebApp"
   ]
  },
  {
   "cell_type": "code",
   "execution_count": null,
   "metadata": {},
   "outputs": [],
   "source": [
    "print(\"https://app.navability.io/cloud/graph/?userId=%s&robotStartsWith=%s&sessionStartsWith=%s\" % (client.userId, client.robotId, client.sessionId))"
   ]
  },
  {
   "cell_type": "markdown",
   "metadata": {},
   "source": [
    "We now have a longer odometry chain with one landmark sighting, let's solve the factor graph again so we can have a look at the results."
   ]
  },
  {
   "cell_type": "code",
   "execution_count": null,
   "metadata": {},
   "outputs": [],
   "source": [
    "solve_request = await solveSession(navability_client, client)\n",
    "# Wait for it to be loaded.\n",
    "await waitForCompletion(navability_client, [solve_request])"
   ]
  },
  {
   "cell_type": "markdown",
   "metadata": {},
   "source": [
    "The solve will take a bit of time.  Just keep watching the geometric visualization, which will automatically update as more of the solution is published"
   ]
  },
  {
   "cell_type": "code",
   "execution_count": null,
   "metadata": {},
   "outputs": [],
   "source": [
    "print(\"https://app.navability.io/cloud/map/?userId=%s&robotStartsWith=%s&sessionStartsWith=%s\" % (client.userId, client.robotId, client.sessionId))"
   ]
  },
  {
   "cell_type": "markdown",
   "metadata": {},
   "source": [
    "Once solving has completed, the variable results can be looked at in various ways.  Here we are just looking at the PPE values, but the full posterior marginal beliefs are available by simply asking for more results."
   ]
  },
  {
   "cell_type": "code",
   "execution_count": null,
   "metadata": {},
   "outputs": [],
   "source": [
    "#pl = plotSLAM2D(fg, drawContour=false, drawEllipse=true, drawhist=false, drawPoints=false)\n",
    "# TODO: Need l1 to solve for this to work correctly.\n",
    "variables = await ls(navability_client, client)\n",
    "print(f\"Variables in graph: {variables}\")\n",
    "ppes = {\n",
    "        v: (await getVariable(navability_client, client, v)).ppes.get(\"default\") #.suggested\n",
    "        for v in variables\n",
    "    }\n",
    "print(ppes)"
   ]
  },
  {
   "cell_type": "markdown",
   "metadata": {},
   "source": [
    "### Adding a Loop Closure\n",
    "\n",
    "As expected, the robot continued its square trajectory to end off where it started. \n",
    "To illustrate a loop closure, we add another bearing range sighting to from pose `x4` to landmark `l1`, solve the graph and plot the new results: "
   ]
  },
  {
   "cell_type": "code",
   "execution_count": null,
   "metadata": {},
   "outputs": [],
   "source": [
    "## TODO\n",
    "# p2br = Factor(\"x4l1f1\", \"Pose2Point2BearingRange\", [\"x4\", \"l1\"], \n",
    "#           FactorData(fnc=Pose2Point2BearingRange(Normal(0.0,0.03), Normal(0.5,0.1)).dump())),\n",
    "# result_factor = await addFactor(navability_client, client, p2br)\n",
    "# await waitForCompletion(navability_client, client, [result_factor])"
   ]
  },
  {
   "cell_type": "code",
   "execution_count": null,
   "metadata": {},
   "outputs": [],
   "source": [
    "solve_request = await solveSession(navability_client, client)\n",
    "# Wait for it to be loaded.\n",
    "await waitForCompletion(navability_client, [solve_request])"
   ]
  },
  {
   "cell_type": "markdown",
   "metadata": {},
   "source": [
    "Lets go look at the final results again, which now includes the loop closure.  Use the 'Show Belief', 'Show Distribution' buttons along the bottom for more visual information.  You can also trigger new solves (as long as the Global Filter fields are properly set in the far right filter menu).\n",
    "\n",
    "Use the WebApp hamburger menu on the left to navigate between the graph and geometric map visualization.  You can also use the Global Filter menu on the right to set which information to visualize."
   ]
  },
  {
   "cell_type": "code",
   "execution_count": null,
   "metadata": {},
   "outputs": [],
   "source": [
    "print(\"https://app.navability.io/cloud/graph/?userId=%s&robotStartsWith=%s&sessionStartsWith=%s\" % (client.userId, client.robotId, client.sessionId))"
   ]
  },
  {
   "cell_type": "code",
   "execution_count": null,
   "metadata": {},
   "outputs": [],
   "source": [
    "print(\"https://app.navability.io/cloud/map/?userId=%s&robotStartsWith=%s&sessionStartsWith=%s\" % (client.userId, client.robotId, client.sessionId))"
   ]
  },
  {
   "cell_type": "markdown",
   "metadata": {},
   "source": [
    "## Next Steps\n",
    "\n",
    "Tutorial 2 will give an introduction to non-parametric solutions.\n",
    "\n",
    "## Additional Resources\n",
    "\n",
    "### Variable representation and factor algebraic operations\n",
    "\n",
    "The variables used in this tutiorail, `Point2` and `Pose2`, are represented as points on manifolds and all algebraic operations, inference/optimization are also performed on manifold.\n",
    "For more information on how manifolds are used in Ceaser.jl, refer to the [manifold section in the documentation](https://juliarobotics.org/Caesar.jl/latest/concepts/using_manifolds/).\n",
    "\n",
    "### Custom Variables and Factors\n",
    "\n",
    "In most scenarios, the existing variables and factors should be sufficient for most robotics applications. \n",
    "Caesar however, is extensible and allows you to easily incorporate your own variable and factor types for specialized applications.\n",
    "\n",
    "Have a look at the Caesar documentaton if you are interested in creating custom vairables, factors (or priors)\n",
    "\n",
    "- [Custom variables](https://juliarobotics.org/Caesar.jl/latest/examples/custom_variables/)\n",
    "- [Custom prior factors](https://juliarobotics.org/Caesar.jl/latest/examples/basic_definingfactors/)\n",
    "- [Custom relative factors](https://juliarobotics.org/Caesar.jl/latest/examples/custom_relative_factors/)\n",
    "\n",
    "\n",
    "### Bayes (Junction) Tree\n",
    "\n",
    "Inference is performed on the bayes tree see: [Bayes tree principles](https://juliarobotics.org/Caesar.jl/latest/principles/bayestreePrinciples/)"
   ]
  }
 ],
 "metadata": {
  "interpreter": {
   "hash": "83ab08a780811da2de8e18b103875593576497b9ffc167d292a4030da80c9602"
  },
  "kernelspec": {
   "display_name": "Julia 1.7.1",
   "language": "python",
   "name": "python3"
  },
  "language_info": {
   "codemirror_mode": {
    "name": "ipython",
    "version": 3
   },
   "file_extension": ".py",
   "mimetype": "text/x-python",
   "name": "python",
   "nbconvert_exporter": "python",
   "pygments_lexer": "ipython3",
   "version": "3.8.10"
  },
  "orig_nbformat": 4
 },
 "nbformat": 4,
 "nbformat_minor": 2
}
