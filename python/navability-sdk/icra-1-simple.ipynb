{
  "cells": [
    {
      "cell_type": "markdown",
      "metadata": {},
      "source": [
        "# Tutorial 1: Creating and Solving Factor Graphs\n",
        "In this tutorial you will learn how to create, solve, and explore factor graphs, as well as what variables, factors, and priors are.\n",
        "\n",
        "**API Version: NavAbilitySDK.py**\n",
        "\n",
        "## Overview\n",
        "\n",
        "### Background\n",
        "\n",
        "To help scope the conversation, we sketch a ubiquitous problem where robotic technologies can have a major impact.  \n",
        "These tutorials apply broadly to \"robotics\", and it is worth noting that we define 'robotics' to include \n",
        "- Digital Twin computations from various data, \n",
        "- Statically mounted robot arms or sensors,\n",
        "- Human operated measurement equipment, \n",
        "- Fully mobile and self propelled \"robots\", \n",
        "- and many more.\n",
        "\n",
        "### Application Focus\n",
        "\n",
        "Zooming in further, let's consider a factory environment where various interacting robotic equipment are producing and transporting objects -- i.e. manufacturing and logistics support.  The figure below conceptually shows how a product winds it's way from the factory floor, through various robotic handovers, and out via shipping on a truck.  Each robot individually needs a geometrical (and later semantic) understanding of the task object, their location, the surroundings, and of other agents.  Each robot therefore will have it's own navigation solution.\n",
        "\n",
        "Longer term, these navigation solutions will need to interact.  The figure below shows at the highest level how factor graphs provide a technique / method / roadmap on how to develop more intelligent robotic equipment that can calibrate, localize, map, track, interact, or cooperate:\n",
        "\n",
        "![Why Factor Graphs](https://github.com/NavAbility/BinderNotebooks/raw/main/static/icra-1/why-factorgraphs.png)\n",
        "\n",
        "This tutorial starts the conversation on how to overcome the **crux navigation AI software challenge**, and applies to both individual and interacting robotic systems.  This tutorial is the first step in showing how the idea of factor graphs can provide a good engineering balance in flexibility, ease of use, and mathematical foundation.  \n",
        "\n",
        "This tutorial will show some of the most basic operations that you can perform with factor graphs, and further tutorials will fill in more and more of the features and capabilities.  Keep in mind that this and several more tutorials must be brought together for the necessary feature set to deploy multi-agent environments of interacting humans and robots."
      ]
    },
    {
      "cell_type": "markdown",
      "metadata": {},
      "source": [
        "\n",
        "## What is a Factor Graph\n",
        "\n",
        "Calibration / localization / tracking / mapping / perception problems in robotics can be solved very effectively with factor graphs, which provide a common language to describe the underlying estimation problem from available data; and in a way both humans and computers can easily understand.   A factor graph is a graphical modelling language with two types of nodes, namely variables and factors, which are connected by edges according to how they interact.  This sketch illustrates a simple example with variables, the large circular nodes, and factors, the square nodes -- note, the interactive code segments below will explain how graphs this like are constructed and why:\n",
        "\n",
        "![Tut1 Graph Sketch](https://github.com/NavAbility/BinderNotebooks/raw/main/static/icra-1/example-fg.png)\n",
        "\n",
        "Variables represent unknown states that the user wants the computer to estimate, such as the position or orientation of some equipment, or position of landmarks in the environment, or maybe hidden calibration parameters that are difficult to measure directly, and potetially many, many more.\n",
        "\n",
        "Factors usually represent the interaction between sparse variables based on some measurement data, e.g. the distance from one point to another -- i.e. a range factor.\n",
        "This is where basic math and measurement functions are included and used during computation.\n",
        "For example, encoder measurements from wheels, ranges from a laser, or tag readings from a camera.\n",
        "The variables associated with each data cue / measurement is depicted by the edges eminating from each factor.\n",
        "Our solution aleady provides a library of standard variables and factors that require zero mathematical input from the user, yet the technology rapidly supports building of new variables and factors, potentially containing exotic computations -- more on that later.\n",
        "\n",
        "From a technical perspective, factor graphs allow for an **apples and apples** framework where different sensor measurements / data cues can be combined and jointly processed according to their indivual statistical properties.  Factor graphs allow the system developer to think about each measurement on their own, rather than having to deal with the challenging data fusion problem manually.  This **greatly simplifies the problem**, since the rigorous computational aspects are dealt with by factor graph solver and associated algorithms.\n",
        "\n",
        "Later tutorials will show how to handle low confidence, ambiguous, and 'strange' measurement scenarios.  **This is an interactive tutorial, so let's dive in and navigate a robot!**\n",
        "\n",
        "> For additional info, see the Caesar.jl docs on [Graph Concepts](https://juliarobotics.org/Caesar.jl/latest/concepts/concepts/#Graph-Concepts) and beyond, for more details on graph factorization, elimination, recycling, federated solutions, data handling, serialization and much more.\n",
        "\n",
        "### Loading the Packages\n",
        "\n",
        "First we will need some packages: \n",
        "- `NavAbilitySDK` - for interacting with the graph.\n",
        "- `numpy` - for matrices and calculations.\n"
      ]
    },
    {
      "cell_type": "code",
      "execution_count": null,
      "metadata": {
        "trusted": true
      },
      "outputs": [],
      "source": [
        "from navability.entities import *\n",
        "from navability.services import *\n",
        "from uuid import uuid4\n",
        "import asyncio\n",
        "import numpy as np\n",
        "\n",
        "# use markdown to link to graph and map visualizations\n",
        "from IPython.display import Markdown as md\n",
        "\n",
        "# Helper functions for NavAbility App visualizations\n",
        "def GraphVizApp(client):\n",
        "  topography_vis_link = f\"https://app.navability.io/cloud/graph/?userId={client.userId}&robotStartsWith={client.robotId}&sessionStartsWith={client.sessionId}\"\n",
        "  print(topography_vis_link)\n",
        "  try:\n",
        "    return md(f\"\"\"[![Navigate to Factor Graph](http://www.navability.io/wp-content/uploads/2022/03/factor_graph.png)]({topography_vis_link})\"\"\")\n",
        "  except:\n",
        "    return\n",
        "\n",
        "def MapVizApp(client):\n",
        "  geometry_vis_link = f\"https://app.navability.io/cloud/map/?userId={client.userId}&robotStartsWith={client.robotId}&sessionStartsWith={client.sessionId}\"\n",
        "  print(geometry_vis_link)\n",
        "  try:\n",
        "    return md(f\"\"\"[![Navigate to Factor Graph](http://www.navability.io/wp-content/uploads/2022/03/geometric_map.png)]({geometry_vis_link})\"\"\")\n",
        "  except:\n",
        "    return"
      ]
    },
    {
      "cell_type": "markdown",
      "metadata": {},
      "source": [
        "## Build a factor graph\n",
        "\n",
        "To create a new factor graph with default settings create a new NavAbility client and a client that indicates the user, robot, and session. "
      ]
    },
    {
      "cell_type": "code",
      "execution_count": null,
      "metadata": {
        "trusted": true
      },
      "outputs": [],
      "source": [
        "# Start with an empty factor graph\n",
        "navability_client = NavAbilityHttpsClient()\n",
        "client = Client(\"Guest\", \"SDKpy_\" + str(uuid4())[0:4], \"Tutorial1_\" + str(uuid4())[0:4])\n",
        "print(client)"
      ]
    },
    {
      "cell_type": "markdown",
      "metadata": {},
      "source": [
        "## Variables and Factors \n",
        "\n",
        "Variables represent state variables of interest such as vehicle or landmark positions, sensor calibration parameters, and more. Variables are likely hidden values that are not directly observed, but we want to estimate them from observed data and at least some minimal algebra structure from probabilistic measurement models.\n",
        "\n",
        "Factors represent the interaction between particular variables, as captured measurement or data cues.  For example, a distance travelled measurement between two pose variables.\n",
        "Relative factors between variables are probabilistic models that capture the likelihood interactions between variables.  Priors factors (i.e. unary to one variable) represent absolute information to be introduced about that variable, for example a GPS measurement; more on how to introduce distrust of such priors later.\n",
        "\n",
        "`NavAbilitySDK.py` provides variables and factors useful to robotics.  We start with a `Pose2` variable, i.e. position and orientation in two dimensions.  To add variables to our factor graph we created above, call `addVariable` with a label `x0` and type `Pose2`\n"
      ]
    },
    {
      "cell_type": "code",
      "execution_count": null,
      "metadata": {
        "trusted": true
      },
      "outputs": [],
      "source": [
        "v = Variable(\"x0\", VariableType.Pose2.value)\n",
        "result_id = await addVariable(navability_client, client, v)\n",
        "print(f\"Added {v.label} with result ID {result_id}\")\n",
        "# Wait for it to be loaded.\n",
        "await waitForCompletion(navability_client, [result_id])"
      ]
    },
    {
      "cell_type": "markdown",
      "metadata": {},
      "source": [
        "We now have a factor graph with one variable, but to solve it we need some additional information. \n",
        "In this example, we need the estimated starting point of our robot.\n",
        "We use unary factors called priors to represent absolute information to be introduced.\n",
        "In this case we use `PriorPose2`, as our variable type is also `Pose2`.\n",
        "This unary factor is taken as a matrix `FullNormal` distribution (a.k.a. a [multivariate normal distribution](https://en.wikipedia.org/wiki/Multivariate_normal_distribution)).  Let's create a `PriorPose2` unary factor with zero mean and a covariance matrix of (`diagm([0.05,0.05,0.01].^2)`):\n",
        "\n",
        "$\\mu = \\begin{bmatrix} 0 & 0 & 0 \\end{bmatrix}^T$\n",
        "\n",
        "$\\Sigma = \\begin{bmatrix} 0.0025 & 0.0 &  0.0 \\\\ 0.0 & 0.0025 & 0.0 \\\\ 0.0 &  0.0 &  0.0001 \\end{bmatrix}$"
      ]
    },
    {
      "cell_type": "code",
      "execution_count": null,
      "metadata": {
        "trusted": true
      },
      "outputs": [],
      "source": [
        "prior_distribution = FullNormal(mu=np.zeros(3), cov=np.power(np.diag([0.1, 0.1, 0.1]),2))\n",
        "prior_factor = Factor(\"x0f1\", \"PriorPose2\", [\"x0\"], FactorData(fnc=PriorPose2(Z=prior_distribution).dump()))\n",
        "result_id = await addFactor(navability_client, client, prior_factor) \n",
        "print(f\"Added {v.label} with result ID {result_id}\")\n",
        "# Wait for it to be loaded.\n",
        "await waitForCompletion(navability_client, [result_id])"
      ]
    },
    {
      "cell_type": "markdown",
      "metadata": {},
      "source": [
        "We can look at the factor graph we have so far using the generated link to the NavAbilityApp, and note the variable node `x0` and prior factor node `x0f1`."
      ]
    },
    {
      "cell_type": "code",
      "execution_count": null,
      "metadata": {},
      "outputs": [],
      "source": [
        "# click the generated graphic to link to the NavAbiltiy WebApp visualization\n",
        "GraphVizApp(client)"
      ]
    },
    {
      "cell_type": "markdown",
      "metadata": {},
      "source": [
        "The prior is now connected to the variable, `x0`, but it is not initialized yet. Automatic initialization of variables depends on how the factor graph model is constructed. So far, `x0` has not been initialized."
      ]
    },
    {
      "cell_type": "markdown",
      "metadata": {},
      "source": [
        "**Graph-based Initialization**\n",
        "\n",
        "At this stage `x0` is not initialized, since no numerical solution has yet been computed.  We do this as the future intentions of the user are unknown and the initialization of `x0` is deferred until the latest possible moment.  The NavAbility Platform assumes that the new variables and factors can be initialized when they are solved for the first time.\n",
        "\n",
        "By delaying initialization of a new variable (say `x0`) until a second newer uninitialized variable (say `x1`) that depends on `x0`, the `Caesar.jl` algorithms can initialize `x0` with more information from surrounding variables and factors.  Solving over the entire graph will set the numerical values. "
      ]
    },
    {
      "cell_type": "markdown",
      "metadata": {},
      "source": [
        "**Robot Odometry - Relative Factor**\n",
        "\n",
        "Next, we want to add an odometry factor that connects our two robot poses `x0` and `x1` together to form a chain.\n",
        "Here we use a relative factor of type `Pose2Pose2` with a measurement from pose `x0` to `x1` of (x=1.0,y=0.0,θ=pi/2); the robot drove 1 unit forward (in the x direction).\n",
        "Similarly to the prior we added above, we use a `FullNormal` distribution to represent the odometry with mean and covariance:\n",
        "\n",
        "$\\mu =(x=1, y=0, \\theta=\\frac{\\pi}{2})$\n",
        "\n",
        "$\\Sigma = \\begin{bmatrix} 0.01 & 0.0 &  0.0 \\\\ 0.0 & 0.01 & 0.0 \\\\ 0.0 &  0.0 &  0.0001 \\end{bmatrix}$"
      ]
    },
    {
      "cell_type": "code",
      "execution_count": null,
      "metadata": {
        "trusted": true
      },
      "outputs": [],
      "source": [
        "v = Variable(\"x1\", VariableType.Pose2.value)\n",
        "result_v = await addVariable(navability_client, client, v)\n",
        "print(f\"Added {v.label} with result ID {result_v}\")\n",
        "odo_distribution = FullNormal(mu=[1.0, 0.0, np.pi/2], cov=np.power(np.diag([0.1, 0.1, 0.01]),2))\n",
        "fac_1 = Factor(\"x0x1f1\", \"Pose2Pose2\", [\"x0\", \"x1\"], FactorData(fnc=Pose2Pose2(Z=odo_distribution).dump()))\n",
        "result_fac_1 = await addFactor(navability_client, client, fac_1) \n",
        "print(f\"Added {fac_1.label} with result ID {result_fac_1}\")\n",
        "\n",
        "# Wait for it to be loaded.\n",
        "await waitForCompletion(navability_client, [result_v, result_fac_1])"
      ]
    },
    {
      "cell_type": "markdown",
      "metadata": {},
      "source": [
        "Lets look at the factor graph again"
      ]
    },
    {
      "cell_type": "code",
      "execution_count": null,
      "metadata": {
        "trusted": true
      },
      "outputs": [],
      "source": [
        "# click the generated graphic to link to the NavAbiltiy WebApp visualization\n",
        "GraphVizApp(client)"
      ]
    },
    {
      "cell_type": "markdown",
      "metadata": {},
      "source": [
        "## Solving\n",
        "\n",
        "We now have a graph we can solve using the Multi-Modal iSAM (MM-iSAM) algorithm. \n",
        "The default solver will perform non-parametric inference/state-estimation over our newly created graph.\n",
        "\n",
        "Fundamentally, inference is performed via the Bayes (junction) tree where Chapman-Kolmogorov transit integral solutions are based on marginal-joint belief estimation (a sum-product / belief-propagation approximation algorithm). Many benefits such as clique recycling are also available. See the [Solving Graphs](https://juliarobotics.org/Caesar.jl/latest/concepts/solving_graphs/) section in the documentation for more detail."
      ]
    },
    {
      "cell_type": "code",
      "execution_count": null,
      "metadata": {
        "trusted": true
      },
      "outputs": [],
      "source": [
        "solve_request = await solveSession(navability_client, client)\n",
        "print('running solve...')\n",
        "# Wait for it to be loaded, the very first solve might be slower as some JIT compiling may occur\n",
        "await waitForCompletion(navability_client, [solve_request], maxSeconds=120)"
      ]
    },
    {
      "cell_type": "markdown",
      "metadata": {},
      "source": [
        "A _slightly_ more the mathy explination.  A factor graph represents the factorization of the overall joint probability belief function that describes your system.\n",
        "It represents a breakdown of the complex problem describing your robot navigation, and does so in a way that a computer can work through in a very efficient manner. \n",
        "This factorization allows us to solve the optimization (a.k.a. inference) problem for all variables given every measurement described by the factors.\n",
        "\n",
        "### Multi-Sensor Data Fusion\n",
        "\n",
        "In our example so far, the graph models the position and orientation (pose) of your robot at any given time, and soon we will add relative measurements to landmarks using a different sensor but captured in the same factor graph. "
      ]
    },
    {
      "cell_type": "markdown",
      "metadata": {},
      "source": [
        "## Results\n",
        "\n",
        "The NavAbility WebApp allows visualization of the belief state over any of the variables.  Also try with Belief and Distribution buttons to see more of the underlying posterior marginal belief estimates."
      ]
    },
    {
      "cell_type": "code",
      "execution_count": null,
      "metadata": {
        "trusted": true
      },
      "outputs": [],
      "source": [
        "# click the generated graphic to link to the NavAbiltiy WebApp visualization\n",
        "MapVizApp(client)"
      ]
    },
    {
      "cell_type": "markdown",
      "metadata": {},
      "source": [
        "**What is happening**\n",
        "\n",
        "The figure shows the position and orientation (red forward) for poses `x0` and `x1`. As well as the covariance ellipse. \n",
        "Since the solver used was non-parametric, the covariance ellipse is based on a best Gaussian distribution fit of the full belief.\n",
        "A few other functions are also handy for interacting with the factor graph, for instance `getVariable` returns the full variable.\n",
        "Or if you are interested in the suggested Parametric Point Estimate (PPE) you can get this from the PPE data."
      ]
    },
    {
      "cell_type": "code",
      "execution_count": null,
      "metadata": {
        "trusted": true
      },
      "outputs": [],
      "source": [
        "variables = await ls(navability_client, client)\n",
        "print(f\"Variables in graph: {variables}\")\n",
        "ppes = {\n",
        "        v: (await getVariable(navability_client, client, v)).ppes[\"default\"].suggested\n",
        "        for v in variables\n",
        "    }\n",
        "print(ppes)"
      ]
    },
    {
      "cell_type": "markdown",
      "metadata": {},
      "source": [
        "**Parametric point estimates and beliefs**\n",
        "\n",
        "A PPE can be the maximum or mean of the belief. \n",
        "If the belief is a normal distribution, both correspond with its mean. \n",
        "However, care should be taken with using PPEs when beliefs might be non-parametric, for example, in a multimodal belief with two peaks, max corresponds with the maximum of the two peaks while the mean will fall somewhere in between them. \n",
        "In non-parametric cases, it is better to work with the full belief obtained by the Kernel Density Estimate (KDE).  \n",
        "Kernel Density Estimation is a non-parametric way to estimate the probability density function of a random variable.\n",
        "With the default solver, a full probability density function is always available and can be visualized as shown by the distribution plot feature in the NavAbility WebApp.\n",
        "Non-parametric solutions will be discussed in more detail in tutorial 2."
      ]
    },
    {
      "cell_type": "code",
      "execution_count": null,
      "metadata": {
        "trusted": true
      },
      "outputs": [],
      "source": [
        "# click the generated graphic to link to the NavAbiltiy WebApp visualization\n",
        "MapVizApp(client)"
      ]
    },
    {
      "cell_type": "markdown",
      "metadata": {},
      "source": [
        "More plotting options exist, depending on how you are accessing the data.  See the [section on Plotting in the Caesar docs](https://juliarobotics.org/Caesar.jl/latest/concepts/2d_plotting/) for additional detail."
      ]
    },
    {
      "cell_type": "markdown",
      "metadata": {},
      "source": [
        "## Adding A Landmark from a Different Sensor\n",
        "\n",
        "So far we worked with the `Pose2` factor type. \n",
        "Among others, `NavAbilitySDK` also provides the `Point2` variable and `Pose2Point2BearingRange` factor types, which we will use to represent a landmark sighting in our factor graph.\n",
        "We will add a landmark `l1` with bearing range measurement of bearing=$(\\mu=0,\\sigma=0.03)$ range=$(\\mu=0.5,\\sigma=0.1)$ and continue our robot trajectory by driving around in a square."
      ]
    },
    {
      "cell_type": "code",
      "execution_count": null,
      "metadata": {
        "trusted": true
      },
      "outputs": [],
      "source": [
        "variables = [\n",
        "  Variable(\"l1\", VariableType.Point2.value),\n",
        "  Variable(\"x2\", VariableType.Pose2.value),\n",
        "  Variable(\"x3\", VariableType.Pose2.value),\n",
        "  Variable(\"x4\", VariableType.Pose2.value)]\n",
        "results_variables = [await addVariable(navability_client, client, v) for v in variables]\n",
        "\n",
        "factors = [\n",
        "  # TODO\n",
        "  Factor(\"x0l1f1\", \"Pose2Point2BearingRange\", [\"x0\", \"l1\"], \n",
        "      FactorData(fnc=Pose2Point2BearingRange(Normal(0.0,0.03), Normal(0.5,0.1)).dump())),\n",
        "  Factor(\"x1x2f1\", \"Pose2Pose2\", [\"x1\", \"x2\"], \n",
        "      FactorData(fnc=Pose2Pose2(odo_distribution).dump())),\n",
        "  Factor(\"x2x3f1\", \"Pose2Pose2\", [\"x2\", \"x3\"], \n",
        "      FactorData(fnc=Pose2Pose2(odo_distribution).dump())),\n",
        "  Factor(\"x3x4f1\", \"Pose2Pose2\", [\"x3\", \"x4\"], \n",
        "      FactorData(fnc=Pose2Pose2(odo_distribution).dump())),\n",
        "]\n",
        "results_factors = [await addFactor(navability_client, client, f) for f in factors]\n",
        "await waitForCompletion(navability_client, results_variables + results_factors)"
      ]
    },
    {
      "cell_type": "markdown",
      "metadata": {},
      "source": [
        "Lets go look at the factor graph now, again using the NavAbilityApp"
      ]
    },
    {
      "cell_type": "code",
      "execution_count": null,
      "metadata": {
        "trusted": true
      },
      "outputs": [],
      "source": [
        "# click the generated graphic to link to the NavAbiltiy WebApp visualization\n",
        "GraphVizApp(client)"
      ]
    },
    {
      "cell_type": "markdown",
      "metadata": {},
      "source": [
        "We now have a longer odometry chain with one landmark sighting, let's solve the factor graph again so we can have a look at the results."
      ]
    },
    {
      "cell_type": "code",
      "execution_count": null,
      "metadata": {
        "trusted": true
      },
      "outputs": [],
      "source": [
        "solve_request = await solveSession(navability_client, client)\n",
        "print('running solve...')\n",
        "# Wait for it to be loaded.\n",
        "await waitForCompletion(navability_client, [solve_request], maxSeconds=120)"
      ]
    },
    {
      "cell_type": "markdown",
      "metadata": {},
      "source": [
        "The solve will take a bit of time.  Just keep watching the geometric visualization, which will automatically update as more of the solution is published"
      ]
    },
    {
      "cell_type": "code",
      "execution_count": null,
      "metadata": {
        "trusted": true
      },
      "outputs": [],
      "source": [
        "# click the generated graphic to link to the NavAbiltiy WebApp visualization\n",
        "MapVizApp(client)"
      ]
    },
    {
      "cell_type": "markdown",
      "metadata": {},
      "source": [
        "Once solving has completed, the variable results can be looked at in various ways.  Here we are just looking at the PPE values, but the full posterior marginal beliefs are available by simply asking for more results."
      ]
    },
    {
      "cell_type": "code",
      "execution_count": null,
      "metadata": {
        "trusted": true
      },
      "outputs": [],
      "source": [
        "#pl = plotSLAM2D(fg, drawContour=false, drawEllipse=true, drawhist=false, drawPoints=false)\n",
        "# TODO: Need l1 to solve for this to work correctly.\n",
        "variables = await ls(navability_client, client)\n",
        "print(f\"Variables in graph: {variables}\")\n",
        "ppes = {\n",
        "        v: (await getVariable(navability_client, client, v)).ppes.get(\"default\").suggested\n",
        "        for v in variables\n",
        "    }\n",
        "print(ppes)"
      ]
    },
    {
      "cell_type": "markdown",
      "metadata": {},
      "source": [
        "### Adding a Loop Closure\n",
        "\n",
        "As expected, the robot continued its square trajectory to end off where it started. \n",
        "To illustrate a loop closure, we add another bearing range sighting to from pose `x4` to landmark `l1`, solve the graph and plot the new results: "
      ]
    },
    {
      "cell_type": "code",
      "execution_count": null,
      "metadata": {
        "trusted": true
      },
      "outputs": [],
      "source": [
        "p2br = Factor(\"x4l1f1\", \"Pose2Point2BearingRange\", [\"x4\", \"l1\"], \n",
        "          FactorData(fnc=Pose2Point2BearingRange(Normal(0.0,0.03), Normal(0.5,0.1)).dump()))\n",
        "result_factor = await addFactor(navability_client, client, p2br)\n",
        "await waitForCompletion(navability_client, [result_factor])"
      ]
    },
    {
      "cell_type": "code",
      "execution_count": null,
      "metadata": {
        "trusted": true
      },
      "outputs": [],
      "source": [
        "solve_request = await solveSession(navability_client, client)\n",
        "print('running solve...')\n",
        "# Wait for it to be loaded.\n",
        "await waitForCompletion(navability_client, [solve_request], maxSeconds=120)"
      ]
    },
    {
      "cell_type": "markdown",
      "metadata": {},
      "source": [
        "Lets go look at the final results again, which now includes the loop closure.  Use the 'Show Belief', 'Show Distribution' buttons along the bottom for more visual information.  You can also trigger new solves (as long as the Global Filter fields are properly set in the far right filter menu).\n",
        "\n",
        "Use the NavAbilityApp hamburger menu on the left to navigate between the graph and geometric map visualization.  You can also use the Global Filter menu on the right to set which information to visualize."
      ]
    },
    {
      "cell_type": "code",
      "execution_count": null,
      "metadata": {
        "trusted": true
      },
      "outputs": [],
      "source": [
        "# click the generated graphic to link to the NavAbiltiy WebApp visualization\n",
        "GraphVizApp(client)"
      ]
    },
    {
      "cell_type": "code",
      "execution_count": null,
      "metadata": {
        "trusted": true
      },
      "outputs": [],
      "source": [
        "# click the generated graphic to link to the NavAbiltiy WebApp visualization\n",
        "MapVizApp(client)"
      ]
    },
    {
      "cell_type": "markdown",
      "metadata": {},
      "source": [
        "## Next Steps\n",
        "\n",
        "Tutorial 2 will give an introduction to non-parametric solutions.\n",
        "\n",
        "## Additional Resources\n",
        "\n",
        "### Factors are On-Manifold\n",
        "\n",
        "The variables used in this tutorial, `Point2` and `Pose2`, are represented as points on manifolds and all algebraic operations, inference/optimization are also performed on manifold.\n",
        "For more information on how manifolds are used in Caesar.jl, refer to the [manifold section in the documentation](https://juliarobotics.org/Caesar.jl/latest/concepts/using_manifolds/).\n",
        "\n",
        "### Custom Variables and Factors\n",
        "\n",
        "In most scenarios, the existing variables and factors should be sufficient for most robotics applications. \n",
        "Caesar however, is extensible and allows you to easily incorporate your own variable and factor types for specialized applications.\n",
        "\n",
        "Have a look at the Caesar documentation if you are interested in creating custom variables, factors (or priors)\n",
        "\n",
        "- [Custom variables](https://juliarobotics.org/Caesar.jl/latest/examples/custom_variables/)\n",
        "- [Custom prior factors](https://juliarobotics.org/Caesar.jl/latest/examples/basic_definingfactors/)\n",
        "- [Custom relative factors](https://juliarobotics.org/Caesar.jl/latest/examples/custom_relative_factors/)\n",
        "\n",
        "\n",
        "### Bayes (Junction) Tree\n",
        "\n",
        "Inference is performed on the Bayes tree see: [Bayes tree principles](https://juliarobotics.org/Caesar.jl/latest/principles/bayestreePrinciples/)"
      ]
    }
  ],
  "metadata": {
    "interpreter": {
      "hash": "83ab08a780811da2de8e18b103875593576497b9ffc167d292a4030da80c9602"
    },
    "kernelspec": {
      "display_name": "Python 3 (ipykernel)",
      "language": "python",
      "name": "python3"
    },
    "language_info": {
      "codemirror_mode": {
        "name": "ipython",
        "version": 3
      },
      "file_extension": ".py",
      "mimetype": "text/x-python",
      "name": "python",
      "nbconvert_exporter": "python",
      "pygments_lexer": "ipython3",
      "version": "3.8.12"
    }
  },
  "nbformat": 4,
  "nbformat_minor": 4
}
