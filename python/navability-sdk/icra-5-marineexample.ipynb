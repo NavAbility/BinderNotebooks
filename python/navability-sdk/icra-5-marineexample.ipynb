{
 "cells": [
  {
   "cell_type": "markdown",
   "metadata": {},
   "source": [
    "# UNDER CONSTRUCTION\n",
    "\n",
    "Please note this notebook is being developed for ICRA2022, please see earlier for tutorial notebooks that have been completed."
   ]
  },
  {
   "cell_type": "markdown",
   "metadata": {},
   "source": [
    "# Tutorial 5: Less Time Wrangling Data, More Time Understanding/Actioning it\n",
    "\n",
    "**API Version: Python NavAbilitySDK.py**\n",
    "\n",
    "### Problem Statement\n",
    "\n",
    "Marine operations in harbor and populated river environments will see increased autonomy with major benefits for safety and efficacy, but the navigational environment poses a number of vital challenges.  In developing and testing proof-of-concept systems, four very specific challenges arose:\n",
    "- GPS data can occasionaly drop out, specifically when maneuvering under bridges or between tall structures;\n",
    "- Various perception sensors each perform really well with reasonable availability for seeing obstacles or aiding navigation, but no one sensor alone provides a home run solution;\n",
    "- Practical development testing an operations produces large amounts of recorded robot data, but the data quickly becomes overwhelming and difficult to action;\n",
    "- How to share / integrate measurement data and navigation between agents (human or autonomous), as well as with shore side operations;\n",
    "\n",
    "### The Solution\n",
    "\n",
    "Using the NavAbility Platform, we developed a case study for marine vehicle navigation which direclty addresses these problems.  The underlying SLAM solver is supported by NavAbility as open core software.  Links to the open source code and deeper discussions are available by following links from [the relevant Blog post](https://www.navability.io/2022/02/04/application-example-marine-vehicle-mapping-systems-for-collision-avoidance-and-planning/).\n",
    "\n",
    "This tutorial below shows how to interact with similar data quickly, efficiently, and with maximum ease.  This tutorial builds on previous tutorials that show how and why factor graphs are so important, as well other tutorials showing some of the robust (non-Gaussian) solver features that are available when building multi-sensor navigation and mapping systems that must combine challenging, ambiguous, and contradictory measurements and data cues.\n",
    "\n",
    "### The Value (Broader Application)\n",
    "\n",
    "- By being able to rapidly develop advanced multisensor perception, localization, and mapping ideas drastically reduces the cost and risk of introducing highly focussed autonomy/safety features into existing operations.\n",
    "- Access to both raw data and actionable SLAM results provides a major platform for machine learning tasks, such as training predictors that have either geometric of semantic relevance -- e.g. learning vehicle behaviors or better classifiers.\n",
    "- Access to a temporal/spatial database allows various sessions to be brought together with NavAbility's map merging technology -- this will be the discussed more in a future tutorial.\n",
    "\n",
    "By providing these features through platform and open community, NavAbility is working to give you access to the similar capabilities that marjor brands like Tesla or Amazon are developing privately."
   ]
  },
  {
   "cell_type": "markdown",
   "metadata": {},
   "source": [
    "## A Marine SLAM Solution\n",
    "\n",
    "The marine case study shows benefits value of persistent simultaneous localization and mapping SLAM solutions.\n",
    "```\n",
    "Raw Data --> NavAbility Platform SLAM Solving -----> Action / Visualize Results\n",
    "          ^                                    |\n",
    "          |                                    |\n",
    "        Enhance the  <--------------- Deeper processing of data\n",
    "        factor graph                    with previous resutls\n",
    "```"
   ]
  },
  {
   "cell_type": "markdown",
   "metadata": {},
   "source": [
    "## The Data is Alive and Available\n",
    "\n",
    "> Sketch how the data exists\n",
    "\n",
    "- Show that the factor graph exists\n",
    "- Show the size of the factor graph\n",
    "- Show which variables and factors are in the factor graph\n",
    "\n",
    "In the sections hereafter, you will learn more about which data is being stored in each of these graph nodes, how the SLAM solution is processed and why that is crucial for multisensor navigation, and how to immediately interact the data on the platform for youself. \n"
   ]
  },
  {
   "cell_type": "markdown",
   "metadata": {},
   "source": [
    "Load the necessary packages or accesing the data:"
   ]
  },
  {
   "cell_type": "code",
   "execution_count": null,
   "metadata": {},
   "outputs": [],
   "source": [
    "# load libraries for accessing the data\n",
    "from navability.entities import *\n",
    "from navability.services import *\n",
    "from uuid import uuid4\n",
    "import asyncio\n",
    "\n",
    "# use markdown to link to graph and map visualizations\n",
    "from IPython.display import Markdown as md\n",
    "\n",
    "# Helper functions for NavAbility App visualizations\n",
    "def GraphVizApp(client):\n",
    "  topography_vis_link = f\"https://app.navability.io/cloud/graph/?userId={client.userId}&robotStartsWith={client.robotId}&sessionStartsWith={client.sessionId}\"\n",
    "  print(topography_vis_link)\n",
    "  try:\n",
    "    return md(f\"\"\"[![Navigate to Factor Graph](http://www.navability.io/wp-content/uploads/2022/03/factor_graph.png)]({topography_vis_link})\"\"\")\n",
    "  except:\n",
    "    return\n",
    "\n",
    "def MapVizApp(client):\n",
    "  geometry_vis_link = f\"https://app.navability.io/cloud/map/?userId={client.userId}&robotStartsWith={client.robotId}&sessionStartsWith={client.sessionId}\"\n",
    "  print(geometry_vis_link)\n",
    "  try:\n",
    "    return md(f\"\"\"[![Navigate to Factor Graph](http://www.navability.io/wp-content/uploads/2022/03/geometric_map.png)]({geometry_vis_link})\"\"\")\n",
    "  except:\n",
    "    return"
   ]
  },
  {
   "cell_type": "markdown",
   "metadata": {},
   "source": [
    "### Guest has Robot:Session => MarineASV_ICRA2022:Tutorial5_ReadOnly\n",
    "\n",
    "Point the SDK context to the right location, but selecting the User:Robot:Session"
   ]
  },
  {
   "cell_type": "code",
   "execution_count": null,
   "metadata": {},
   "outputs": [],
   "source": [
    "client = NavAbilityHttpsClient()\n",
    "# you need a unique userId:robotId, and can keep using that across all tutorials\n",
    "userId = \"guest@navability.io\"\n",
    "robotId = \"MarineASV_ICRA2022\"\n",
    "sessionId = \"Tutorial5_ReadOnly\"\n",
    "\n",
    "context = Client(userId, robotId, sessionId)"
   ]
  },
  {
   "cell_type": "markdown",
   "metadata": {},
   "source": [
    "To get a sense of scale of the dataset, we can look at the number of variables under this session:"
   ]
  },
  {
   "cell_type": "code",
   "execution_count": null,
   "metadata": {},
   "outputs": [],
   "source": [
    "lbls = await listVariables(client, context)"
   ]
  },
  {
   "cell_type": "markdown",
   "metadata": {},
   "source": [
    "## Bring your own Visualizer (BYOV)\n",
    "\n",
    "We expect most applications already have a dedicated visualizer techonology choice, and this is good.  The localization and mapping processing here is focussed on providing robust and distributed **results which can be incorporated into existing visualization frameworks**.\n",
    "\n",
    "To make this tutorial accessible, we show the Marine Case study data with the following visualization..."
   ]
  },
  {
   "cell_type": "markdown",
   "metadata": {},
   "source": [
    "## Building the Map with/without GPS\n",
    "\n",
    "A major emphasis of this tutorial is highlighting the importance of robust navigation from all sensors and data sources, while knowing that each sensor has it's own problems and is unlikely to work perfectly 100% of the time -- e.g. GPS fails under bridges when being jammed, cameras fail when the sun or reflections are in the field of view, and radar cross section detections and shadows can vary significatnly.  By embracing non-Gaussian / multimodal data processing challenges head on, we are able to add significant value to the ease and robustness with which the necessary localization / mapping / tracking solutions that need to be developed.\n",
    "\n",
    "[![Marine Appl Ex](http://www.navability.io/wp-content/uploads/2022/04/MarineRadarAlignFigure-1024x485-1.png)](https://www.navability.io/2022/02/04/application-example-marine-vehicle-mapping-systems-for-collision-avoidance-and-planning/)\n",
    "\n",
    "Pull two radar sweeps and show a slice of the correlation maps from ScatterAlignPose2 -- discuss."
   ]
  },
  {
   "cell_type": "code",
   "execution_count": null,
   "metadata": {},
   "outputs": [],
   "source": []
  },
  {
   "cell_type": "markdown",
   "metadata": {},
   "source": [
    "## Find / Track Obstacles with NavAbilitySDK\n",
    "\n",
    "### Query spatial relationships,\n",
    "\n",
    "- What is here there, or nearby\n",
    "- What might see this target\n",
    "\n",
    "### Find Boats in Camera Data\n",
    "\n",
    "- Pull image data,\n",
    "- Process camera image with user side needs,\n",
    "\n",
    "### Track Boats in the Radar Data\n",
    "\n",
    "### Combining Camera / Radar info Back into Factor Graph\n",
    "\n",
    "- Dummy stub for uploading data back (not allowed under guest, please sign up for write access to a session)\n",
    "- Pull all this data into the factor graph and ask for a new solve\n",
    "\n",
    "### We Baked one Earlier\n",
    "\n",
    "- Show a piece of the factor graph where a target object boat is being tracked by both camera and radar factors in the graph,\n",
    "- Visualize the trajectory of the target boat, which was estimated from our vehicle regardless of whether GPS was working or not!"
   ]
  },
  {
   "cell_type": "markdown",
   "metadata": {},
   "source": [
    "\n",
    "## Next Steps\n",
    "\n",
    "If you have interest in NavAbility and what our technology can do, please reach out via [Slack](https://join.slack.com/t/caesarjl/shared_invite/zt-ucs06bwg-y2tEbddwX1vR18MASnOLsw) or [info@navability.io](info@navability.io)."
   ]
  }
 ],
 "metadata": {
  "language_info": {
   "name": "python"
  },
  "orig_nbformat": 4
 },
 "nbformat": 4,
 "nbformat_minor": 2
}
