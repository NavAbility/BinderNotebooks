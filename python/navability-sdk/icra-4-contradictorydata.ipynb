{
 "cells": [
  {
   "cell_type": "code",
   "execution_count": null,
   "metadata": {},
   "outputs": [],
   "source": [
    "# # ONLY IF REQUIRED, Install a pip package in the current Jupyter kernel\n",
    "# import sys\n",
    "# !{sys.executable} -m pip install navabilitysdk"
   ]
  },
  {
   "cell_type": "code",
   "execution_count": null,
   "metadata": {},
   "outputs": [],
   "source": [
    "from navability.entities import *\n",
    "from navability.services import *\n",
    "from uuid import uuid4\n",
    "import asyncio\n",
    "import numpy as np"
   ]
  },
  {
   "cell_type": "code",
   "execution_count": null,
   "metadata": {},
   "outputs": [],
   "source": [
    "\n",
    "client = NavAbilityHttpsClient()\n",
    "context = Client(\"guest@navability.io\", \"SDKpy_\" + str(uuid4())[0:4], \"Tutorial4_\" + str(uuid4())[0:4])\n",
    "\n"
   ]
  },
  {
   "cell_type": "code",
   "execution_count": null,
   "metadata": {},
   "outputs": [],
   "source": [
    "# Click on the generated factor graph graphic to open NavAbility App visualization\n",
    "MapVizApp(context)\n"
   ]
  },
  {
   "cell_type": "code",
   "execution_count": null,
   "metadata": {},
   "outputs": [],
   "source": [
    "# Click on the generated factor graph graphic to open NavAbility App visualization\n",
    "GraphVizApp(context)"
   ]
  },
  {
   "cell_type": "code",
   "execution_count": null,
   "metadata": {},
   "outputs": [],
   "source": [
    "\n",
    "result_id = await addVariable(client, context, Variable(\"c0\", VariableType.Pose2.value))\n",
    "result_id = await addVariable(client, context, Variable(\"c1\", VariableType.Pose2.value))\n",
    "result_id = await addVariable(client, context, Variable(\"c2\", VariableType.Pose2.value))\n",
    "result_id = await addVariable(client, context, Variable(\"c3\", VariableType.Pose2.value))\n",
    "result_id = await addVariable(client, context, Variable(\"door_prior\", VariableType.Pose2.value))\n",
    "result_id = await addVariable(client, context, Variable(\"door_dual\", VariableType.Pose2.value))\n",
    "\n",
    "\n",
    "prior_distr= np.power(np.diag([0.1, 0.1, 0.01]),2)\n",
    "dual_distr= np.power(np.diag([0.5, 0.5, np.sqrt(np.pi)]),2)\n",
    "\n",
    "\n",
    "f = Factor(\"l0f1\", \"PriorPose2\", [\"c0\"], FactorData(fnc=PriorPose2(Z=FullNormal(mu=[0.,0, 0], cov=prior_distr)).dump()))\n",
    "result_id = await addFactor(client, context, f) \n",
    "f = Factor(\"c1f1\", \"PriorPose2\", [\"c1\"], FactorData(fnc=PriorPose2(Z=FullNormal(mu=[20.,0, np.pi/2], cov=prior_distr)).dump()))\n",
    "result_id = await addFactor(client, context, f) \n",
    "f = Factor(\"c2f1\", \"PriorPose2\", [\"c2\"], FactorData(fnc=PriorPose2(Z=FullNormal(mu=[20.,10, np.pi], cov=prior_distr)).dump()))\n",
    "result_id = await addFactor(client, context, f) \n",
    "f = Factor(\"c3f1\", \"PriorPose2\", [\"c3\"], FactorData(fnc=PriorPose2(Z=FullNormal(mu=[0.,10, -np.pi/2], cov=prior_distr)).dump()))\n",
    "result_id = await addFactor(client, context, f) \n",
    "\n",
    "f = Factor(\"door_priorf1\", \"PriorPose2\", [\"door_prior\"], FactorData(fnc=PriorPose2(Z=FullNormal(mu=[20., 4, 0], cov=prior_distr)).dump()))\n",
    "result_id = await addFactor(client, context, f) \n",
    "f = Factor(\"door_dualf1\", \"PriorPose2\", [\"door_dual\"], FactorData(fnc=PriorPose2(Z=FullNormal(mu=[20., 4, np.pi], cov=dual_distr)).dump()))\n",
    "result_id = await addFactor(client, context, f) \n",
    "\n"
   ]
  },
  {
   "cell_type": "code",
   "execution_count": null,
   "metadata": {},
   "outputs": [],
   "source": [
    "\n",
    "result_id = await addVariable(client, context, Variable(\"x0\", VariableType.Pose2.value))\n",
    "\n",
    "\n",
    "f = Factor(\"x0c0c1c2c3f1\", \n",
    "           \"Pose2Pose2\", \n",
    "           [\"x0\", \"c0\", \"c1\", \"c2\", \"c3\"], \n",
    "           FactorData(fnc=PriorPose2(Z=FullNormal(mu=[-2.,-2, 0], cov=np.power(np.diag([0.5, 0.5, 0.05]),2))).dump(), \n",
    "                      multihypo=[1.0, 0.25, 0.25, 0.25, 0.25])\n",
    ")\n",
    "result_id = await addFactor(client, context, f) \n",
    "\n",
    "await waitForCompletion(client, [result_id])"
   ]
  },
  {
   "cell_type": "code",
   "execution_count": null,
   "metadata": {},
   "outputs": [],
   "source": [
    "solve_request = await solveSession(client, context)\n",
    "print('running solve...')\n",
    "\n",
    "await waitForCompletion(client, [solve_request], maxSeconds=180)"
   ]
  },
  {
   "cell_type": "code",
   "execution_count": null,
   "metadata": {},
   "outputs": [],
   "source": [
    "result_id = await addVariable(client, context, Variable(\"x1\", VariableType.Pose2.value))\n",
    "\n",
    "f = Factor(\"x0x1f1\", \n",
    "           \"Pose2Pose2\", \n",
    "           [\"x0\", \"x1\"], \n",
    "           FactorData(fnc=PriorPose2(Z=FullNormal(mu=[4.,0, np.pi/2], cov=np.power(np.diag([0.5, 0.5, 0.05]),2))).dump(),\n",
    "           nullhypo=0.5)\n",
    ")\n",
    "result_id = await addFactor(client, context, f) \n",
    "\n",
    "f = Factor(\"x1c0c1c2c3f1\", \n",
    "           \"Pose2Pose2\", \n",
    "           [\"x1\", \"c0\", \"c1\", \"c2\", \"c3\"], \n",
    "           FactorData(fnc=PriorPose2(Z=FullNormal(mu=[-2.,-4, 0], cov=np.power(np.diag([0.5, 0.5, 0.05]),2))).dump(), \n",
    "                      multihypo=[1.0, 0.25, 0.25, 0.25, 0.25])\n",
    ")\n",
    "result_id = await addFactor(client, context, f) \n",
    "\n",
    "await waitForCompletion(client, [result_id])\n"
   ]
  },
  {
   "cell_type": "code",
   "execution_count": null,
   "metadata": {},
   "outputs": [],
   "source": [
    "solve_request = await solveSession(client, context)\n"
   ]
  },
  {
   "cell_type": "code",
   "execution_count": null,
   "metadata": {},
   "outputs": [],
   "source": [
    "result_id = await addVariable(client, context, Variable(\"x2\", VariableType.Pose2.value))\n",
    "\n",
    "f = Factor(\"x1x2f1\", \n",
    "           \"Pose2Pose2\", \n",
    "           [\"x1\", \"x2\"], \n",
    "           FactorData(fnc=PriorPose2(Z=FullNormal(mu=[16.,0, 0], cov=np.power(np.diag([0.5, 0.5, 0.05]),2))).dump())\n",
    ")\n",
    "result_id = await addFactor(client, context, f) \n",
    "\n",
    "f = Factor(\"x2c0c1c2c3f1\", \n",
    "           \"Pose2Pose2\", \n",
    "           [\"x2\", \"c0\", \"c1\", \"c2\", \"c3\"], \n",
    "           FactorData(fnc=PriorPose2(Z=FullNormal(mu=[2.,-4, np.pi/2], cov=np.power(np.diag([0.5, 0.5, 0.05]),2))).dump(), \n",
    "                      multihypo=[1.0, 0.25, 0.25, 0.25, 0.25])\n",
    ")\n",
    "result_id = await addFactor(client, context, f) \n",
    "\n",
    "await waitForCompletion(client, [result_id])\n"
   ]
  },
  {
   "cell_type": "code",
   "execution_count": null,
   "metadata": {},
   "outputs": [],
   "source": [
    "solve_request = await solveSession(client, context)\n",
    "print('running solve...')\n",
    "\n",
    "await waitForCompletion(client, [solve_request], maxSeconds=180)"
   ]
  },
  {
   "cell_type": "code",
   "execution_count": null,
   "metadata": {},
   "outputs": [],
   "source": [
    "f = Factor(\"x2doorf1\", \n",
    "           \"Pose2Pose2\", \n",
    "           [\"x2\", \"door_prior\", \"door_dual\"], \n",
    "           FactorData(fnc=PriorPose2(Z=FullNormal(mu=[2., 0, np.pi], cov=np.power(np.diag([0.5, 0.5, 0.05]),2))).dump(), \n",
    "                      multihypo=[1.0, 0.5, 0.5])\n",
    ")\n",
    "result_id = await addFactor(client, context, f) \n",
    "\n",
    "await waitForCompletion(client, [result_id])"
   ]
  },
  {
   "cell_type": "code",
   "execution_count": null,
   "metadata": {},
   "outputs": [],
   "source": [
    "solve_request = await solveSession(client, context)\n",
    "print('running solve...')\n",
    "\n",
    "await waitForCompletion(client, [solve_request], maxSeconds=180)"
   ]
  }
 ],
 "metadata": {
  "kernelspec": {
   "display_name": "Julia 1.7.2",
   "language": "julia",
   "name": "julia-1.7"
  },
  "language_info": {
   "file_extension": ".jl",
   "mimetype": "application/julia",
   "name": "julia",
   "version": "1.7.2"
  },
  "orig_nbformat": 4
 },
 "nbformat": 4,
 "nbformat_minor": 2
}
