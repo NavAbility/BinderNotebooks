{
 "cells": [
  {
   "cell_type": "code",
   "execution_count": null,
   "metadata": {},
   "outputs": [],
   "source": [
    "# # ONLY IF REQUIRED, Install a pip package in the current Jupyter kernel\n",
    "# import sys\n",
    "# !{sys.executable} -m pip install navabilitysdk"
   ]
  },
  {
   "cell_type": "code",
   "execution_count": null,
   "metadata": {},
   "outputs": [],
   "source": [
    "from navability.entities import *\n",
    "from navability.services import *\n",
    "from uuid import uuid4\n",
    "import asyncio\n",
    "import numpy as np"
   ]
  },
  {
   "cell_type": "code",
   "execution_count": null,
   "metadata": {},
   "outputs": [],
   "source": [
    "\n",
    "navability_client = NavAbilityHttpsClient()\n",
    "client = Client(\"guest@navability.io\", \"SDKpy_\" + str(uuid4())[0:4], \"Tutorial4_\" + str(uuid4())[0:4])\n",
    "\n"
   ]
  },
  {
   "cell_type": "code",
   "execution_count": null,
   "metadata": {},
   "outputs": [],
   "source": [
    "# Click on the generated factor graph graphic to open NavAbility App visualization\n",
    "MapVizApp(context)\n"
   ]
  },
  {
   "cell_type": "code",
   "execution_count": null,
   "metadata": {},
   "outputs": [],
   "source": [
    "# Click on the generated factor graph graphic to open NavAbility App visualization\n",
    "GraphVizApp(context)"
   ]
  },
  {
   "cell_type": "code",
   "execution_count": null,
   "metadata": {},
   "outputs": [],
   "source": [
    "\n",
    "result_id = await addVariable(navability_client, client, Variable(\"l0\", VariableType.Pose2.value))\n",
    "result_id = await addVariable(navability_client, client, Variable(\"l1\", VariableType.Pose2.value))\n",
    "result_id = await addVariable(navability_client, client, Variable(\"l2\", VariableType.Pose2.value))\n",
    "result_id = await addVariable(navability_client, client, Variable(\"l3\", VariableType.Pose2.value))\n",
    "result_id = await addVariable(navability_client, client, Variable(\"l4_h1\", VariableType.Pose2.value))\n",
    "result_id = await addVariable(navability_client, client, Variable(\"l4_h2\", VariableType.Pose2.value))\n",
    "\n",
    "\n",
    "prior_distr= np.power(np.diag([0.1, 0.1, 0.01]),2)\n",
    "\n",
    "f = Factor(\"l0f1\", \"PriorPose2\", [\"l0\"], FactorData(fnc=PriorPose2(Z=FullNormal(mu=[0.,0, 0], cov=prior_distr)).dump()))\n",
    "result_id = await addFactor(navability_client, client, f) \n",
    "f = Factor(\"l1f1\", \"PriorPose2\", [\"l1\"], FactorData(fnc=PriorPose2(Z=FullNormal(mu=[20.,0, np.pi/2], cov=prior_distr)).dump()))\n",
    "result_id = await addFactor(navability_client, client, f) \n",
    "f = Factor(\"l2f1\", \"PriorPose2\", [\"l2\"], FactorData(fnc=PriorPose2(Z=FullNormal(mu=[20.,10, np.pi], cov=prior_distr)).dump()))\n",
    "result_id = await addFactor(navability_client, client, f) \n",
    "f = Factor(\"l3f1\", \"PriorPose2\", [\"l3\"], FactorData(fnc=PriorPose2(Z=FullNormal(mu=[0.,10, -np.pi/2], cov=prior_distr)).dump()))\n",
    "result_id = await addFactor(navability_client, client, f) \n",
    "\n",
    "f = Factor(\"l4_h1f1\", \"PriorPose2\", [\"l4_h1\"], FactorData(fnc=PriorPose2(Z=FullNormal(mu=[20., 4, 0], cov=prior_distr)).dump()))\n",
    "result_id = await addFactor(navability_client, client, f) \n",
    "f = Factor(\"l4_h2f1\", \"PriorPose2\", [\"l4_h2\"], FactorData(fnc=PriorPose2(Z=FullNormal(mu=[20., 4, np.pi], cov=prior_distr)).dump()))\n",
    "result_id = await addFactor(navability_client, client, f) \n",
    "\n"
   ]
  },
  {
   "cell_type": "code",
   "execution_count": null,
   "metadata": {},
   "outputs": [],
   "source": [
    "\n",
    "result_id = await addVariable(navability_client, client, Variable(\"x0\", VariableType.Pose2.value))\n",
    "\n",
    "\n",
    "f = Factor(\"x0l0l1l2l3f1\", \n",
    "           \"Pose2Pose2\", \n",
    "           [\"x0\", \"l0\", \"l1\", \"l2\", \"l3\"], \n",
    "           FactorData(fnc=PriorPose2(Z=FullNormal(mu=[-2.,-2, 0], cov=np.power(np.diag([0.5, 0.5, 0.05]),2))).dump(), \n",
    "                      multihypo=[1.0, 0.25, 0.25, 0.25, 0.25])\n",
    ")\n",
    "result_id = await addFactor(navability_client, client, f) \n"
   ]
  },
  {
   "cell_type": "code",
   "execution_count": null,
   "metadata": {},
   "outputs": [],
   "source": [
    "solve_request = await solveSession(navability_client, client)\n"
   ]
  },
  {
   "cell_type": "code",
   "execution_count": null,
   "metadata": {},
   "outputs": [],
   "source": [
    "result_id = await addVariable(navability_client, client, Variable(\"x1\", VariableType.Pose2.value))\n",
    "\n",
    "f = Factor(\"x0x1f1\", \n",
    "           \"Pose2Pose2\", \n",
    "           [\"x0\", \"x1\"], \n",
    "           FactorData(fnc=PriorPose2(Z=FullNormal(mu=[4.,0, np.pi/2], cov=np.power(np.diag([0.5, 0.5, 0.05]),2))).dump())\n",
    ")\n",
    "result_id = await addFactor(navability_client, client, f) \n",
    "\n",
    "f = Factor(\"x1l0l1l2l3f1\", \n",
    "           \"Pose2Pose2\", \n",
    "           [\"x1\", \"l0\", \"l1\", \"l2\", \"l3\"], \n",
    "           FactorData(fnc=PriorPose2(Z=FullNormal(mu=[-2.,-4, 0], cov=np.power(np.diag([0.5, 0.5, 0.05]),2))).dump(), \n",
    "                      multihypo=[1.0, 0.25, 0.25, 0.25, 0.25])\n",
    ")\n",
    "result_id = await addFactor(navability_client, client, f) \n"
   ]
  },
  {
   "cell_type": "code",
   "execution_count": null,
   "metadata": {},
   "outputs": [],
   "source": [
    "solve_request = await solveSession(navability_client, client)\n"
   ]
  },
  {
   "cell_type": "code",
   "execution_count": null,
   "metadata": {},
   "outputs": [],
   "source": [
    "result_id = await addVariable(navability_client, client, Variable(\"x2\", VariableType.Pose2.value))\n",
    "\n",
    "f = Factor(\"x1x2f1\", \n",
    "           \"Pose2Pose2\", \n",
    "           [\"x1\", \"x2\"], \n",
    "           FactorData(fnc=PriorPose2(Z=FullNormal(mu=[16.,0, 0], cov=np.power(np.diag([0.5, 0.5, 0.05]),2))).dump())\n",
    ")\n",
    "result_id = await addFactor(navability_client, client, f) \n",
    "\n",
    "f = Factor(\"x2l0l1l2l3f1\", \n",
    "           \"Pose2Pose2\", \n",
    "           [\"x2\", \"l0\", \"l1\", \"l2\", \"l3\"], \n",
    "           FactorData(fnc=PriorPose2(Z=FullNormal(mu=[2.,-4, np.pi/2], cov=np.power(np.diag([0.5, 0.5, 0.05]),2))).dump(), \n",
    "                      multihypo=[1.0, 0.25, 0.25, 0.25, 0.25])\n",
    ")\n",
    "result_id = await addFactor(navability_client, client, f) \n"
   ]
  },
  {
   "cell_type": "code",
   "execution_count": null,
   "metadata": {},
   "outputs": [],
   "source": [
    "solve_request = await solveSession(navability_client, client)\n"
   ]
  },
  {
   "cell_type": "code",
   "execution_count": null,
   "metadata": {},
   "outputs": [],
   "source": [
    "f = Factor(\"x2l4f1\", \n",
    "           \"Pose2Pose2\", \n",
    "           [\"x2\", \"l4_h1\", \"l4_h2\"], \n",
    "           FactorData(fnc=PriorPose2(Z=FullNormal(mu=[2., 0, np.pi], cov=np.power(np.diag([0.5, 0.5, 0.05]),2))).dump(), \n",
    "                      multihypo=[1.0, 0.5, 0.5])\n",
    ")\n",
    "result_id = await addFactor(navability_client, client, f) "
   ]
  },
  {
   "cell_type": "code",
   "execution_count": null,
   "metadata": {},
   "outputs": [],
   "source": [
    "solve_request = await solveSession(navability_client, client)\n"
   ]
  }
 ],
 "metadata": {
  "kernelspec": {
   "display_name": "Julia 1.7.2",
   "language": "julia",
   "name": "julia-1.7"
  },
  "language_info": {
   "file_extension": ".jl",
   "mimetype": "application/julia",
   "name": "julia",
   "version": "1.7.2"
  },
  "orig_nbformat": 4
 },
 "nbformat": 4,
 "nbformat_minor": 2
}
