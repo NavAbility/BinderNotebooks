{
 "cells": [
  {
   "cell_type": "markdown",
   "metadata": {},
   "source": [
    "# Tutorial 1: Creating and Solving Factor Graphs\n",
    "In this tutorial you will learn how to create, solve, and explore factor graphs, as well as what variables, factors, and priors are.\n",
    "\n",
    "**API Version: NavAbilitySDK.js**\n",
    "\n",
    "Under construction, in the meantime see the Julia and Python versions of this notebook."
   ]
  },
  {
   "cell_type": "code",
   "execution_count": null,
   "metadata": {},
   "outputs": [],
   "source": [
    "console.log(\"TODO\")"
   ]
  }
 ],
 "metadata": {
  "language_info": {
   "name": "python"
  },
  "orig_nbformat": 4
 },
 "nbformat": 4,
 "nbformat_minor": 2
}
